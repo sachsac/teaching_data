{
  "nbformat": 4,
  "nbformat_minor": 0,
  "metadata": {
    "colab": {
      "name": "TA Hours Model",
      "provenance": [],
      "mount_file_id": "1yS7gVKGAI_-aj19BhInKspsJRKMtvmMt",
      "authorship_tag": "ABX9TyNl9sxtkqOb5E5czVdcDMkb",
      "include_colab_link": true
    },
    "kernelspec": {
      "name": "python3",
      "display_name": "Python 3"
    },
    "language_info": {
      "name": "python"
    }
  },
  "cells": [
    {
      "cell_type": "markdown",
      "metadata": {
        "id": "view-in-github",
        "colab_type": "text"
      },
      "source": [
        "<a href=\"https://colab.research.google.com/github/sachsac/teaching_data/blob/main/TA_Hours_Model.ipynb\" target=\"_parent\"><img src=\"https://colab.research.google.com/assets/colab-badge.svg\" alt=\"Open In Colab\"/></a>"
      ]
    },
    {
      "cell_type": "code",
      "execution_count": 285,
      "metadata": {
        "id": "Of7lJ0LMGfC_",
        "colab": {
          "base_uri": "https://localhost:8080/",
          "height": 206
        },
        "outputId": "32a483f2-e4a3-472b-cea3-abea4502e5c3"
      },
      "outputs": [
        {
          "output_type": "execute_result",
          "data": {
            "text/html": [
              "\n",
              "  <div id=\"df-df15d715-32df-4373-bba3-049242028697\">\n",
              "    <div class=\"colab-df-container\">\n",
              "      <div>\n",
              "<style scoped>\n",
              "    .dataframe tbody tr th:only-of-type {\n",
              "        vertical-align: middle;\n",
              "    }\n",
              "\n",
              "    .dataframe tbody tr th {\n",
              "        vertical-align: top;\n",
              "    }\n",
              "\n",
              "    .dataframe thead th {\n",
              "        text-align: right;\n",
              "    }\n",
              "</style>\n",
              "<table border=\"1\" class=\"dataframe\">\n",
              "  <thead>\n",
              "    <tr style=\"text-align: right;\">\n",
              "      <th></th>\n",
              "      <th>Cohort</th>\n",
              "      <th>Time</th>\n",
              "      <th>Date</th>\n",
              "      <th>Day of week</th>\n",
              "      <th>Time in Military</th>\n",
              "      <th>Off Hours Request? Y/N</th>\n",
              "    </tr>\n",
              "  </thead>\n",
              "  <tbody>\n",
              "    <tr>\n",
              "      <th>0</th>\n",
              "      <td>Sherlin</td>\n",
              "      <td>18:12:00</td>\n",
              "      <td>2021-12-22</td>\n",
              "      <td>Wed</td>\n",
              "      <td>1812</td>\n",
              "      <td>No</td>\n",
              "    </tr>\n",
              "    <tr>\n",
              "      <th>1</th>\n",
              "      <td>Sherlin</td>\n",
              "      <td>19:27:00</td>\n",
              "      <td>2021-12-12</td>\n",
              "      <td>Sun</td>\n",
              "      <td>1927</td>\n",
              "      <td>Yes</td>\n",
              "    </tr>\n",
              "    <tr>\n",
              "      <th>2</th>\n",
              "      <td>Josh</td>\n",
              "      <td>20:16:00</td>\n",
              "      <td>2022-01-05</td>\n",
              "      <td>Wed</td>\n",
              "      <td>2016</td>\n",
              "      <td>No</td>\n",
              "    </tr>\n",
              "    <tr>\n",
              "      <th>3</th>\n",
              "      <td>Josh</td>\n",
              "      <td>23:05:00</td>\n",
              "      <td>2021-12-09</td>\n",
              "      <td>Thu</td>\n",
              "      <td>2305</td>\n",
              "      <td>No</td>\n",
              "    </tr>\n",
              "    <tr>\n",
              "      <th>4</th>\n",
              "      <td>Josh</td>\n",
              "      <td>21:25:00</td>\n",
              "      <td>2021-12-08</td>\n",
              "      <td>Wed</td>\n",
              "      <td>2125</td>\n",
              "      <td>No</td>\n",
              "    </tr>\n",
              "  </tbody>\n",
              "</table>\n",
              "</div>\n",
              "      <button class=\"colab-df-convert\" onclick=\"convertToInteractive('df-df15d715-32df-4373-bba3-049242028697')\"\n",
              "              title=\"Convert this dataframe to an interactive table.\"\n",
              "              style=\"display:none;\">\n",
              "        \n",
              "  <svg xmlns=\"http://www.w3.org/2000/svg\" height=\"24px\"viewBox=\"0 0 24 24\"\n",
              "       width=\"24px\">\n",
              "    <path d=\"M0 0h24v24H0V0z\" fill=\"none\"/>\n",
              "    <path d=\"M18.56 5.44l.94 2.06.94-2.06 2.06-.94-2.06-.94-.94-2.06-.94 2.06-2.06.94zm-11 1L8.5 8.5l.94-2.06 2.06-.94-2.06-.94L8.5 2.5l-.94 2.06-2.06.94zm10 10l.94 2.06.94-2.06 2.06-.94-2.06-.94-.94-2.06-.94 2.06-2.06.94z\"/><path d=\"M17.41 7.96l-1.37-1.37c-.4-.4-.92-.59-1.43-.59-.52 0-1.04.2-1.43.59L10.3 9.45l-7.72 7.72c-.78.78-.78 2.05 0 2.83L4 21.41c.39.39.9.59 1.41.59.51 0 1.02-.2 1.41-.59l7.78-7.78 2.81-2.81c.8-.78.8-2.07 0-2.86zM5.41 20L4 18.59l7.72-7.72 1.47 1.35L5.41 20z\"/>\n",
              "  </svg>\n",
              "      </button>\n",
              "      \n",
              "  <style>\n",
              "    .colab-df-container {\n",
              "      display:flex;\n",
              "      flex-wrap:wrap;\n",
              "      gap: 12px;\n",
              "    }\n",
              "\n",
              "    .colab-df-convert {\n",
              "      background-color: #E8F0FE;\n",
              "      border: none;\n",
              "      border-radius: 50%;\n",
              "      cursor: pointer;\n",
              "      display: none;\n",
              "      fill: #1967D2;\n",
              "      height: 32px;\n",
              "      padding: 0 0 0 0;\n",
              "      width: 32px;\n",
              "    }\n",
              "\n",
              "    .colab-df-convert:hover {\n",
              "      background-color: #E2EBFA;\n",
              "      box-shadow: 0px 1px 2px rgba(60, 64, 67, 0.3), 0px 1px 3px 1px rgba(60, 64, 67, 0.15);\n",
              "      fill: #174EA6;\n",
              "    }\n",
              "\n",
              "    [theme=dark] .colab-df-convert {\n",
              "      background-color: #3B4455;\n",
              "      fill: #D2E3FC;\n",
              "    }\n",
              "\n",
              "    [theme=dark] .colab-df-convert:hover {\n",
              "      background-color: #434B5C;\n",
              "      box-shadow: 0px 1px 3px 1px rgba(0, 0, 0, 0.15);\n",
              "      filter: drop-shadow(0px 1px 2px rgba(0, 0, 0, 0.3));\n",
              "      fill: #FFFFFF;\n",
              "    }\n",
              "  </style>\n",
              "\n",
              "      <script>\n",
              "        const buttonEl =\n",
              "          document.querySelector('#df-df15d715-32df-4373-bba3-049242028697 button.colab-df-convert');\n",
              "        buttonEl.style.display =\n",
              "          google.colab.kernel.accessAllowed ? 'block' : 'none';\n",
              "\n",
              "        async function convertToInteractive(key) {\n",
              "          const element = document.querySelector('#df-df15d715-32df-4373-bba3-049242028697');\n",
              "          const dataTable =\n",
              "            await google.colab.kernel.invokeFunction('convertToInteractive',\n",
              "                                                     [key], {});\n",
              "          if (!dataTable) return;\n",
              "\n",
              "          const docLinkHtml = 'Like what you see? Visit the ' +\n",
              "            '<a target=\"_blank\" href=https://colab.research.google.com/notebooks/data_table.ipynb>data table notebook</a>'\n",
              "            + ' to learn more about interactive tables.';\n",
              "          element.innerHTML = '';\n",
              "          dataTable['output_type'] = 'display_data';\n",
              "          await google.colab.output.renderOutput(dataTable, element);\n",
              "          const docLink = document.createElement('div');\n",
              "          docLink.innerHTML = docLinkHtml;\n",
              "          element.appendChild(docLink);\n",
              "        }\n",
              "      </script>\n",
              "    </div>\n",
              "  </div>\n",
              "  "
            ],
            "text/plain": [
              "    Cohort      Time  ... Time in Military Off Hours Request? Y/N\n",
              "0  Sherlin  18:12:00  ...             1812                     No\n",
              "1  Sherlin  19:27:00  ...             1927                    Yes\n",
              "2     Josh  20:16:00  ...             2016                     No\n",
              "3     Josh  23:05:00  ...             2305                     No\n",
              "4     Josh  21:25:00  ...             2125                     No\n",
              "\n",
              "[5 rows x 6 columns]"
            ]
          },
          "metadata": {},
          "execution_count": 285
        }
      ],
      "source": [
        "df = pd.read_excel('/content/drive/MyDrive/Work/Independent Projects/TA work/TA helping.xlsx')\n",
        "df.drop(columns='Student', inplace = True) #dropping for anonymity\n",
        "df.head()"
      ]
    },
    {
      "cell_type": "code",
      "source": [
        "df.info()"
      ],
      "metadata": {
        "colab": {
          "base_uri": "https://localhost:8080/"
        },
        "id": "xoUEf5PAX704",
        "outputId": "c552fccb-55ff-4631-d206-0f62263601d4"
      },
      "execution_count": 286,
      "outputs": [
        {
          "output_type": "stream",
          "name": "stdout",
          "text": [
            "<class 'pandas.core.frame.DataFrame'>\n",
            "RangeIndex: 48 entries, 0 to 47\n",
            "Data columns (total 6 columns):\n",
            " #   Column                  Non-Null Count  Dtype         \n",
            "---  ------                  --------------  -----         \n",
            " 0   Cohort                  48 non-null     object        \n",
            " 1   Time                    48 non-null     object        \n",
            " 2   Date                    48 non-null     datetime64[ns]\n",
            " 3   Day of week             48 non-null     object        \n",
            " 4   Time in Military        48 non-null     int64         \n",
            " 5   Off Hours Request? Y/N  48 non-null     object        \n",
            "dtypes: datetime64[ns](1), int64(1), object(4)\n",
            "memory usage: 2.4+ KB\n"
          ]
        }
      ]
    },
    {
      "cell_type": "code",
      "source": [
        "import pandas as pd\n",
        "import numpy as np\n",
        "import seaborn as sns\n",
        "import matplotlib.pyplot as plt\n",
        "from sklearn.model_selection import train_test_split\n",
        "from sklearn.preprocessing import StandardScaler, OneHotEncoder\n",
        "from sklearn.pipeline import make_pipeline\n",
        "from sklearn.compose import make_column_selector, make_column_transformer"
      ],
      "metadata": {
        "id": "ywDjxxV5W2nx"
      },
      "execution_count": 287,
      "outputs": []
    },
    {
      "cell_type": "markdown",
      "source": [
        "# Can we predict if a student will contact after hours vs during hours?\n",
        "(A Classification Problem)\n",
        "Although the Regression Problem was unable to be tackled using this data, can it more reliably help with a classification question?"
      ],
      "metadata": {
        "id": "vDgmSeZsWrKx"
      }
    },
    {
      "cell_type": "code",
      "source": [
        "from sklearn.metrics import classification_report, plot_confusion_matrix\n",
        "from sklearn.ensemble import GradientBoostingClassifier\n",
        "from sklearn.neighbors import KNeighborsClassifier\n",
        "from sklearn.linear_model import LogisticRegression\n",
        "from xgboost import XGBClassifier"
      ],
      "metadata": {
        "id": "J0G6u_IpbVuo"
      },
      "execution_count": 288,
      "outputs": []
    },
    {
      "cell_type": "code",
      "source": [
        "#although it is the same data set, we need to redo our train test split and preprocessing steps\n",
        "X = df.drop(columns = 'Off Hours Request? Y/N')\n",
        "y = df['Off Hours Request? Y/N']"
      ],
      "metadata": {
        "id": "LiCLtvzUeMTf"
      },
      "execution_count": 289,
      "outputs": []
    },
    {
      "cell_type": "code",
      "metadata": {
        "id": "fGngbohCrknJ"
      },
      "source": [
        "X_train, X_test, y_train, y_test = train_test_split(X, y, random_state = 42, stratify = y)"
      ],
      "execution_count": 290,
      "outputs": []
    },
    {
      "cell_type": "code",
      "source": [
        "#code to check the split of our variables\n",
        "unique, counts = np.unique(y_train, return_counts=True)\n",
        "print('Counts of each class in Training:', dict(zip(unique, counts)))\n",
        "unique, counts = np.unique(y_test, return_counts=True)\n",
        "print('Counts of each class in Test:', dict(zip(unique, counts)))"
      ],
      "metadata": {
        "colab": {
          "base_uri": "https://localhost:8080/"
        },
        "id": "o2QeIYHneW7Q",
        "outputId": "40258ad0-a006-4cea-cb92-8f8879013812"
      },
      "execution_count": 291,
      "outputs": [
        {
          "output_type": "stream",
          "name": "stdout",
          "text": [
            "Counts of each class in Training: {'No': 22, 'Yes': 14}\n",
            "Counts of each class in Test: {'No': 7, 'Yes': 5}\n"
          ]
        }
      ]
    },
    {
      "cell_type": "code",
      "source": [
        "cat_selector = make_column_selector(dtype_include='object')\n",
        "num_selector = make_column_selector(dtype_include='number')\n",
        "scaler = StandardScaler()\n",
        "encoder = OneHotEncoder(sparse=False, handle_unknown='ignore')"
      ],
      "metadata": {
        "id": "HHYy2_8je13p"
      },
      "execution_count": 292,
      "outputs": []
    },
    {
      "cell_type": "code",
      "source": [
        "num_tuple = (scaler, num_selector)\n",
        "cat_tuple = (encoder, cat_selector)"
      ],
      "metadata": {
        "id": "-73L8bUie13p"
      },
      "execution_count": 293,
      "outputs": []
    },
    {
      "cell_type": "code",
      "source": [
        "col_trans = make_column_transformer(num_tuple, cat_tuple)\n",
        "col_trans.fit(X_train)"
      ],
      "metadata": {
        "colab": {
          "base_uri": "https://localhost:8080/"
        },
        "outputId": "954facfb-8ec3-4197-a173-665f9c791c7a",
        "id": "DLlPXmO6e13p"
      },
      "execution_count": 294,
      "outputs": [
        {
          "output_type": "execute_result",
          "data": {
            "text/plain": [
              "ColumnTransformer(transformers=[('standardscaler', StandardScaler(),\n",
              "                                 <sklearn.compose._column_transformer.make_column_selector object at 0x7f9fd8239510>),\n",
              "                                ('onehotencoder',\n",
              "                                 OneHotEncoder(handle_unknown='ignore',\n",
              "                                               sparse=False),\n",
              "                                 <sklearn.compose._column_transformer.make_column_selector object at 0x7f9fd8239090>)])"
            ]
          },
          "metadata": {},
          "execution_count": 294
        }
      ]
    },
    {
      "cell_type": "code",
      "source": [
        "X_train = col_trans.transform(X_train)\n",
        "X_test = col_trans.transform(X_test)"
      ],
      "metadata": {
        "id": "Nn1xVXE0e13q"
      },
      "execution_count": 295,
      "outputs": []
    },
    {
      "cell_type": "code",
      "source": [
        "print('Baseline Training Accuracy:')\n",
        "print(y_train.value_counts(normalize=True))\n",
        "print()\n",
        "print('Baseline Testing Accuracy:')\n",
        "print(y_test.value_counts(normalize=True))  "
      ],
      "metadata": {
        "colab": {
          "base_uri": "https://localhost:8080/"
        },
        "id": "e-puV4uXid6D",
        "outputId": "a860c915-442a-4093-ca13-bb0d4c0a2eef"
      },
      "execution_count": 296,
      "outputs": [
        {
          "output_type": "stream",
          "name": "stdout",
          "text": [
            "Baseline Training Accuracy:\n",
            "No     0.611111\n",
            "Yes    0.388889\n",
            "Name: Off Hours Request? Y/N, dtype: float64\n",
            "\n",
            "Baseline Testing Accuracy:\n",
            "No     0.583333\n",
            "Yes    0.416667\n",
            "Name: Off Hours Request? Y/N, dtype: float64\n"
          ]
        }
      ]
    },
    {
      "cell_type": "code",
      "source": [
        "lr = LogisticRegression(random_state=42)\n",
        "lr.fit(X_train, y_train)\n",
        "y_pred = lr.predict(X_test)\n",
        "print('Logistic Regression Performance')\n",
        "print(metrics.classification_report(y_test, y_pred))\n",
        "knn = KNeighborsClassifier()\n",
        "knn.fit(X_train, y_train)\n",
        "y_pred2 = knn.predict(X_test)\n",
        "print('KNN Performance')\n",
        "print(metrics.classification_report(y_test, y_pred2))\n",
        "xgb = XGBClassifier(random_state=42)\n",
        "xgb.fit(X_train, y_train)\n",
        "y_pred3 = xgb.predict(X_test)\n",
        "print('XGB Performance')\n",
        "print(metrics.classification_report(y_test, y_pred3))\n"
      ],
      "metadata": {
        "colab": {
          "base_uri": "https://localhost:8080/"
        },
        "id": "kpGgePaBe4Qy",
        "outputId": "74b55f97-4d64-460f-daf7-de1492bd90e2"
      },
      "execution_count": 297,
      "outputs": [
        {
          "output_type": "stream",
          "name": "stdout",
          "text": [
            "Logistic Regression Performance\n",
            "              precision    recall  f1-score   support\n",
            "\n",
            "          No       0.78      1.00      0.88         7\n",
            "         Yes       1.00      0.60      0.75         5\n",
            "\n",
            "    accuracy                           0.83        12\n",
            "   macro avg       0.89      0.80      0.81        12\n",
            "weighted avg       0.87      0.83      0.82        12\n",
            "\n",
            "KNN Performance\n",
            "              precision    recall  f1-score   support\n",
            "\n",
            "          No       0.71      0.71      0.71         7\n",
            "         Yes       0.60      0.60      0.60         5\n",
            "\n",
            "    accuracy                           0.67        12\n",
            "   macro avg       0.66      0.66      0.66        12\n",
            "weighted avg       0.67      0.67      0.67        12\n",
            "\n",
            "XGB Performance\n",
            "              precision    recall  f1-score   support\n",
            "\n",
            "          No       1.00      1.00      1.00         7\n",
            "         Yes       1.00      1.00      1.00         5\n",
            "\n",
            "    accuracy                           1.00        12\n",
            "   macro avg       1.00      1.00      1.00        12\n",
            "weighted avg       1.00      1.00      1.00        12\n",
            "\n"
          ]
        }
      ]
    },
    {
      "cell_type": "markdown",
      "source": [
        "XGB actually performs very well for this problem without hypertuning."
      ],
      "metadata": {
        "id": "-bWZiVQViw4c"
      }
    },
    {
      "cell_type": "code",
      "source": [
        "plot_confusion_matrix(xgb, X_test, y_test, cmap = 'Blues', values_format = 'd')\n",
        "plt.suptitle('');\n",
        "#the confusion matrix shows us visually what the classification report says\n",
        "#however, it also really shows us how small this data set is"
      ],
      "metadata": {
        "colab": {
          "base_uri": "https://localhost:8080/",
          "height": 338
        },
        "id": "VS2XNUt-fTq8",
        "outputId": "78f88316-09e2-4392-c1f4-5a2322749804"
      },
      "execution_count": 298,
      "outputs": [
        {
          "output_type": "stream",
          "name": "stderr",
          "text": [
            "/usr/local/lib/python3.7/dist-packages/sklearn/utils/deprecation.py:87: FutureWarning: Function plot_confusion_matrix is deprecated; Function `plot_confusion_matrix` is deprecated in 1.0 and will be removed in 1.2. Use one of the class methods: ConfusionMatrixDisplay.from_predictions or ConfusionMatrixDisplay.from_estimator.\n",
            "  warnings.warn(msg, category=FutureWarning)\n"
          ]
        },
        {
          "output_type": "display_data",
          "data": {
            "image/png": "[encoded data removed]",
            "text/plain": [
              "<Figure size 432x288 with 2 Axes>"
            ]
          },
          "metadata": {
            "needs_background": "light"
          }
        }
      ]
    }
  ]
}