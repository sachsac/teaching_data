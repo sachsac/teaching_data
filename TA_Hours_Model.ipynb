{
  "nbformat": 4,
  "nbformat_minor": 0,
  "metadata": {
    "colab": {
      "name": "TA Hours Model",
      "provenance": [],
      "collapsed_sections": [],
      "toc_visible": true,
      "mount_file_id": "1yS7gVKGAI_-aj19BhInKspsJRKMtvmMt",
      "authorship_tag": "ABX9TyNaPXK5zjExntAZkXrpcAFO",
      "include_colab_link": true
    },
    "kernelspec": {
      "name": "python3",
      "display_name": "Python 3"
    },
    "language_info": {
      "name": "python"
    }
  },
  "cells": [
    {
      "cell_type": "markdown",
      "metadata": {
        "id": "view-in-github",
        "colab_type": "text"
      },
      "source": [
        "<a href=\"https://colab.research.google.com/github/sachsac/teaching_data/blob/main/TA_Hours_Model.ipynb\" target=\"_parent\"><img src=\"https://colab.research.google.com/assets/colab-badge.svg\" alt=\"Open In Colab\"/></a>"
      ]
    },
    {
      "cell_type": "code",
      "source": [
        "#!pip install openpyxl==3.0.0"
      ],
      "metadata": {
        "id": "dh9SXSuZVEmL"
      },
      "execution_count": 1,
      "outputs": []
    },
    {
      "cell_type": "code",
      "source": [
        "from sklearn import set_config\n",
        "set_config(display='diagram')"
      ],
      "metadata": {
        "id": "v_AyM7f-W3hz"
      },
      "execution_count": 2,
      "outputs": []
    },
    {
      "cell_type": "markdown",
      "source": [
        "# Imports/Data Upload"
      ],
      "metadata": {
        "id": "FA8UZmwEgBgA"
      }
    },
    {
      "cell_type": "code",
      "source": [
        "import pandas as pd\n",
        "import numpy as np\n",
        "import seaborn as sns\n",
        "import matplotlib.pyplot as plt\n",
        "from sklearn.model_selection import train_test_split\n",
        "from sklearn.preprocessing import StandardScaler, OneHotEncoder\n",
        "from sklearn.pipeline import make_pipeline\n",
        "from sklearn.compose import make_column_selector, make_column_transformer\n",
        "from sklearn import metrics\n",
        "from sklearn.metrics import classification_report, accuracy_score\n",
        "plt.style.use('seaborn')"
      ],
      "metadata": {
        "id": "ywDjxxV5W2nx"
      },
      "execution_count": 3,
      "outputs": []
    },
    {
      "cell_type": "code",
      "source": [
        "#from https://stackoverflow.com/questions/26521266/using-pandas-to-pd-read-excel-for-multiple-worksheets-of-the-same-workbook\n",
        "sheet_lst_wanted = [\"AAS\",\"BAS\"] # tab names from Excel\n",
        "\n",
        "### import and compile data ###\n",
        "    \n",
        "# read all sheets from list into an ordered dictionary    \n",
        "dict_temp = pd.read_excel('/content/drive/MyDrive/Work/Independent Projects/TA work/TA helping.xlsx', sheet_name= sheet_lst_wanted)\n",
        "\n",
        "# concatenate the ordered dict items into a dataframe\n",
        "data = pd.concat(dict_temp, axis=0, ignore_index=True)\n",
        "data.info()"
      ],
      "metadata": {
        "id": "tbu86tecHscv",
        "colab": {
          "base_uri": "https://localhost:8080/"
        },
        "outputId": "2c4373d9-e9bd-4cc2-a1ad-a7febc2c2109"
      },
      "execution_count": 37,
      "outputs": [
        {
          "output_type": "stream",
          "name": "stdout",
          "text": [
            "<class 'pandas.core.frame.DataFrame'>\n",
            "RangeIndex: 141 entries, 0 to 140\n",
            "Data columns (total 29 columns):\n",
            " #   Column                     Non-Null Count  Dtype         \n",
            "---  ------                     --------------  -----         \n",
            " 0   Student                    141 non-null    object        \n",
            " 1   Cohort                     141 non-null    object        \n",
            " 2   Stack                      141 non-null    object        \n",
            " 3   Time                       141 non-null    object        \n",
            " 4   Date                       141 non-null    datetime64[ns]\n",
            " 5   Day of week                141 non-null    object        \n",
            " 6   Time (Pacific)             141 non-null    object        \n",
            " 7   Pacific Time (Military)    141 non-null    int64         \n",
            " 8   Off Hours Request? Y/N     141 non-null    object        \n",
            " 9   End Time                   42 non-null     object        \n",
            " 10  End Time Pacific           42 non-null     object        \n",
            " 11  End Time (Military)        42 non-null     float64       \n",
            " 12  Total Time helping (mins)  42 non-null     float64       \n",
            " 13  Unnamed: 13                0 non-null      float64       \n",
            " 14  Unnamed: 14                0 non-null      float64       \n",
            " 15  Unnamed: 15                0 non-null      float64       \n",
            " 16  Unnamed: 16                0 non-null      float64       \n",
            " 17  Unnamed: 17                0 non-null      float64       \n",
            " 18  Unnamed: 18                0 non-null      float64       \n",
            " 19  Unnamed: 19                0 non-null      float64       \n",
            " 20  Unnamed: 20                0 non-null      float64       \n",
            " 21  Unnamed: 21                0 non-null      float64       \n",
            " 22  Unnamed: 22                0 non-null      float64       \n",
            " 23  Unnamed: 23                0 non-null      float64       \n",
            " 24  Unnamed: 24                0 non-null      float64       \n",
            " 25  Unnamed: 25                0 non-null      float64       \n",
            " 26  Unnamed: 26                0 non-null      float64       \n",
            " 27  Unnamed: 27                0 non-null      float64       \n",
            " 28  Unnamed: 28                1 non-null      object        \n",
            "dtypes: datetime64[ns](1), float64(17), int64(1), object(10)\n",
            "memory usage: 32.1+ KB\n"
          ]
        }
      ]
    },
    {
      "cell_type": "code",
      "execution_count": 14,
      "metadata": {
        "id": "Of7lJ0LMGfC_",
        "colab": {
          "base_uri": "https://localhost:8080/",
          "height": 206
        },
        "outputId": "591ca936-b199-4fb9-c274-7dd5a8b50c67"
      },
      "outputs": [
        {
          "output_type": "execute_result",
          "data": {
            "text/plain": [
              "  Cohort                      Stack Time (Pacific)       Date Day of week  \\\n",
              "0   2/21          Data Fundamentals       11:08:00 2022-03-01         Tue   \n",
              "1  11/29  Advanced Machine Learning       17:50:00 2022-03-01         Tue   \n",
              "2   1/24           Machine Learning       18:04:00 2022-03-01         Tue   \n",
              "3  11/29  Advanced Machine Learning       18:47:00 2022-03-01         Tue   \n",
              "4  11/29  Advanced Machine Learning       14:06:00 2022-03-02         Wed   \n",
              "\n",
              "   Pacific Time (Military) Off Hours Request? Y/N  \n",
              "0                     1108                    Yes  \n",
              "1                     1750                     No  \n",
              "2                     1804                     No  \n",
              "3                     1847                     No  \n",
              "4                     1406                    Yes  "
            ],
            "text/html": [
              "\n",
              "  <div id=\"df-2a858d01-a1ff-49a1-9b28-fef204b1d1cd\">\n",
              "    <div class=\"colab-df-container\">\n",
              "      <div>\n",
              "<style scoped>\n",
              "    .dataframe tbody tr th:only-of-type {\n",
              "        vertical-align: middle;\n",
              "    }\n",
              "\n",
              "    .dataframe tbody tr th {\n",
              "        vertical-align: top;\n",
              "    }\n",
              "\n",
              "    .dataframe thead th {\n",
              "        text-align: right;\n",
              "    }\n",
              "</style>\n",
              "<table border=\"1\" class=\"dataframe\">\n",
              "  <thead>\n",
              "    <tr style=\"text-align: right;\">\n",
              "      <th></th>\n",
              "      <th>Cohort</th>\n",
              "      <th>Stack</th>\n",
              "      <th>Time (Pacific)</th>\n",
              "      <th>Date</th>\n",
              "      <th>Day of week</th>\n",
              "      <th>Pacific Time (Military)</th>\n",
              "      <th>Off Hours Request? Y/N</th>\n",
              "    </tr>\n",
              "  </thead>\n",
              "  <tbody>\n",
              "    <tr>\n",
              "      <th>0</th>\n",
              "      <td>2/21</td>\n",
              "      <td>Data Fundamentals</td>\n",
              "      <td>11:08:00</td>\n",
              "      <td>2022-03-01</td>\n",
              "      <td>Tue</td>\n",
              "      <td>1108</td>\n",
              "      <td>Yes</td>\n",
              "    </tr>\n",
              "    <tr>\n",
              "      <th>1</th>\n",
              "      <td>11/29</td>\n",
              "      <td>Advanced Machine Learning</td>\n",
              "      <td>17:50:00</td>\n",
              "      <td>2022-03-01</td>\n",
              "      <td>Tue</td>\n",
              "      <td>1750</td>\n",
              "      <td>No</td>\n",
              "    </tr>\n",
              "    <tr>\n",
              "      <th>2</th>\n",
              "      <td>1/24</td>\n",
              "      <td>Machine Learning</td>\n",
              "      <td>18:04:00</td>\n",
              "      <td>2022-03-01</td>\n",
              "      <td>Tue</td>\n",
              "      <td>1804</td>\n",
              "      <td>No</td>\n",
              "    </tr>\n",
              "    <tr>\n",
              "      <th>3</th>\n",
              "      <td>11/29</td>\n",
              "      <td>Advanced Machine Learning</td>\n",
              "      <td>18:47:00</td>\n",
              "      <td>2022-03-01</td>\n",
              "      <td>Tue</td>\n",
              "      <td>1847</td>\n",
              "      <td>No</td>\n",
              "    </tr>\n",
              "    <tr>\n",
              "      <th>4</th>\n",
              "      <td>11/29</td>\n",
              "      <td>Advanced Machine Learning</td>\n",
              "      <td>14:06:00</td>\n",
              "      <td>2022-03-02</td>\n",
              "      <td>Wed</td>\n",
              "      <td>1406</td>\n",
              "      <td>Yes</td>\n",
              "    </tr>\n",
              "  </tbody>\n",
              "</table>\n",
              "</div>\n",
              "      <button class=\"colab-df-convert\" onclick=\"convertToInteractive('df-2a858d01-a1ff-49a1-9b28-fef204b1d1cd')\"\n",
              "              title=\"Convert this dataframe to an interactive table.\"\n",
              "              style=\"display:none;\">\n",
              "        \n",
              "  <svg xmlns=\"http://www.w3.org/2000/svg\" height=\"24px\"viewBox=\"0 0 24 24\"\n",
              "       width=\"24px\">\n",
              "    <path d=\"M0 0h24v24H0V0z\" fill=\"none\"/>\n",
              "    <path d=\"M18.56 5.44l.94 2.06.94-2.06 2.06-.94-2.06-.94-.94-2.06-.94 2.06-2.06.94zm-11 1L8.5 8.5l.94-2.06 2.06-.94-2.06-.94L8.5 2.5l-.94 2.06-2.06.94zm10 10l.94 2.06.94-2.06 2.06-.94-2.06-.94-.94-2.06-.94 2.06-2.06.94z\"/><path d=\"M17.41 7.96l-1.37-1.37c-.4-.4-.92-.59-1.43-.59-.52 0-1.04.2-1.43.59L10.3 9.45l-7.72 7.72c-.78.78-.78 2.05 0 2.83L4 21.41c.39.39.9.59 1.41.59.51 0 1.02-.2 1.41-.59l7.78-7.78 2.81-2.81c.8-.78.8-2.07 0-2.86zM5.41 20L4 18.59l7.72-7.72 1.47 1.35L5.41 20z\"/>\n",
              "  </svg>\n",
              "      </button>\n",
              "      \n",
              "  <style>\n",
              "    .colab-df-container {\n",
              "      display:flex;\n",
              "      flex-wrap:wrap;\n",
              "      gap: 12px;\n",
              "    }\n",
              "\n",
              "    .colab-df-convert {\n",
              "      background-color: #E8F0FE;\n",
              "      border: none;\n",
              "      border-radius: 50%;\n",
              "      cursor: pointer;\n",
              "      display: none;\n",
              "      fill: #1967D2;\n",
              "      height: 32px;\n",
              "      padding: 0 0 0 0;\n",
              "      width: 32px;\n",
              "    }\n",
              "\n",
              "    .colab-df-convert:hover {\n",
              "      background-color: #E2EBFA;\n",
              "      box-shadow: 0px 1px 2px rgba(60, 64, 67, 0.3), 0px 1px 3px 1px rgba(60, 64, 67, 0.15);\n",
              "      fill: #174EA6;\n",
              "    }\n",
              "\n",
              "    [theme=dark] .colab-df-convert {\n",
              "      background-color: #3B4455;\n",
              "      fill: #D2E3FC;\n",
              "    }\n",
              "\n",
              "    [theme=dark] .colab-df-convert:hover {\n",
              "      background-color: #434B5C;\n",
              "      box-shadow: 0px 1px 3px 1px rgba(0, 0, 0, 0.15);\n",
              "      filter: drop-shadow(0px 1px 2px rgba(0, 0, 0, 0.3));\n",
              "      fill: #FFFFFF;\n",
              "    }\n",
              "  </style>\n",
              "\n",
              "      <script>\n",
              "        const buttonEl =\n",
              "          document.querySelector('#df-2a858d01-a1ff-49a1-9b28-fef204b1d1cd button.colab-df-convert');\n",
              "        buttonEl.style.display =\n",
              "          google.colab.kernel.accessAllowed ? 'block' : 'none';\n",
              "\n",
              "        async function convertToInteractive(key) {\n",
              "          const element = document.querySelector('#df-2a858d01-a1ff-49a1-9b28-fef204b1d1cd');\n",
              "          const dataTable =\n",
              "            await google.colab.kernel.invokeFunction('convertToInteractive',\n",
              "                                                     [key], {});\n",
              "          if (!dataTable) return;\n",
              "\n",
              "          const docLinkHtml = 'Like what you see? Visit the ' +\n",
              "            '<a target=\"_blank\" href=https://colab.research.google.com/notebooks/data_table.ipynb>data table notebook</a>'\n",
              "            + ' to learn more about interactive tables.';\n",
              "          element.innerHTML = '';\n",
              "          dataTable['output_type'] = 'display_data';\n",
              "          await google.colab.output.renderOutput(dataTable, element);\n",
              "          const docLink = document.createElement('div');\n",
              "          docLink.innerHTML = docLinkHtml;\n",
              "          element.appendChild(docLink);\n",
              "        }\n",
              "      </script>\n",
              "    </div>\n",
              "  </div>\n",
              "  "
            ]
          },
          "metadata": {},
          "execution_count": 14
        }
      ],
      "source": [
        "df = data[['Cohort', 'Stack','Time (Pacific)', 'Date', 'Day of week', 'Pacific Time (Military)', 'Off Hours Request? Y/N']]\n",
        "#exclude the end times as they do not apply to first contact\n",
        "#only needed one of the Time columns since they represent the same thing\n",
        "df.head()"
      ]
    },
    {
      "cell_type": "code",
      "source": [
        "df.info()"
      ],
      "metadata": {
        "id": "xoUEf5PAX704",
        "colab": {
          "base_uri": "https://localhost:8080/"
        },
        "outputId": "33fb43f6-ac37-444c-95ad-76cbb8dedfeb"
      },
      "execution_count": 8,
      "outputs": [
        {
          "output_type": "stream",
          "name": "stdout",
          "text": [
            "<class 'pandas.core.frame.DataFrame'>\n",
            "RangeIndex: 141 entries, 0 to 140\n",
            "Data columns (total 7 columns):\n",
            " #   Column                   Non-Null Count  Dtype         \n",
            "---  ------                   --------------  -----         \n",
            " 0   Cohort                   141 non-null    object        \n",
            " 1   Stack                    141 non-null    object        \n",
            " 2   Time (Pacific)           141 non-null    object        \n",
            " 3   Date                     141 non-null    datetime64[ns]\n",
            " 4   Day of week              141 non-null    object        \n",
            " 5   Pacific Time (Military)  141 non-null    int64         \n",
            " 6   Off Hours Request? Y/N   141 non-null    object        \n",
            "dtypes: datetime64[ns](1), int64(1), object(5)\n",
            "memory usage: 7.8+ KB\n"
          ]
        }
      ]
    },
    {
      "cell_type": "markdown",
      "source": [
        "#Classification Model\n"
      ],
      "metadata": {
        "id": "vDgmSeZsWrKx"
      }
    },
    {
      "cell_type": "markdown",
      "source": [
        "## Can we predict if a student will contact after hours vs during hours?\n",
        "(A Classification Problem)\n",
        "Although the Regression Problem was unable to be tackled using this data, can it more reliably help with a classification question?"
      ],
      "metadata": {
        "id": "3tbKh7FiM1h8"
      }
    },
    {
      "cell_type": "code",
      "source": [
        "from sklearn.metrics import classification_report, plot_confusion_matrix\n",
        "from sklearn.ensemble import GradientBoostingClassifier\n",
        "from sklearn.neighbors import KNeighborsClassifier\n",
        "from sklearn.linear_model import LogisticRegression\n",
        "from xgboost import XGBClassifier"
      ],
      "metadata": {
        "id": "J0G6u_IpbVuo"
      },
      "execution_count": 9,
      "outputs": []
    },
    {
      "cell_type": "code",
      "source": [
        "df.isnull().sum()"
      ],
      "metadata": {
        "colab": {
          "base_uri": "https://localhost:8080/"
        },
        "id": "yHVMOPf0uPaX",
        "outputId": "89738421-70d1-4c4a-e391-5eca1829ab12"
      },
      "execution_count": 10,
      "outputs": [
        {
          "output_type": "execute_result",
          "data": {
            "text/plain": [
              "Cohort                     0\n",
              "Stack                      0\n",
              "Time (Pacific)             0\n",
              "Date                       0\n",
              "Day of week                0\n",
              "Pacific Time (Military)    0\n",
              "Off Hours Request? Y/N     0\n",
              "dtype: int64"
            ]
          },
          "metadata": {},
          "execution_count": 10
        }
      ]
    },
    {
      "cell_type": "code",
      "source": [
        "#although it is the same data set, we need to redo our train test split and preprocessing steps\n",
        "X = df.drop(columns =['Off Hours Request? Y/N', 'Time (Pacific)', 'Pacific Time (Military)']) #Times/ Time in Military mostly used for analysis purposes\n",
        "y = df['Off Hours Request? Y/N']"
      ],
      "metadata": {
        "id": "LiCLtvzUeMTf"
      },
      "execution_count": 15,
      "outputs": []
    },
    {
      "cell_type": "code",
      "metadata": {
        "id": "fGngbohCrknJ"
      },
      "source": [
        "X_train, X_test, y_train, y_test = train_test_split(X, y, random_state = 42, stratify = y)"
      ],
      "execution_count": 16,
      "outputs": []
    },
    {
      "cell_type": "code",
      "source": [
        "#code to check the split of our variables\n",
        "unique, counts = np.unique(y_train, return_counts=True)\n",
        "print('Counts of each class in Training:', dict(zip(unique, counts)))\n",
        "unique, counts = np.unique(y_test, return_counts=True)\n",
        "print('Counts of each class in Test:', dict(zip(unique, counts)))"
      ],
      "metadata": {
        "id": "o2QeIYHneW7Q",
        "colab": {
          "base_uri": "https://localhost:8080/"
        },
        "outputId": "762d65a6-f617-4c09-fef5-767187a70a76"
      },
      "execution_count": 17,
      "outputs": [
        {
          "output_type": "stream",
          "name": "stdout",
          "text": [
            "Counts of each class in Training: {'No': 63, 'Yes': 42}\n",
            "Counts of each class in Test: {'No': 22, 'Yes': 14}\n"
          ]
        }
      ]
    },
    {
      "cell_type": "code",
      "source": [
        "cat_selector = make_column_selector(dtype_include='object')\n",
        "num_selector = make_column_selector(dtype_include='number')\n",
        "scaler = StandardScaler()\n",
        "encoder = OneHotEncoder(sparse=False, handle_unknown='ignore')"
      ],
      "metadata": {
        "id": "HHYy2_8je13p"
      },
      "execution_count": 18,
      "outputs": []
    },
    {
      "cell_type": "code",
      "source": [
        "num_tuple = (scaler, num_selector)\n",
        "cat_tuple = (encoder, cat_selector)"
      ],
      "metadata": {
        "id": "-73L8bUie13p"
      },
      "execution_count": 19,
      "outputs": []
    },
    {
      "cell_type": "code",
      "source": [
        "col_trans = make_column_transformer(num_tuple, cat_tuple)"
      ],
      "metadata": {
        "id": "DLlPXmO6e13p"
      },
      "execution_count": 20,
      "outputs": []
    },
    {
      "cell_type": "code",
      "source": [
        "X_train = col_trans.fit_transform(X_train)\n",
        "X_test = col_trans.transform(X_test)"
      ],
      "metadata": {
        "id": "Nn1xVXE0e13q"
      },
      "execution_count": 21,
      "outputs": []
    },
    {
      "cell_type": "code",
      "source": [
        "print('Baseline Training Accuracy:')\n",
        "print(y_train.value_counts(normalize=True))\n",
        "print()\n",
        "print('Baseline Testing Accuracy:')\n",
        "print(y_test.value_counts(normalize=True))  "
      ],
      "metadata": {
        "id": "e-puV4uXid6D",
        "colab": {
          "base_uri": "https://localhost:8080/"
        },
        "outputId": "7e5a98e1-1240-4b00-9a17-5f50d33032c6"
      },
      "execution_count": 22,
      "outputs": [
        {
          "output_type": "stream",
          "name": "stdout",
          "text": [
            "Baseline Training Accuracy:\n",
            "No     0.6\n",
            "Yes    0.4\n",
            "Name: Off Hours Request? Y/N, dtype: float64\n",
            "\n",
            "Baseline Testing Accuracy:\n",
            "No     0.611111\n",
            "Yes    0.388889\n",
            "Name: Off Hours Request? Y/N, dtype: float64\n"
          ]
        }
      ]
    },
    {
      "cell_type": "code",
      "source": [
        "lr = LogisticRegression(random_state=42)\n",
        "lr.fit(X_train, y_train)\n",
        "y_pred = lr.predict(X_test)\n",
        "print('Logistic Regression Train Performance')\n",
        "print(metrics.classification_report(y_train, lr.predict(X_train)))\n",
        "print('Logistic Regression Test Performance')\n",
        "print(metrics.classification_report(y_test, y_pred))\n",
        "display(plot_confusion_matrix(lr, X_train, y_train, cmap = 'Blues', values_format = 'd'))\n",
        "plt.grid(alpha=0)\n",
        "plt.suptitle('LR Performance on Train Data')\n",
        "plot_confusion_matrix(lr, X_test, y_test, cmap = 'Blues', values_format = 'd')\n",
        "plt.grid(alpha=0)\n",
        "plt.suptitle('LR Performance on Test Data');\n",
        "#the confusion matrix shows us visually what the classification report says\n",
        "#however, it also really shows us how small this data set is"
      ],
      "metadata": {
        "id": "kpGgePaBe4Qy",
        "colab": {
          "base_uri": "https://localhost:8080/",
          "height": 1000
        },
        "outputId": "646106d8-9edb-4369-d510-e7b94f6836b2"
      },
      "execution_count": 29,
      "outputs": [
        {
          "output_type": "stream",
          "name": "stdout",
          "text": [
            "Logistic Regression Train Performance\n",
            "              precision    recall  f1-score   support\n",
            "\n",
            "          No       0.82      0.94      0.87        63\n",
            "         Yes       0.88      0.69      0.77        42\n",
            "\n",
            "    accuracy                           0.84       105\n",
            "   macro avg       0.85      0.81      0.82       105\n",
            "weighted avg       0.84      0.84      0.83       105\n",
            "\n",
            "Logistic Regression Test Performance\n",
            "              precision    recall  f1-score   support\n",
            "\n",
            "          No       0.68      0.95      0.79        22\n",
            "         Yes       0.80      0.29      0.42        14\n",
            "\n",
            "    accuracy                           0.69        36\n",
            "   macro avg       0.74      0.62      0.61        36\n",
            "weighted avg       0.73      0.69      0.65        36\n",
            "\n"
          ]
        },
        {
          "output_type": "stream",
          "name": "stderr",
          "text": [
            "/usr/local/lib/python3.7/dist-packages/sklearn/utils/deprecation.py:87: FutureWarning: Function plot_confusion_matrix is deprecated; Function `plot_confusion_matrix` is deprecated in 1.0 and will be removed in 1.2. Use one of the class methods: ConfusionMatrixDisplay.from_predictions or ConfusionMatrixDisplay.from_estimator.\n",
            "  warnings.warn(msg, category=FutureWarning)\n"
          ]
        },
        {
          "output_type": "display_data",
          "data": {
            "text/plain": [
              "<sklearn.metrics._plot.confusion_matrix.ConfusionMatrixDisplay at 0x7fc15f8aef50>"
            ]
          },
          "metadata": {}
        },
        {
          "output_type": "stream",
          "name": "stderr",
          "text": [
            "/usr/local/lib/python3.7/dist-packages/sklearn/utils/deprecation.py:87: FutureWarning: Function plot_confusion_matrix is deprecated; Function `plot_confusion_matrix` is deprecated in 1.0 and will be removed in 1.2. Use one of the class methods: ConfusionMatrixDisplay.from_predictions or ConfusionMatrixDisplay.from_estimator.\n",
            "  warnings.warn(msg, category=FutureWarning)\n"
          ]
        },
        {
          "output_type": "display_data",
          "data": {
            "text/plain": [
              "<Figure size 576x396 with 2 Axes>"
            ],
            "image/png": "[encoded data removed]"
          },
          "metadata": {}
        },
        {
          "output_type": "display_data",
          "data": {
            "text/plain": [
              "<Figure size 576x396 with 2 Axes>"
            ],
            "image/png": "[encoded data removed]"
          },
          "metadata": {}
        }
      ]
    },
    {
      "cell_type": "code",
      "source": [
        "xgb = XGBClassifier(random_state=42)\n",
        "xgb.fit(X_train, y_train)\n",
        "y_pred3 = xgb.predict(X_test)\n",
        "\n",
        "#Classification Reports\n",
        "print('XGB Train Performance')\n",
        "print(metrics.classification_report(y_train,xgb.predict(X_train)))\n",
        "print('XGB Test Performance')\n",
        "print(metrics.classification_report(y_test, y_pred3))\n",
        "\n",
        "#Confusion Matrices\n",
        "plot_confusion_matrix(xgb, X_train, y_train, cmap = 'Blues', values_format = 'd')\n",
        "plt.grid(alpha=0)\n",
        "plt.suptitle('XGB Performance on Train Data')\n",
        "\n",
        "plot_confusion_matrix(xgb, X_test, y_test, cmap = 'Blues', values_format = 'd')\n",
        "plt.grid(alpha=0)\n",
        "plt.suptitle('XGB Performance on Test Data');\n",
        "#the confusion matrix shows us visually what the classification report says\n",
        "#however, it also really shows us how small this data set is"
      ],
      "metadata": {
        "colab": {
          "base_uri": "https://localhost:8080/",
          "height": 1000
        },
        "id": "7rcT6kFKh5XV",
        "outputId": "a0d29049-8f7d-46be-d774-886f7a94b095"
      },
      "execution_count": 30,
      "outputs": [
        {
          "output_type": "stream",
          "name": "stdout",
          "text": [
            "XGB Train Performance\n",
            "              precision    recall  f1-score   support\n",
            "\n",
            "          No       0.85      0.90      0.88        63\n",
            "         Yes       0.84      0.76      0.80        42\n",
            "\n",
            "    accuracy                           0.85       105\n",
            "   macro avg       0.85      0.83      0.84       105\n",
            "weighted avg       0.85      0.85      0.85       105\n",
            "\n",
            "XGB Test Performance\n",
            "              precision    recall  f1-score   support\n",
            "\n",
            "          No       0.67      0.73      0.70        22\n",
            "         Yes       0.50      0.43      0.46        14\n",
            "\n",
            "    accuracy                           0.61        36\n",
            "   macro avg       0.58      0.58      0.58        36\n",
            "weighted avg       0.60      0.61      0.60        36\n",
            "\n"
          ]
        },
        {
          "output_type": "stream",
          "name": "stderr",
          "text": [
            "/usr/local/lib/python3.7/dist-packages/sklearn/utils/deprecation.py:87: FutureWarning: Function plot_confusion_matrix is deprecated; Function `plot_confusion_matrix` is deprecated in 1.0 and will be removed in 1.2. Use one of the class methods: ConfusionMatrixDisplay.from_predictions or ConfusionMatrixDisplay.from_estimator.\n",
            "  warnings.warn(msg, category=FutureWarning)\n",
            "/usr/local/lib/python3.7/dist-packages/sklearn/utils/deprecation.py:87: FutureWarning: Function plot_confusion_matrix is deprecated; Function `plot_confusion_matrix` is deprecated in 1.0 and will be removed in 1.2. Use one of the class methods: ConfusionMatrixDisplay.from_predictions or ConfusionMatrixDisplay.from_estimator.\n",
            "  warnings.warn(msg, category=FutureWarning)\n"
          ]
        },
        {
          "output_type": "display_data",
          "data": {
            "text/plain": [
              "<Figure size 576x396 with 2 Axes>"
            ],
            "image/png": "[encoded data removed]"
          },
          "metadata": {}
        },
        {
          "output_type": "display_data",
          "data": {
            "text/plain": [
              "<Figure size 576x396 with 2 Axes>"
            ],
            "image/png": "[encoded data removed]"
          },
          "metadata": {}
        }
      ]
    },
    {
      "cell_type": "code",
      "source": [
        "knn = KNeighborsClassifier()\n",
        "knn.fit(X_train, y_train)\n",
        "y_pred2 = knn.predict(X_test)\n",
        "\n",
        "#classification reports\n",
        "print('KNN Train Performance')\n",
        "print(metrics.classification_report(y_train, knn.predict(X_train)))\n",
        "print('KNN Test Performance')\n",
        "print(metrics.classification_report(y_test, y_pred2))\n",
        "\n",
        "#conf matrices\n",
        "plot_confusion_matrix(knn, X_train, y_train, cmap = 'Blues', values_format = 'd')\n",
        "plt.grid(alpha=0)\n",
        "plt.suptitle('KNN Performance on Train Data')\n",
        "\n",
        "plot_confusion_matrix(knn, X_test, y_test, cmap = 'Blues', values_format = 'd')\n",
        "plt.grid(alpha=0)\n",
        "plt.suptitle('KNN Performance on Test Data');"
      ],
      "metadata": {
        "colab": {
          "base_uri": "https://localhost:8080/",
          "height": 1000
        },
        "id": "4W2iy6vnh1mf",
        "outputId": "ea7e7267-4115-4817-de87-36ddf6f43038"
      },
      "execution_count": 32,
      "outputs": [
        {
          "output_type": "stream",
          "name": "stdout",
          "text": [
            "KNN Train Performance\n",
            "              precision    recall  f1-score   support\n",
            "\n",
            "          No       0.78      0.97      0.87        63\n",
            "         Yes       0.93      0.60      0.72        42\n",
            "\n",
            "    accuracy                           0.82       105\n",
            "   macro avg       0.85      0.78      0.79       105\n",
            "weighted avg       0.84      0.82      0.81       105\n",
            "\n",
            "KNN Test Performance\n",
            "              precision    recall  f1-score   support\n",
            "\n",
            "          No       0.69      1.00      0.81        22\n",
            "         Yes       1.00      0.29      0.44        14\n",
            "\n",
            "    accuracy                           0.72        36\n",
            "   macro avg       0.84      0.64      0.63        36\n",
            "weighted avg       0.81      0.72      0.67        36\n",
            "\n"
          ]
        },
        {
          "output_type": "stream",
          "name": "stderr",
          "text": [
            "/usr/local/lib/python3.7/dist-packages/sklearn/utils/deprecation.py:87: FutureWarning: Function plot_confusion_matrix is deprecated; Function `plot_confusion_matrix` is deprecated in 1.0 and will be removed in 1.2. Use one of the class methods: ConfusionMatrixDisplay.from_predictions or ConfusionMatrixDisplay.from_estimator.\n",
            "  warnings.warn(msg, category=FutureWarning)\n",
            "/usr/local/lib/python3.7/dist-packages/sklearn/utils/deprecation.py:87: FutureWarning: Function plot_confusion_matrix is deprecated; Function `plot_confusion_matrix` is deprecated in 1.0 and will be removed in 1.2. Use one of the class methods: ConfusionMatrixDisplay.from_predictions or ConfusionMatrixDisplay.from_estimator.\n",
            "  warnings.warn(msg, category=FutureWarning)\n"
          ]
        },
        {
          "output_type": "display_data",
          "data": {
            "text/plain": [
              "<Figure size 576x396 with 2 Axes>"
            ],
            "image/png": "[encoded data removed]"
          },
          "metadata": {}
        },
        {
          "output_type": "display_data",
          "data": {
            "text/plain": [
              "<Figure size 576x396 with 2 Axes>"
            ],
            "image/png": "[encoded data removed]"
          },
          "metadata": {}
        }
      ]
    },
    {
      "cell_type": "markdown",
      "source": [
        "## Conclusion\n",
        "\n",
        "The data we have does not reliably predict on or off hour contact for test data"
      ],
      "metadata": {
        "id": "kwVX_cB5OzQr"
      }
    },
    {
      "cell_type": "markdown",
      "source": [
        "# Regression"
      ],
      "metadata": {
        "id": "RWPJ-Nw-gMad"
      }
    },
    {
      "cell_type": "markdown",
      "source": [
        "## Time Spent With Students Analysis"
      ],
      "metadata": {
        "id": "rjY0xLoLM3qa"
      }
    },
    {
      "cell_type": "code",
      "source": [
        "from sklearn.metrics import r2_score\n",
        "from sklearn.linear_model import LinearRegression\n",
        "from sklearn.tree import DecisionTreeRegressor\n",
        "from sklearn.ensemble import BaggingRegressor\n",
        "from sklearn.metrics import mean_absolute_error, mean_squared_error\n",
        "from sklearn.ensemble import RandomForestRegressor"
      ],
      "metadata": {
        "id": "pvThHiMhRYGV"
      },
      "execution_count": 33,
      "outputs": []
    },
    {
      "cell_type": "code",
      "source": [
        "data.info()"
      ],
      "metadata": {
        "colab": {
          "base_uri": "https://localhost:8080/"
        },
        "id": "WyUBrBcdPnlA",
        "outputId": "50773107-7c99-4607-b412-ebe4f23f712b"
      },
      "execution_count": 82,
      "outputs": [
        {
          "output_type": "stream",
          "name": "stdout",
          "text": [
            "<class 'pandas.core.frame.DataFrame'>\n",
            "RangeIndex: 141 entries, 0 to 140\n",
            "Data columns (total 9 columns):\n",
            " #   Column                     Non-Null Count  Dtype         \n",
            "---  ------                     --------------  -----         \n",
            " 0   Cohort                     141 non-null    object        \n",
            " 1   Stack                      141 non-null    object        \n",
            " 2   Date                       141 non-null    datetime64[ns]\n",
            " 3   Day of week                141 non-null    object        \n",
            " 4   Time (Pacific)             141 non-null    object        \n",
            " 5   Pacific Time (Military)    141 non-null    int64         \n",
            " 6   Total Time helping (mins)  42 non-null     float64       \n",
            " 7   End Time Pacific           42 non-null     object        \n",
            " 8   End Time (Military)        42 non-null     float64       \n",
            "dtypes: datetime64[ns](1), float64(2), int64(1), object(5)\n",
            "memory usage: 10.0+ KB\n"
          ]
        }
      ]
    },
    {
      "cell_type": "code",
      "source": [
        "data = data[['Cohort', 'Stack', 'Date', 'Day of week', 'Time (Pacific)', 'Pacific Time (Military)','Total Time helping (mins)']] #do not include end times as those were used for calculations of total time helped\n",
        "\n",
        "data.head() #what do we have? what should we drop?"
      ],
      "metadata": {
        "colab": {
          "base_uri": "https://localhost:8080/",
          "height": 206
        },
        "id": "uWCb-vROgyHr",
        "outputId": "e7e242ab-3440-42be-ab5f-ae7bdde757c2"
      },
      "execution_count": 83,
      "outputs": [
        {
          "output_type": "execute_result",
          "data": {
            "text/plain": [
              "  Cohort                      Stack       Date Day of week Time (Pacific)  \\\n",
              "0   2/21          Data Fundamentals 2022-03-01         Tue       11:08:00   \n",
              "1  11/29  Advanced Machine Learning 2022-03-01         Tue       17:50:00   \n",
              "2   1/24           Machine Learning 2022-03-01         Tue       18:04:00   \n",
              "3  11/29  Advanced Machine Learning 2022-03-01         Tue       18:47:00   \n",
              "4  11/29  Advanced Machine Learning 2022-03-02         Wed       14:06:00   \n",
              "\n",
              "   Pacific Time (Military)  Total Time helping (mins)  \n",
              "0                     1108                        NaN  \n",
              "1                     1750                        NaN  \n",
              "2                     1804                        NaN  \n",
              "3                     1847                        NaN  \n",
              "4                     1406                        NaN  "
            ],
            "text/html": [
              "\n",
              "  <div id=\"df-bfc791ae-0ef9-4b80-b1c2-04abff81eb3d\">\n",
              "    <div class=\"colab-df-container\">\n",
              "      <div>\n",
              "<style scoped>\n",
              "    .dataframe tbody tr th:only-of-type {\n",
              "        vertical-align: middle;\n",
              "    }\n",
              "\n",
              "    .dataframe tbody tr th {\n",
              "        vertical-align: top;\n",
              "    }\n",
              "\n",
              "    .dataframe thead th {\n",
              "        text-align: right;\n",
              "    }\n",
              "</style>\n",
              "<table border=\"1\" class=\"dataframe\">\n",
              "  <thead>\n",
              "    <tr style=\"text-align: right;\">\n",
              "      <th></th>\n",
              "      <th>Cohort</th>\n",
              "      <th>Stack</th>\n",
              "      <th>Date</th>\n",
              "      <th>Day of week</th>\n",
              "      <th>Time (Pacific)</th>\n",
              "      <th>Pacific Time (Military)</th>\n",
              "      <th>Total Time helping (mins)</th>\n",
              "    </tr>\n",
              "  </thead>\n",
              "  <tbody>\n",
              "    <tr>\n",
              "      <th>0</th>\n",
              "      <td>2/21</td>\n",
              "      <td>Data Fundamentals</td>\n",
              "      <td>2022-03-01</td>\n",
              "      <td>Tue</td>\n",
              "      <td>11:08:00</td>\n",
              "      <td>1108</td>\n",
              "      <td>NaN</td>\n",
              "    </tr>\n",
              "    <tr>\n",
              "      <th>1</th>\n",
              "      <td>11/29</td>\n",
              "      <td>Advanced Machine Learning</td>\n",
              "      <td>2022-03-01</td>\n",
              "      <td>Tue</td>\n",
              "      <td>17:50:00</td>\n",
              "      <td>1750</td>\n",
              "      <td>NaN</td>\n",
              "    </tr>\n",
              "    <tr>\n",
              "      <th>2</th>\n",
              "      <td>1/24</td>\n",
              "      <td>Machine Learning</td>\n",
              "      <td>2022-03-01</td>\n",
              "      <td>Tue</td>\n",
              "      <td>18:04:00</td>\n",
              "      <td>1804</td>\n",
              "      <td>NaN</td>\n",
              "    </tr>\n",
              "    <tr>\n",
              "      <th>3</th>\n",
              "      <td>11/29</td>\n",
              "      <td>Advanced Machine Learning</td>\n",
              "      <td>2022-03-01</td>\n",
              "      <td>Tue</td>\n",
              "      <td>18:47:00</td>\n",
              "      <td>1847</td>\n",
              "      <td>NaN</td>\n",
              "    </tr>\n",
              "    <tr>\n",
              "      <th>4</th>\n",
              "      <td>11/29</td>\n",
              "      <td>Advanced Machine Learning</td>\n",
              "      <td>2022-03-02</td>\n",
              "      <td>Wed</td>\n",
              "      <td>14:06:00</td>\n",
              "      <td>1406</td>\n",
              "      <td>NaN</td>\n",
              "    </tr>\n",
              "  </tbody>\n",
              "</table>\n",
              "</div>\n",
              "      <button class=\"colab-df-convert\" onclick=\"convertToInteractive('df-bfc791ae-0ef9-4b80-b1c2-04abff81eb3d')\"\n",
              "              title=\"Convert this dataframe to an interactive table.\"\n",
              "              style=\"display:none;\">\n",
              "        \n",
              "  <svg xmlns=\"http://www.w3.org/2000/svg\" height=\"24px\"viewBox=\"0 0 24 24\"\n",
              "       width=\"24px\">\n",
              "    <path d=\"M0 0h24v24H0V0z\" fill=\"none\"/>\n",
              "    <path d=\"M18.56 5.44l.94 2.06.94-2.06 2.06-.94-2.06-.94-.94-2.06-.94 2.06-2.06.94zm-11 1L8.5 8.5l.94-2.06 2.06-.94-2.06-.94L8.5 2.5l-.94 2.06-2.06.94zm10 10l.94 2.06.94-2.06 2.06-.94-2.06-.94-.94-2.06-.94 2.06-2.06.94z\"/><path d=\"M17.41 7.96l-1.37-1.37c-.4-.4-.92-.59-1.43-.59-.52 0-1.04.2-1.43.59L10.3 9.45l-7.72 7.72c-.78.78-.78 2.05 0 2.83L4 21.41c.39.39.9.59 1.41.59.51 0 1.02-.2 1.41-.59l7.78-7.78 2.81-2.81c.8-.78.8-2.07 0-2.86zM5.41 20L4 18.59l7.72-7.72 1.47 1.35L5.41 20z\"/>\n",
              "  </svg>\n",
              "      </button>\n",
              "      \n",
              "  <style>\n",
              "    .colab-df-container {\n",
              "      display:flex;\n",
              "      flex-wrap:wrap;\n",
              "      gap: 12px;\n",
              "    }\n",
              "\n",
              "    .colab-df-convert {\n",
              "      background-color: #E8F0FE;\n",
              "      border: none;\n",
              "      border-radius: 50%;\n",
              "      cursor: pointer;\n",
              "      display: none;\n",
              "      fill: #1967D2;\n",
              "      height: 32px;\n",
              "      padding: 0 0 0 0;\n",
              "      width: 32px;\n",
              "    }\n",
              "\n",
              "    .colab-df-convert:hover {\n",
              "      background-color: #E2EBFA;\n",
              "      box-shadow: 0px 1px 2px rgba(60, 64, 67, 0.3), 0px 1px 3px 1px rgba(60, 64, 67, 0.15);\n",
              "      fill: #174EA6;\n",
              "    }\n",
              "\n",
              "    [theme=dark] .colab-df-convert {\n",
              "      background-color: #3B4455;\n",
              "      fill: #D2E3FC;\n",
              "    }\n",
              "\n",
              "    [theme=dark] .colab-df-convert:hover {\n",
              "      background-color: #434B5C;\n",
              "      box-shadow: 0px 1px 3px 1px rgba(0, 0, 0, 0.15);\n",
              "      filter: drop-shadow(0px 1px 2px rgba(0, 0, 0, 0.3));\n",
              "      fill: #FFFFFF;\n",
              "    }\n",
              "  </style>\n",
              "\n",
              "      <script>\n",
              "        const buttonEl =\n",
              "          document.querySelector('#df-bfc791ae-0ef9-4b80-b1c2-04abff81eb3d button.colab-df-convert');\n",
              "        buttonEl.style.display =\n",
              "          google.colab.kernel.accessAllowed ? 'block' : 'none';\n",
              "\n",
              "        async function convertToInteractive(key) {\n",
              "          const element = document.querySelector('#df-bfc791ae-0ef9-4b80-b1c2-04abff81eb3d');\n",
              "          const dataTable =\n",
              "            await google.colab.kernel.invokeFunction('convertToInteractive',\n",
              "                                                     [key], {});\n",
              "          if (!dataTable) return;\n",
              "\n",
              "          const docLinkHtml = 'Like what you see? Visit the ' +\n",
              "            '<a target=\"_blank\" href=https://colab.research.google.com/notebooks/data_table.ipynb>data table notebook</a>'\n",
              "            + ' to learn more about interactive tables.';\n",
              "          element.innerHTML = '';\n",
              "          dataTable['output_type'] = 'display_data';\n",
              "          await google.colab.output.renderOutput(dataTable, element);\n",
              "          const docLink = document.createElement('div');\n",
              "          docLink.innerHTML = docLinkHtml;\n",
              "          element.appendChild(docLink);\n",
              "        }\n",
              "      </script>\n",
              "    </div>\n",
              "  </div>\n",
              "  "
            ]
          },
          "metadata": {},
          "execution_count": 83
        }
      ]
    },
    {
      "cell_type": "code",
      "source": [
        "time_nulls = data['Total Time helping (mins)'].isna()\n",
        "timeregdata = data[~time_nulls].drop(columns = ['Time (Pacific)', 'Date'])"
      ],
      "metadata": {
        "id": "-jpPg4xnmU6Q"
      },
      "execution_count": 84,
      "outputs": []
    },
    {
      "cell_type": "code",
      "source": [
        "timeregdata.head()"
      ],
      "metadata": {
        "colab": {
          "base_uri": "https://localhost:8080/",
          "height": 206
        },
        "id": "DXudeqQJPxna",
        "outputId": "bd3a1407-c3bc-4d08-fe2b-e14d5c6a1747"
      },
      "execution_count": 85,
      "outputs": [
        {
          "output_type": "execute_result",
          "data": {
            "text/plain": [
              "   Cohort              Stack Day of week  Pacific Time (Military)  \\\n",
              "8    2/21  Data Fundamentals         Wed                     1838   \n",
              "17   2/21  Data Fundamentals         Tue                     1726   \n",
              "18   1/24   Machine Learning         Wed                      645   \n",
              "19   2/21  Data Fundamentals         Wed                      839   \n",
              "20   2/21  Data Fundamentals         Wed                     1428   \n",
              "\n",
              "    Total Time helping (mins)  \n",
              "8                        67.0  \n",
              "17                       86.0  \n",
              "18                       23.0  \n",
              "19                        6.0  \n",
              "20                       24.0  "
            ],
            "text/html": [
              "\n",
              "  <div id=\"df-5cf8766a-c4b1-4008-b039-818d2b0bedaf\">\n",
              "    <div class=\"colab-df-container\">\n",
              "      <div>\n",
              "<style scoped>\n",
              "    .dataframe tbody tr th:only-of-type {\n",
              "        vertical-align: middle;\n",
              "    }\n",
              "\n",
              "    .dataframe tbody tr th {\n",
              "        vertical-align: top;\n",
              "    }\n",
              "\n",
              "    .dataframe thead th {\n",
              "        text-align: right;\n",
              "    }\n",
              "</style>\n",
              "<table border=\"1\" class=\"dataframe\">\n",
              "  <thead>\n",
              "    <tr style=\"text-align: right;\">\n",
              "      <th></th>\n",
              "      <th>Cohort</th>\n",
              "      <th>Stack</th>\n",
              "      <th>Day of week</th>\n",
              "      <th>Pacific Time (Military)</th>\n",
              "      <th>Total Time helping (mins)</th>\n",
              "    </tr>\n",
              "  </thead>\n",
              "  <tbody>\n",
              "    <tr>\n",
              "      <th>8</th>\n",
              "      <td>2/21</td>\n",
              "      <td>Data Fundamentals</td>\n",
              "      <td>Wed</td>\n",
              "      <td>1838</td>\n",
              "      <td>67.0</td>\n",
              "    </tr>\n",
              "    <tr>\n",
              "      <th>17</th>\n",
              "      <td>2/21</td>\n",
              "      <td>Data Fundamentals</td>\n",
              "      <td>Tue</td>\n",
              "      <td>1726</td>\n",
              "      <td>86.0</td>\n",
              "    </tr>\n",
              "    <tr>\n",
              "      <th>18</th>\n",
              "      <td>1/24</td>\n",
              "      <td>Machine Learning</td>\n",
              "      <td>Wed</td>\n",
              "      <td>645</td>\n",
              "      <td>23.0</td>\n",
              "    </tr>\n",
              "    <tr>\n",
              "      <th>19</th>\n",
              "      <td>2/21</td>\n",
              "      <td>Data Fundamentals</td>\n",
              "      <td>Wed</td>\n",
              "      <td>839</td>\n",
              "      <td>6.0</td>\n",
              "    </tr>\n",
              "    <tr>\n",
              "      <th>20</th>\n",
              "      <td>2/21</td>\n",
              "      <td>Data Fundamentals</td>\n",
              "      <td>Wed</td>\n",
              "      <td>1428</td>\n",
              "      <td>24.0</td>\n",
              "    </tr>\n",
              "  </tbody>\n",
              "</table>\n",
              "</div>\n",
              "      <button class=\"colab-df-convert\" onclick=\"convertToInteractive('df-5cf8766a-c4b1-4008-b039-818d2b0bedaf')\"\n",
              "              title=\"Convert this dataframe to an interactive table.\"\n",
              "              style=\"display:none;\">\n",
              "        \n",
              "  <svg xmlns=\"http://www.w3.org/2000/svg\" height=\"24px\"viewBox=\"0 0 24 24\"\n",
              "       width=\"24px\">\n",
              "    <path d=\"M0 0h24v24H0V0z\" fill=\"none\"/>\n",
              "    <path d=\"M18.56 5.44l.94 2.06.94-2.06 2.06-.94-2.06-.94-.94-2.06-.94 2.06-2.06.94zm-11 1L8.5 8.5l.94-2.06 2.06-.94-2.06-.94L8.5 2.5l-.94 2.06-2.06.94zm10 10l.94 2.06.94-2.06 2.06-.94-2.06-.94-.94-2.06-.94 2.06-2.06.94z\"/><path d=\"M17.41 7.96l-1.37-1.37c-.4-.4-.92-.59-1.43-.59-.52 0-1.04.2-1.43.59L10.3 9.45l-7.72 7.72c-.78.78-.78 2.05 0 2.83L4 21.41c.39.39.9.59 1.41.59.51 0 1.02-.2 1.41-.59l7.78-7.78 2.81-2.81c.8-.78.8-2.07 0-2.86zM5.41 20L4 18.59l7.72-7.72 1.47 1.35L5.41 20z\"/>\n",
              "  </svg>\n",
              "      </button>\n",
              "      \n",
              "  <style>\n",
              "    .colab-df-container {\n",
              "      display:flex;\n",
              "      flex-wrap:wrap;\n",
              "      gap: 12px;\n",
              "    }\n",
              "\n",
              "    .colab-df-convert {\n",
              "      background-color: #E8F0FE;\n",
              "      border: none;\n",
              "      border-radius: 50%;\n",
              "      cursor: pointer;\n",
              "      display: none;\n",
              "      fill: #1967D2;\n",
              "      height: 32px;\n",
              "      padding: 0 0 0 0;\n",
              "      width: 32px;\n",
              "    }\n",
              "\n",
              "    .colab-df-convert:hover {\n",
              "      background-color: #E2EBFA;\n",
              "      box-shadow: 0px 1px 2px rgba(60, 64, 67, 0.3), 0px 1px 3px 1px rgba(60, 64, 67, 0.15);\n",
              "      fill: #174EA6;\n",
              "    }\n",
              "\n",
              "    [theme=dark] .colab-df-convert {\n",
              "      background-color: #3B4455;\n",
              "      fill: #D2E3FC;\n",
              "    }\n",
              "\n",
              "    [theme=dark] .colab-df-convert:hover {\n",
              "      background-color: #434B5C;\n",
              "      box-shadow: 0px 1px 3px 1px rgba(0, 0, 0, 0.15);\n",
              "      filter: drop-shadow(0px 1px 2px rgba(0, 0, 0, 0.3));\n",
              "      fill: #FFFFFF;\n",
              "    }\n",
              "  </style>\n",
              "\n",
              "      <script>\n",
              "        const buttonEl =\n",
              "          document.querySelector('#df-5cf8766a-c4b1-4008-b039-818d2b0bedaf button.colab-df-convert');\n",
              "        buttonEl.style.display =\n",
              "          google.colab.kernel.accessAllowed ? 'block' : 'none';\n",
              "\n",
              "        async function convertToInteractive(key) {\n",
              "          const element = document.querySelector('#df-5cf8766a-c4b1-4008-b039-818d2b0bedaf');\n",
              "          const dataTable =\n",
              "            await google.colab.kernel.invokeFunction('convertToInteractive',\n",
              "                                                     [key], {});\n",
              "          if (!dataTable) return;\n",
              "\n",
              "          const docLinkHtml = 'Like what you see? Visit the ' +\n",
              "            '<a target=\"_blank\" href=https://colab.research.google.com/notebooks/data_table.ipynb>data table notebook</a>'\n",
              "            + ' to learn more about interactive tables.';\n",
              "          element.innerHTML = '';\n",
              "          dataTable['output_type'] = 'display_data';\n",
              "          await google.colab.output.renderOutput(dataTable, element);\n",
              "          const docLink = document.createElement('div');\n",
              "          docLink.innerHTML = docLinkHtml;\n",
              "          element.appendChild(docLink);\n",
              "        }\n",
              "      </script>\n",
              "    </div>\n",
              "  </div>\n",
              "  "
            ]
          },
          "metadata": {},
          "execution_count": 85
        }
      ]
    },
    {
      "cell_type": "code",
      "source": [
        "timeregdata['Total Time helping (mins)'] = timeregdata['Total Time helping (mins)'].astype(int)\n",
        "timeregdata.dtypes"
      ],
      "metadata": {
        "colab": {
          "base_uri": "https://localhost:8080/"
        },
        "id": "gkC64S3bR7Vn",
        "outputId": "2acdcca3-de29-405e-f17f-1a201f893ba4"
      },
      "execution_count": 86,
      "outputs": [
        {
          "output_type": "execute_result",
          "data": {
            "text/plain": [
              "Cohort                       object\n",
              "Stack                        object\n",
              "Day of week                  object\n",
              "Pacific Time (Military)       int64\n",
              "Total Time helping (mins)     int64\n",
              "dtype: object"
            ]
          },
          "metadata": {},
          "execution_count": 86
        }
      ]
    },
    {
      "cell_type": "code",
      "source": [
        "X = timeregdata.drop(columns='Total Time helping (mins)')\n",
        "y = timeregdata['Total Time helping (mins)']\n",
        "X_train, X_test, y_train, y_test = train_test_split(X, y, random_state = 42)"
      ],
      "metadata": {
        "id": "z7nGbet0QD4e"
      },
      "execution_count": 87,
      "outputs": []
    },
    {
      "cell_type": "code",
      "source": [
        "cat_selector = make_column_selector(dtype_include='object')\n",
        "num_selector = make_column_selector(dtype_include='number')\n",
        "scaler = StandardScaler()\n",
        "encoder = OneHotEncoder(sparse=False, handle_unknown='ignore')\n",
        "num_tuple = (scaler, num_selector)\n",
        "cat_tuple = (encoder, cat_selector)"
      ],
      "metadata": {
        "id": "rsGizvKEO18h"
      },
      "execution_count": 88,
      "outputs": []
    },
    {
      "cell_type": "code",
      "source": [
        "col_trans = make_column_transformer(num_tuple, cat_tuple)"
      ],
      "metadata": {
        "id": "zqgo6FcsO18i"
      },
      "execution_count": 89,
      "outputs": []
    },
    {
      "cell_type": "code",
      "metadata": {
        "id": "UL-cSgWTCUhL",
        "colab": {
          "base_uri": "https://localhost:8080/"
        },
        "outputId": "f6236956-a20a-4756-e611-ab28560ebd96"
      },
      "source": [
        "lr = LinearRegression()\n",
        "lr_pipe =make_pipeline(col_trans, lr)\n",
        "lr_pipe.fit(X_train, y_train)\n",
        "print('Linear Regression Training Score:', r2_score(y_train, lr_pipe.predict(X_train)))\n",
        "print('Linear Regression Testing Score:', r2_score(y_test, lr_pipe.predict(X_test)))\n",
        "print('Linear Regression RMSE Training:', np.sqrt(mean_squared_error(y_train, lr_pipe.predict(X_train))))\n",
        "print('Linear Regression RMSE Testing:', np.sqrt(mean_squared_error(y_test, lr_pipe.predict(X_test))))"
      ],
      "execution_count": 90,
      "outputs": [
        {
          "output_type": "stream",
          "name": "stdout",
          "text": [
            "Linear Regression Training Score: 0.3795070614955157\n",
            "Linear Regression Testing Score: 0.01095567697881894\n",
            "Linear Regression RMSE Training: 33.82670243956433\n",
            "Linear Regression RMSE Testing: 45.262150540357\n"
          ]
        }
      ]
    },
    {
      "cell_type": "code",
      "source": [
        "max_depth_range = list(range(2, 19)) # will try every value between 2 and 19\n",
        "# List to store the score for each value of max_depth:\n",
        "r2 = []\n",
        "for depth in max_depth_range:\n",
        "    dec_tree = DecisionTreeRegressor(max_depth = depth, \n",
        "                             random_state = 42)\n",
        "    dec_tree_pipe = make_pipeline(col_trans, dec_tree)\n",
        "    dec_tree_pipe.fit(X_train, y_train)\n",
        "    score = dec_tree_pipe.score(X_test, y_test)\n",
        "    r2.append(score)\n",
        "plt.plot(max_depth_range, r2)\n",
        "plt.xlabel('max_depth')\n",
        "plt.ylabel('R2');"
      ],
      "metadata": {
        "colab": {
          "base_uri": "https://localhost:8080/",
          "height": 361
        },
        "id": "Njx-6E40SGEC",
        "outputId": "e1cf9cd5-3cce-458d-d7b9-7ebcfbe526a8"
      },
      "execution_count": 91,
      "outputs": [
        {
          "output_type": "display_data",
          "data": {
            "text/plain": [
              "<Figure size 576x396 with 1 Axes>"
            ],
            "image/png": "[encoded data removed]"
          },
          "metadata": {}
        }
      ]
    },
    {
      "cell_type": "code",
      "metadata": {
        "colab": {
          "base_uri": "https://localhost:8080/"
        },
        "id": "DiB4jVcKG8yn",
        "outputId": "d339b498-993e-4656-95d7-274ebede6911"
      },
      "source": [
        "reg_tree = DecisionTreeRegressor(max_depth = 2, random_state = 42)\n",
        "reg_tree_pipe = make_pipeline(col_trans, reg_tree)\n",
        "reg_tree_pipe.fit(X_train, y_train)\n",
        "print('Regression Tree R^2 Training Score:', r2_score(y_train, reg_tree_pipe.predict(X_train)))\n",
        "print('Regression Tree R^2 Testing Score:', r2_score(y_test, reg_tree_pipe.predict(X_test)))\n",
        "print('Regression Tree RMSE Training:', np.sqrt(mean_squared_error(y_train, reg_tree_pipe.predict(X_train))))\n",
        "print('Regression Tree RMSE Testing:', np.sqrt(mean_squared_error(y_test, reg_tree_pipe.predict(X_test))))"
      ],
      "execution_count": 92,
      "outputs": [
        {
          "output_type": "stream",
          "name": "stdout",
          "text": [
            "Regression Tree R^2 Training Score: 0.451180261462087\n",
            "Regression Tree R^2 Testing Score: 0.011434116100958569\n",
            "Regression Tree RMSE Training: 31.81310821013585\n",
            "Regression Tree RMSE Testing: 45.251201686719526\n"
          ]
        }
      ]
    },
    {
      "cell_type": "code",
      "source": [
        "max_depth_range = list(range(2, 19)) # will try every value between 2 and 19\n",
        "# List to store the score for each value of max_depth:\n",
        "r2 = []\n",
        "for depth in max_depth_range:\n",
        "    rf = RandomForestRegressor(max_depth = depth, \n",
        "                             random_state = 42)\n",
        "    rf_pipe = make_pipeline(col_trans, rf)\n",
        "    rf_pipe.fit(X_train, y_train)\n",
        "    score = rf_pipe.score(X_test, y_test)\n",
        "    r2.append(score)\n",
        "plt.plot(max_depth_range, r2)\n",
        "plt.xlabel('max_depth')\n",
        "plt.ylabel('R2');"
      ],
      "metadata": {
        "colab": {
          "base_uri": "https://localhost:8080/",
          "height": 361
        },
        "id": "ACLVKBTKxkqT",
        "outputId": "5a36ff21-bc14-4234-d51d-c99d28ad3a20"
      },
      "execution_count": 93,
      "outputs": [
        {
          "output_type": "display_data",
          "data": {
            "text/plain": [
              "<Figure size 576x396 with 1 Axes>"
            ],
            "image/png": "[encoded data removed]"
          },
          "metadata": {}
        }
      ]
    },
    {
      "cell_type": "code",
      "metadata": {
        "id": "3V61yJy4fZdZ",
        "colab": {
          "base_uri": "https://localhost:8080/"
        },
        "outputId": "5fe5ec01-beec-4ac9-cf1e-0be88414fb14"
      },
      "source": [
        "mrf = RandomForestRegressor(max_depth = 2, random_state=42)\n",
        "rf_pipe = make_pipeline(col_trans, rf)\n",
        "rf_pipe.fit(X_train, y_train)\n",
        "print('Random Forest Training R^2 Scores:', r2_score(y_train, rf_pipe.predict(X_train)))\n",
        "print('Random Forest Testing R^2 Scores:', r2_score(y_test, rf_pipe.predict(X_test)))\n",
        "print('Random Forests RMSE Training:', np.sqrt(mean_squared_error(y_train, rf_pipe.predict(X_train))))\n",
        "print('Random Forests RMSE Testing:', np.sqrt(mean_squared_error(y_test, rf_pipe.predict(X_test))))"
      ],
      "execution_count": 94,
      "outputs": [
        {
          "output_type": "stream",
          "name": "stdout",
          "text": [
            "Random Forest Training R^2 Scores: 0.8512986166128345\n",
            "Random Forest Testing R^2 Scores: -0.4059134303406562\n",
            "Random Forests RMSE Training: 16.55955819887522\n",
            "Random Forests RMSE Testing: 53.96430613251352\n"
          ]
        }
      ]
    },
    {
      "cell_type": "markdown",
      "source": [
        "## Conclusion\n",
        "\n",
        "The data we have does not reliably predict values for test data. RMSE Testing is ~ 45-53 minutes off from true value, and the negative R^2 indicates it performs worse than a baseline (horizontal line across average of the target value). The R^2 for our Logistic Regression model is positive, but its performance on testing data is about 1%.\n",
        "\n",
        "It is safe to say we do not have enough features to reliably predict how much time a student will need during their TA request sessions."
      ],
      "metadata": {
        "id": "DA3W2fhkTGW2"
      }
    },
    {
      "cell_type": "markdown",
      "source": [
        "# Overall Conclusion\n",
        "\n",
        "This dataset would need more information/columns (features) in order to build a true and reliable machine learning model.\n",
        "\n",
        "This data set is much better suited for data analysis/EDA."
      ],
      "metadata": {
        "id": "IcgydFU6ZEFG"
      }
    }
  ]
}