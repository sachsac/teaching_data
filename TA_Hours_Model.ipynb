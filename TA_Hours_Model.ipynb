{
  "nbformat": 4,
  "nbformat_minor": 0,
  "metadata": {
    "colab": {
      "name": "TA Hours Model",
      "provenance": [],
      "collapsed_sections": [],
      "mount_file_id": "1yS7gVKGAI_-aj19BhInKspsJRKMtvmMt",
      "authorship_tag": "ABX9TyOzNGAudPrOaUp3fzdmHWJx",
      "include_colab_link": true
    },
    "kernelspec": {
      "name": "python3",
      "display_name": "Python 3"
    },
    "language_info": {
      "name": "python"
    }
  },
  "cells": [
    {
      "cell_type": "markdown",
      "metadata": {
        "id": "view-in-github",
        "colab_type": "text"
      },
      "source": [
        "<a href=\"https://colab.research.google.com/github/sachsac/teaching_data/blob/main/TA_Hours_Model.ipynb\" target=\"_parent\"><img src=\"https://colab.research.google.com/assets/colab-badge.svg\" alt=\"Open In Colab\"/></a>"
      ]
    },
    {
      "cell_type": "code",
      "source": [
        "#!pip install openpyxl==3.0.0"
      ],
      "metadata": {
        "id": "dh9SXSuZVEmL"
      },
      "execution_count": 1,
      "outputs": []
    },
    {
      "cell_type": "code",
      "source": [
        "import pandas as pd\n",
        "import numpy as np\n",
        "import seaborn as sns\n",
        "import matplotlib.pyplot as plt\n",
        "from sklearn.model_selection import train_test_split\n",
        "from sklearn.preprocessing import StandardScaler, OneHotEncoder\n",
        "from sklearn.pipeline import make_pipeline\n",
        "from sklearn.compose import make_column_selector, make_column_transformer\n",
        "from sklearn import metrics\n",
        "from sklearn.metrics import classification_report, accuracy_score"
      ],
      "metadata": {
        "id": "ywDjxxV5W2nx"
      },
      "execution_count": 2,
      "outputs": []
    },
    {
      "cell_type": "code",
      "execution_count": 3,
      "metadata": {
        "id": "Of7lJ0LMGfC_",
        "colab": {
          "base_uri": "https://localhost:8080/",
          "height": 206
        },
        "outputId": "9647829e-fae8-459a-85ea-1ee116e211bd"
      },
      "outputs": [
        {
          "output_type": "execute_result",
          "data": {
            "text/html": [
              "\n",
              "  <div id=\"df-5c0658f7-91b6-4c1d-9894-804d25089d19\">\n",
              "    <div class=\"colab-df-container\">\n",
              "      <div>\n",
              "<style scoped>\n",
              "    .dataframe tbody tr th:only-of-type {\n",
              "        vertical-align: middle;\n",
              "    }\n",
              "\n",
              "    .dataframe tbody tr th {\n",
              "        vertical-align: top;\n",
              "    }\n",
              "\n",
              "    .dataframe thead th {\n",
              "        text-align: right;\n",
              "    }\n",
              "</style>\n",
              "<table border=\"1\" class=\"dataframe\">\n",
              "  <thead>\n",
              "    <tr style=\"text-align: right;\">\n",
              "      <th></th>\n",
              "      <th>Cohort</th>\n",
              "      <th>Stack</th>\n",
              "      <th>Time</th>\n",
              "      <th>Date</th>\n",
              "      <th>Day of week</th>\n",
              "      <th>Time in Military</th>\n",
              "      <th>Off Hours Request? Y/N</th>\n",
              "    </tr>\n",
              "  </thead>\n",
              "  <tbody>\n",
              "    <tr>\n",
              "      <th>0</th>\n",
              "      <td>8/30</td>\n",
              "      <td>Advanced Machine Learning</td>\n",
              "      <td>18:00:00</td>\n",
              "      <td>2021-11-10</td>\n",
              "      <td>Wed</td>\n",
              "      <td>1800</td>\n",
              "      <td>No</td>\n",
              "    </tr>\n",
              "    <tr>\n",
              "      <th>1</th>\n",
              "      <td>10/11</td>\n",
              "      <td>Machine Learning</td>\n",
              "      <td>19:36:00</td>\n",
              "      <td>2021-11-10</td>\n",
              "      <td>Wed</td>\n",
              "      <td>1936</td>\n",
              "      <td>No</td>\n",
              "    </tr>\n",
              "    <tr>\n",
              "      <th>2</th>\n",
              "      <td>8/30</td>\n",
              "      <td>Advanced Machine Learning</td>\n",
              "      <td>14:05:00</td>\n",
              "      <td>2021-11-11</td>\n",
              "      <td>Thu</td>\n",
              "      <td>1405</td>\n",
              "      <td>Yes</td>\n",
              "    </tr>\n",
              "    <tr>\n",
              "      <th>3</th>\n",
              "      <td>8/30</td>\n",
              "      <td>Advanced Machine Learning</td>\n",
              "      <td>22:40:00</td>\n",
              "      <td>2021-11-14</td>\n",
              "      <td>Sun</td>\n",
              "      <td>2240</td>\n",
              "      <td>Yes</td>\n",
              "    </tr>\n",
              "    <tr>\n",
              "      <th>4</th>\n",
              "      <td>8/30</td>\n",
              "      <td>Advanced Machine Learning</td>\n",
              "      <td>20:11:00</td>\n",
              "      <td>2021-11-14</td>\n",
              "      <td>Sun</td>\n",
              "      <td>2011</td>\n",
              "      <td>Yes</td>\n",
              "    </tr>\n",
              "  </tbody>\n",
              "</table>\n",
              "</div>\n",
              "      <button class=\"colab-df-convert\" onclick=\"convertToInteractive('df-5c0658f7-91b6-4c1d-9894-804d25089d19')\"\n",
              "              title=\"Convert this dataframe to an interactive table.\"\n",
              "              style=\"display:none;\">\n",
              "        \n",
              "  <svg xmlns=\"http://www.w3.org/2000/svg\" height=\"24px\"viewBox=\"0 0 24 24\"\n",
              "       width=\"24px\">\n",
              "    <path d=\"M0 0h24v24H0V0z\" fill=\"none\"/>\n",
              "    <path d=\"M18.56 5.44l.94 2.06.94-2.06 2.06-.94-2.06-.94-.94-2.06-.94 2.06-2.06.94zm-11 1L8.5 8.5l.94-2.06 2.06-.94-2.06-.94L8.5 2.5l-.94 2.06-2.06.94zm10 10l.94 2.06.94-2.06 2.06-.94-2.06-.94-.94-2.06-.94 2.06-2.06.94z\"/><path d=\"M17.41 7.96l-1.37-1.37c-.4-.4-.92-.59-1.43-.59-.52 0-1.04.2-1.43.59L10.3 9.45l-7.72 7.72c-.78.78-.78 2.05 0 2.83L4 21.41c.39.39.9.59 1.41.59.51 0 1.02-.2 1.41-.59l7.78-7.78 2.81-2.81c.8-.78.8-2.07 0-2.86zM5.41 20L4 18.59l7.72-7.72 1.47 1.35L5.41 20z\"/>\n",
              "  </svg>\n",
              "      </button>\n",
              "      \n",
              "  <style>\n",
              "    .colab-df-container {\n",
              "      display:flex;\n",
              "      flex-wrap:wrap;\n",
              "      gap: 12px;\n",
              "    }\n",
              "\n",
              "    .colab-df-convert {\n",
              "      background-color: #E8F0FE;\n",
              "      border: none;\n",
              "      border-radius: 50%;\n",
              "      cursor: pointer;\n",
              "      display: none;\n",
              "      fill: #1967D2;\n",
              "      height: 32px;\n",
              "      padding: 0 0 0 0;\n",
              "      width: 32px;\n",
              "    }\n",
              "\n",
              "    .colab-df-convert:hover {\n",
              "      background-color: #E2EBFA;\n",
              "      box-shadow: 0px 1px 2px rgba(60, 64, 67, 0.3), 0px 1px 3px 1px rgba(60, 64, 67, 0.15);\n",
              "      fill: #174EA6;\n",
              "    }\n",
              "\n",
              "    [theme=dark] .colab-df-convert {\n",
              "      background-color: #3B4455;\n",
              "      fill: #D2E3FC;\n",
              "    }\n",
              "\n",
              "    [theme=dark] .colab-df-convert:hover {\n",
              "      background-color: #434B5C;\n",
              "      box-shadow: 0px 1px 3px 1px rgba(0, 0, 0, 0.15);\n",
              "      filter: drop-shadow(0px 1px 2px rgba(0, 0, 0, 0.3));\n",
              "      fill: #FFFFFF;\n",
              "    }\n",
              "  </style>\n",
              "\n",
              "      <script>\n",
              "        const buttonEl =\n",
              "          document.querySelector('#df-5c0658f7-91b6-4c1d-9894-804d25089d19 button.colab-df-convert');\n",
              "        buttonEl.style.display =\n",
              "          google.colab.kernel.accessAllowed ? 'block' : 'none';\n",
              "\n",
              "        async function convertToInteractive(key) {\n",
              "          const element = document.querySelector('#df-5c0658f7-91b6-4c1d-9894-804d25089d19');\n",
              "          const dataTable =\n",
              "            await google.colab.kernel.invokeFunction('convertToInteractive',\n",
              "                                                     [key], {});\n",
              "          if (!dataTable) return;\n",
              "\n",
              "          const docLinkHtml = 'Like what you see? Visit the ' +\n",
              "            '<a target=\"_blank\" href=https://colab.research.google.com/notebooks/data_table.ipynb>data table notebook</a>'\n",
              "            + ' to learn more about interactive tables.';\n",
              "          element.innerHTML = '';\n",
              "          dataTable['output_type'] = 'display_data';\n",
              "          await google.colab.output.renderOutput(dataTable, element);\n",
              "          const docLink = document.createElement('div');\n",
              "          docLink.innerHTML = docLinkHtml;\n",
              "          element.appendChild(docLink);\n",
              "        }\n",
              "      </script>\n",
              "    </div>\n",
              "  </div>\n",
              "  "
            ],
            "text/plain": [
              "  Cohort                      Stack  ... Time in Military Off Hours Request? Y/N\n",
              "0   8/30  Advanced Machine Learning  ...             1800                     No\n",
              "1  10/11           Machine Learning  ...             1936                     No\n",
              "2   8/30  Advanced Machine Learning  ...             1405                    Yes\n",
              "3   8/30  Advanced Machine Learning  ...             2240                    Yes\n",
              "4   8/30  Advanced Machine Learning  ...             2011                    Yes\n",
              "\n",
              "[5 rows x 7 columns]"
            ]
          },
          "metadata": {},
          "execution_count": 3
        }
      ],
      "source": [
        "df = pd.read_excel('/content/drive/MyDrive/Work/Independent Projects/TA work/TA helping.xlsx')\n",
        "df.drop(columns='Student', inplace = True) #dropping for anonymity\n",
        "df.head()"
      ]
    },
    {
      "cell_type": "code",
      "source": [
        "df.info()"
      ],
      "metadata": {
        "id": "xoUEf5PAX704",
        "colab": {
          "base_uri": "https://localhost:8080/"
        },
        "outputId": "f9d60c8b-48a4-4805-e3c2-c14c0fd63657"
      },
      "execution_count": 4,
      "outputs": [
        {
          "output_type": "stream",
          "name": "stdout",
          "text": [
            "<class 'pandas.core.frame.DataFrame'>\n",
            "RangeIndex: 79 entries, 0 to 78\n",
            "Data columns (total 7 columns):\n",
            " #   Column                  Non-Null Count  Dtype         \n",
            "---  ------                  --------------  -----         \n",
            " 0   Cohort                  79 non-null     object        \n",
            " 1   Stack                   79 non-null     object        \n",
            " 2   Time                    79 non-null     object        \n",
            " 3   Date                    79 non-null     datetime64[ns]\n",
            " 4   Day of week             79 non-null     object        \n",
            " 5   Time in Military        79 non-null     int64         \n",
            " 6   Off Hours Request? Y/N  79 non-null     object        \n",
            "dtypes: datetime64[ns](1), int64(1), object(5)\n",
            "memory usage: 4.4+ KB\n"
          ]
        }
      ]
    },
    {
      "cell_type": "markdown",
      "source": [
        "# Can we predict if a student will contact after hours vs during hours?\n",
        "(A Classification Problem)\n",
        "Although the Regression Problem was unable to be tackled using this data, can it more reliably help with a classification question?"
      ],
      "metadata": {
        "id": "vDgmSeZsWrKx"
      }
    },
    {
      "cell_type": "code",
      "source": [
        "from sklearn.metrics import classification_report, plot_confusion_matrix\n",
        "from sklearn.ensemble import GradientBoostingClassifier\n",
        "from sklearn.neighbors import KNeighborsClassifier\n",
        "from sklearn.linear_model import LogisticRegression\n",
        "from xgboost import XGBClassifier"
      ],
      "metadata": {
        "id": "J0G6u_IpbVuo"
      },
      "execution_count": 5,
      "outputs": []
    },
    {
      "cell_type": "code",
      "source": [
        "#although it is the same data set, we need to redo our train test split and preprocessing steps\n",
        "X = df.drop(columns =['Off Hours Request? Y/N', 'Time in Military']) #Time in Military mostly used for analysis purposes\n",
        "y = df['Off Hours Request? Y/N']"
      ],
      "metadata": {
        "id": "LiCLtvzUeMTf"
      },
      "execution_count": 6,
      "outputs": []
    },
    {
      "cell_type": "code",
      "metadata": {
        "id": "fGngbohCrknJ"
      },
      "source": [
        "X_train, X_test, y_train, y_test = train_test_split(X, y, random_state = 42, stratify = y)"
      ],
      "execution_count": 7,
      "outputs": []
    },
    {
      "cell_type": "code",
      "source": [
        "#code to check the split of our variables\n",
        "unique, counts = np.unique(y_train, return_counts=True)\n",
        "print('Counts of each class in Training:', dict(zip(unique, counts)))\n",
        "unique, counts = np.unique(y_test, return_counts=True)\n",
        "print('Counts of each class in Test:', dict(zip(unique, counts)))"
      ],
      "metadata": {
        "id": "o2QeIYHneW7Q",
        "colab": {
          "base_uri": "https://localhost:8080/"
        },
        "outputId": "edf80ae4-4fae-4b34-80cb-57ff5db5e944"
      },
      "execution_count": 8,
      "outputs": [
        {
          "output_type": "stream",
          "name": "stdout",
          "text": [
            "Counts of each class in Training: {'No': 29, 'Yes': 30}\n",
            "Counts of each class in Test: {'No': 10, 'Yes': 10}\n"
          ]
        }
      ]
    },
    {
      "cell_type": "code",
      "source": [
        "cat_selector = make_column_selector(dtype_include='object')\n",
        "num_selector = make_column_selector(dtype_include='number')\n",
        "scaler = StandardScaler()\n",
        "encoder = OneHotEncoder(sparse=False, handle_unknown='ignore')"
      ],
      "metadata": {
        "id": "HHYy2_8je13p"
      },
      "execution_count": 9,
      "outputs": []
    },
    {
      "cell_type": "code",
      "source": [
        "num_tuple = (scaler, num_selector)\n",
        "cat_tuple = (encoder, cat_selector)"
      ],
      "metadata": {
        "id": "-73L8bUie13p"
      },
      "execution_count": 10,
      "outputs": []
    },
    {
      "cell_type": "code",
      "source": [
        "col_trans = make_column_transformer(num_tuple, cat_tuple)\n",
        "col_trans.fit(X_train)"
      ],
      "metadata": {
        "id": "DLlPXmO6e13p",
        "colab": {
          "base_uri": "https://localhost:8080/"
        },
        "outputId": "801611c5-0803-4c9a-f7de-888fe6c23ff8"
      },
      "execution_count": 11,
      "outputs": [
        {
          "output_type": "execute_result",
          "data": {
            "text/plain": [
              "ColumnTransformer(transformers=[('standardscaler', StandardScaler(),\n",
              "                                 <sklearn.compose._column_transformer.make_column_selector object at 0x7f65b97db6d0>),\n",
              "                                ('onehotencoder',\n",
              "                                 OneHotEncoder(handle_unknown='ignore',\n",
              "                                               sparse=False),\n",
              "                                 <sklearn.compose._column_transformer.make_column_selector object at 0x7f65b97dbb50>)])"
            ]
          },
          "metadata": {},
          "execution_count": 11
        }
      ]
    },
    {
      "cell_type": "code",
      "source": [
        "X_train = col_trans.transform(X_train)\n",
        "X_test = col_trans.transform(X_test)"
      ],
      "metadata": {
        "id": "Nn1xVXE0e13q"
      },
      "execution_count": 12,
      "outputs": []
    },
    {
      "cell_type": "code",
      "source": [
        "print('Baseline Training Accuracy:')\n",
        "print(y_train.value_counts(normalize=True))\n",
        "print()\n",
        "print('Baseline Testing Accuracy:')\n",
        "print(y_test.value_counts(normalize=True))  "
      ],
      "metadata": {
        "id": "e-puV4uXid6D",
        "colab": {
          "base_uri": "https://localhost:8080/"
        },
        "outputId": "0d393c4c-c702-4438-8423-f531a495cedc"
      },
      "execution_count": 13,
      "outputs": [
        {
          "output_type": "stream",
          "name": "stdout",
          "text": [
            "Baseline Training Accuracy:\n",
            "Yes    0.508475\n",
            "No     0.491525\n",
            "Name: Off Hours Request? Y/N, dtype: float64\n",
            "\n",
            "Baseline Testing Accuracy:\n",
            "Yes    0.5\n",
            "No     0.5\n",
            "Name: Off Hours Request? Y/N, dtype: float64\n"
          ]
        }
      ]
    },
    {
      "cell_type": "code",
      "source": [
        "lr = LogisticRegression(random_state=42)\n",
        "lr.fit(X_train, y_train)\n",
        "y_pred = lr.predict(X_test)\n",
        "print('Logistic Regression Train Performance')\n",
        "print(metrics.classification_report(y_train, lr.predict(X_train)))\n",
        "print('Logistic Regression Test Performance')\n",
        "print(metrics.classification_report(y_test, y_pred))\n",
        "\n",
        "print()\n",
        "\n",
        "knn = KNeighborsClassifier()\n",
        "knn.fit(X_train, y_train)\n",
        "y_pred2 = knn.predict(X_test)\n",
        "print('KNN Train Performance')\n",
        "print(metrics.classification_report(y_train, knn.predict(X_train)))\n",
        "print('KNN Test Performance')\n",
        "print(metrics.classification_report(y_test, y_pred2))\n",
        "\n",
        "print()\n",
        "\n",
        "xgb = XGBClassifier(random_state=42)\n",
        "xgb.fit(X_train, y_train)\n",
        "y_pred3 = xgb.predict(X_test)\n",
        "print('XGB Train Performance')\n",
        "print(metrics.classification_report(y_train,xgb.predict(X_train)))\n",
        "print('XGB Test Performance')\n",
        "print(metrics.classification_report(y_test, y_pred3))"
      ],
      "metadata": {
        "id": "kpGgePaBe4Qy",
        "colab": {
          "base_uri": "https://localhost:8080/"
        },
        "outputId": "bc5cf0ab-6ad5-41cf-8f51-e35603f6fe8d"
      },
      "execution_count": 20,
      "outputs": [
        {
          "output_type": "stream",
          "name": "stdout",
          "text": [
            "Logistic Regression Train Performance\n",
            "              precision    recall  f1-score   support\n",
            "\n",
            "          No       0.97      1.00      0.98        29\n",
            "         Yes       1.00      0.97      0.98        30\n",
            "\n",
            "    accuracy                           0.98        59\n",
            "   macro avg       0.98      0.98      0.98        59\n",
            "weighted avg       0.98      0.98      0.98        59\n",
            "\n",
            "Logistic Regression Test Performance\n",
            "              precision    recall  f1-score   support\n",
            "\n",
            "          No       1.00      0.90      0.95        10\n",
            "         Yes       0.91      1.00      0.95        10\n",
            "\n",
            "    accuracy                           0.95        20\n",
            "   macro avg       0.95      0.95      0.95        20\n",
            "weighted avg       0.95      0.95      0.95        20\n",
            "\n",
            "\n",
            "KNN Train Performance\n",
            "              precision    recall  f1-score   support\n",
            "\n",
            "          No       0.72      0.90      0.80        29\n",
            "         Yes       0.87      0.67      0.75        30\n",
            "\n",
            "    accuracy                           0.78        59\n",
            "   macro avg       0.80      0.78      0.78        59\n",
            "weighted avg       0.80      0.78      0.78        59\n",
            "\n",
            "KNN Test Performance\n",
            "              precision    recall  f1-score   support\n",
            "\n",
            "          No       0.83      1.00      0.91        10\n",
            "         Yes       1.00      0.80      0.89        10\n",
            "\n",
            "    accuracy                           0.90        20\n",
            "   macro avg       0.92      0.90      0.90        20\n",
            "weighted avg       0.92      0.90      0.90        20\n",
            "\n",
            "\n",
            "XGB Train Performance\n",
            "              precision    recall  f1-score   support\n",
            "\n",
            "          No       0.74      0.97      0.84        29\n",
            "         Yes       0.95      0.67      0.78        30\n",
            "\n",
            "    accuracy                           0.81        59\n",
            "   macro avg       0.84      0.82      0.81        59\n",
            "weighted avg       0.85      0.81      0.81        59\n",
            "\n",
            "XGB Test Performance\n",
            "              precision    recall  f1-score   support\n",
            "\n",
            "          No       1.00      0.90      0.95        10\n",
            "         Yes       0.91      1.00      0.95        10\n",
            "\n",
            "    accuracy                           0.95        20\n",
            "   macro avg       0.95      0.95      0.95        20\n",
            "weighted avg       0.95      0.95      0.95        20\n",
            "\n"
          ]
        }
      ]
    },
    {
      "cell_type": "code",
      "source": [
        "plot_confusion_matrix(lr, X_test, y_test, cmap = 'Blues', values_format = 'd')\n",
        "plt.suptitle('LR Performance on Test Data');\n",
        "#the confusion matrix shows us visually what the classification report says\n",
        "#however, it also really shows us how small this data set is"
      ],
      "metadata": {
        "id": "VS2XNUt-fTq8",
        "colab": {
          "base_uri": "https://localhost:8080/",
          "height": 363
        },
        "outputId": "cd5dbc21-d103-4f22-d1c7-d8784ed8f9dd"
      },
      "execution_count": 16,
      "outputs": [
        {
          "output_type": "stream",
          "name": "stderr",
          "text": [
            "/usr/local/lib/python3.7/dist-packages/sklearn/utils/deprecation.py:87: FutureWarning: Function plot_confusion_matrix is deprecated; Function `plot_confusion_matrix` is deprecated in 1.0 and will be removed in 1.2. Use one of the class methods: ConfusionMatrixDisplay.from_predictions or ConfusionMatrixDisplay.from_estimator.\n",
            "  warnings.warn(msg, category=FutureWarning)\n"
          ]
        },
        {
          "output_type": "display_data",
          "data": {
            "image/png": "[encoded data removed]",
            "text/plain": [
              "<Figure size 432x288 with 2 Axes>"
            ]
          },
          "metadata": {
            "needs_background": "light"
          }
        }
      ]
    },
    {
      "cell_type": "code",
      "source": [
        "plot_confusion_matrix(lr, X_train, y_train, cmap = 'Blues', values_format = 'd')\n",
        "plt.suptitle('LR Performance on Train Data');"
      ],
      "metadata": {
        "colab": {
          "base_uri": "https://localhost:8080/",
          "height": 363
        },
        "id": "iVN7Exze0N6s",
        "outputId": "08ff1e25-7339-4744-a828-ff96ac18dc31"
      },
      "execution_count": 17,
      "outputs": [
        {
          "output_type": "stream",
          "name": "stderr",
          "text": [
            "/usr/local/lib/python3.7/dist-packages/sklearn/utils/deprecation.py:87: FutureWarning: Function plot_confusion_matrix is deprecated; Function `plot_confusion_matrix` is deprecated in 1.0 and will be removed in 1.2. Use one of the class methods: ConfusionMatrixDisplay.from_predictions or ConfusionMatrixDisplay.from_estimator.\n",
            "  warnings.warn(msg, category=FutureWarning)\n"
          ]
        },
        {
          "output_type": "display_data",
          "data": {
            "image/png": "[encoded data removed]",
            "text/plain": [
              "<Figure size 432x288 with 2 Axes>"
            ]
          },
          "metadata": {
            "needs_background": "light"
          }
        }
      ]
    },
    {
      "cell_type": "code",
      "source": [
        "plot_confusion_matrix(xgb, X_train, y_train, cmap = 'Blues', values_format = 'd')\n",
        "plt.suptitle('XGB Performance on Train Data');"
      ],
      "metadata": {
        "colab": {
          "base_uri": "https://localhost:8080/",
          "height": 363
        },
        "outputId": "0cbf76e8-2464-44f9-effa-7952ffe07042",
        "id": "0_79paQh94Uw"
      },
      "execution_count": 19,
      "outputs": [
        {
          "output_type": "stream",
          "name": "stderr",
          "text": [
            "/usr/local/lib/python3.7/dist-packages/sklearn/utils/deprecation.py:87: FutureWarning: Function plot_confusion_matrix is deprecated; Function `plot_confusion_matrix` is deprecated in 1.0 and will be removed in 1.2. Use one of the class methods: ConfusionMatrixDisplay.from_predictions or ConfusionMatrixDisplay.from_estimator.\n",
            "  warnings.warn(msg, category=FutureWarning)\n"
          ]
        },
        {
          "output_type": "display_data",
          "data": {
            "image/png": "[encoded data removed]",
            "text/plain": [
              "<Figure size 432x288 with 2 Axes>"
            ]
          },
          "metadata": {
            "needs_background": "light"
          }
        }
      ]
    },
    {
      "cell_type": "code",
      "source": [
        "plot_confusion_matrix(xgb, X_test, y_test, cmap = 'Blues', values_format = 'd')\n",
        "plt.suptitle('XGB Performance on Test Data');\n",
        "#the confusion matrix shows us visually what the classification report says\n",
        "#however, it also really shows us how small this data set is"
      ],
      "metadata": {
        "colab": {
          "base_uri": "https://localhost:8080/",
          "height": 363
        },
        "outputId": "7e835e71-a349-45cf-e6df-14326d05a8db",
        "id": "9dKGQmwr94Uu"
      },
      "execution_count": 18,
      "outputs": [
        {
          "output_type": "stream",
          "name": "stderr",
          "text": [
            "/usr/local/lib/python3.7/dist-packages/sklearn/utils/deprecation.py:87: FutureWarning: Function plot_confusion_matrix is deprecated; Function `plot_confusion_matrix` is deprecated in 1.0 and will be removed in 1.2. Use one of the class methods: ConfusionMatrixDisplay.from_predictions or ConfusionMatrixDisplay.from_estimator.\n",
            "  warnings.warn(msg, category=FutureWarning)\n"
          ]
        },
        {
          "output_type": "display_data",
          "data": {
            "image/png": "[encoded data removed]",
            "text/plain": [
              "<Figure size 432x288 with 2 Axes>"
            ]
          },
          "metadata": {
            "needs_background": "light"
          }
        }
      ]
    }
  ]
}