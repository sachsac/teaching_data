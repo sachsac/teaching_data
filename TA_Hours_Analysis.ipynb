{
  "nbformat": 4,
  "nbformat_minor": 0,
  "metadata": {
    "colab": {
      "name": "TA Hours Analysis",
      "provenance": [],
      "collapsed_sections": [],
      "toc_visible": true,
      "mount_file_id": "1-rN7vtcLb6MYmxEuN1pXLdQ8vqnIgaeF",
      "authorship_tag": "ABX9TyO7RaICGMzFXF0eipdOvYch",
      "include_colab_link": true
    },
    "kernelspec": {
      "name": "python3",
      "display_name": "Python 3"
    },
    "language_info": {
      "name": "python"
    }
  },
  "cells": [
    {
      "cell_type": "markdown",
      "metadata": {
        "id": "view-in-github",
        "colab_type": "text"
      },
      "source": [
        "<a href=\"https://colab.research.google.com/github/sachsac/teaching_data/blob/main/TA_Hours_Analysis.ipynb\" target=\"_parent\"><img src=\"https://colab.research.google.com/assets/colab-badge.svg\" alt=\"Open In Colab\"/></a>"
      ]
    },
    {
      "cell_type": "markdown",
      "source": [
        "# Imports and Installs"
      ],
      "metadata": {
        "id": "HdHW77XYWyQ4"
      }
    },
    {
      "cell_type": "code",
      "source": [
        "!pip install matplotlib==3.5 #for use of bar_label"
      ],
      "metadata": {
        "colab": {
          "base_uri": "https://localhost:8080/",
          "height": 620
        },
        "id": "vIEdT-G3k186",
        "outputId": "e78253e8-7718-4c84-be60-47219dec726f"
      },
      "execution_count": null,
      "outputs": [
        {
          "output_type": "stream",
          "name": "stdout",
          "text": [
            "Collecting matplotlib==3.5\n",
            "  Downloading matplotlib-3.5.0-cp37-cp37m-manylinux_2_5_x86_64.manylinux1_x86_64.whl (11.2 MB)\n",
            "\u001b[K     |████████████████████████████████| 11.2 MB 6.0 MB/s \n",
            "\u001b[?25hCollecting setuptools-scm>=4\n",
            "  Downloading setuptools_scm-6.4.2-py3-none-any.whl (37 kB)\n",
            "Requirement already satisfied: numpy>=1.17 in /usr/local/lib/python3.7/dist-packages (from matplotlib==3.5) (1.21.6)\n",
            "Requirement already satisfied: python-dateutil>=2.7 in /usr/local/lib/python3.7/dist-packages (from matplotlib==3.5) (2.8.2)\n",
            "Collecting fonttools>=4.22.0\n",
            "  Downloading fonttools-4.33.3-py3-none-any.whl (930 kB)\n",
            "\u001b[K     |████████████████████████████████| 930 kB 42.5 MB/s \n",
            "\u001b[?25hRequirement already satisfied: kiwisolver>=1.0.1 in /usr/local/lib/python3.7/dist-packages (from matplotlib==3.5) (1.4.2)\n",
            "Requirement already satisfied: pillow>=6.2.0 in /usr/local/lib/python3.7/dist-packages (from matplotlib==3.5) (7.1.2)\n",
            "Requirement already satisfied: pyparsing>=2.2.1 in /usr/local/lib/python3.7/dist-packages (from matplotlib==3.5) (3.0.8)\n",
            "Requirement already satisfied: cycler>=0.10 in /usr/local/lib/python3.7/dist-packages (from matplotlib==3.5) (0.11.0)\n",
            "Requirement already satisfied: packaging>=20.0 in /usr/local/lib/python3.7/dist-packages (from matplotlib==3.5) (21.3)\n",
            "Requirement already satisfied: typing-extensions in /usr/local/lib/python3.7/dist-packages (from kiwisolver>=1.0.1->matplotlib==3.5) (4.2.0)\n",
            "Requirement already satisfied: six>=1.5 in /usr/local/lib/python3.7/dist-packages (from python-dateutil>=2.7->matplotlib==3.5) (1.15.0)\n",
            "Requirement already satisfied: tomli>=1.0.0 in /usr/local/lib/python3.7/dist-packages (from setuptools-scm>=4->matplotlib==3.5) (2.0.1)\n",
            "Requirement already satisfied: setuptools in /usr/local/lib/python3.7/dist-packages (from setuptools-scm>=4->matplotlib==3.5) (57.4.0)\n",
            "Installing collected packages: setuptools-scm, fonttools, matplotlib\n",
            "  Attempting uninstall: matplotlib\n",
            "    Found existing installation: matplotlib 3.2.2\n",
            "    Uninstalling matplotlib-3.2.2:\n",
            "      Successfully uninstalled matplotlib-3.2.2\n",
            "\u001b[31mERROR: pip's dependency resolver does not currently take into account all the packages that are installed. This behaviour is the source of the following dependency conflicts.\n",
            "albumentations 0.1.12 requires imgaug<0.2.7,>=0.2.5, but you have imgaug 0.2.9 which is incompatible.\u001b[0m\n",
            "Successfully installed fonttools-4.33.3 matplotlib-3.5.0 setuptools-scm-6.4.2\n"
          ]
        },
        {
          "output_type": "display_data",
          "data": {
            "application/vnd.colab-display-data+json": {
              "pip_warning": {
                "packages": [
                  "matplotlib",
                  "mpl_toolkits"
                ]
              }
            }
          },
          "metadata": {}
        }
      ]
    },
    {
      "cell_type": "code",
      "execution_count": null,
      "metadata": {
        "id": "bkWAnlEuxwVO"
      },
      "outputs": [],
      "source": [
        "import pandas as pd\n",
        "import numpy as np\n",
        "import seaborn as sns\n",
        "import matplotlib.pyplot as plt"
      ]
    },
    {
      "cell_type": "markdown",
      "source": [
        "# First Analysis 11/10/2021 - 2/28/2022"
      ],
      "metadata": {
        "id": "v1CQm9xQv3vr"
      }
    },
    {
      "cell_type": "code",
      "source": [
        "df = pd.read_excel('/content/drive/MyDrive/Work/Independent Projects/TA work/TA helping.xlsx', sheet_name='BAS', usecols=['Cohort', 'Stack', 'Day of week','Time (Pacific)', 'Pacific Time (Military)', 'Off Hours Request? Y/N'])\n",
        "df.head()"
      ],
      "metadata": {
        "colab": {
          "base_uri": "https://localhost:8080/",
          "height": 206
        },
        "id": "ygAh6jFax_7S",
        "outputId": "3de1c51b-0c33-450e-f88e-dfc977a051c3"
      },
      "execution_count": null,
      "outputs": [
        {
          "output_type": "execute_result",
          "data": {
            "text/plain": [
              "  Cohort                      Stack Day of week Time (Pacific)  \\\n",
              "0   8/30  Advanced Machine Learning         Wed       15:00:00   \n",
              "1  10/11           Machine Learning         Wed       16:36:00   \n",
              "2   8/30  Advanced Machine Learning         Thu       11:05:00   \n",
              "3   8/30  Advanced Machine Learning         Sun       19:40:00   \n",
              "4   8/30  Advanced Machine Learning         Sun       17:11:00   \n",
              "\n",
              "   Pacific Time (Military) Off Hours Request? Y/N  \n",
              "0                     1500                     No  \n",
              "1                     1636                     No  \n",
              "2                     1105                    Yes  \n",
              "3                     1940                    Yes  \n",
              "4                     1711                    Yes  "
            ],
            "text/html": [
              "\n",
              "  <div id=\"df-58053b00-b6a8-4bde-81d1-8979e30416de\">\n",
              "    <div class=\"colab-df-container\">\n",
              "      <div>\n",
              "<style scoped>\n",
              "    .dataframe tbody tr th:only-of-type {\n",
              "        vertical-align: middle;\n",
              "    }\n",
              "\n",
              "    .dataframe tbody tr th {\n",
              "        vertical-align: top;\n",
              "    }\n",
              "\n",
              "    .dataframe thead th {\n",
              "        text-align: right;\n",
              "    }\n",
              "</style>\n",
              "<table border=\"1\" class=\"dataframe\">\n",
              "  <thead>\n",
              "    <tr style=\"text-align: right;\">\n",
              "      <th></th>\n",
              "      <th>Cohort</th>\n",
              "      <th>Stack</th>\n",
              "      <th>Day of week</th>\n",
              "      <th>Time (Pacific)</th>\n",
              "      <th>Pacific Time (Military)</th>\n",
              "      <th>Off Hours Request? Y/N</th>\n",
              "    </tr>\n",
              "  </thead>\n",
              "  <tbody>\n",
              "    <tr>\n",
              "      <th>0</th>\n",
              "      <td>8/30</td>\n",
              "      <td>Advanced Machine Learning</td>\n",
              "      <td>Wed</td>\n",
              "      <td>15:00:00</td>\n",
              "      <td>1500</td>\n",
              "      <td>No</td>\n",
              "    </tr>\n",
              "    <tr>\n",
              "      <th>1</th>\n",
              "      <td>10/11</td>\n",
              "      <td>Machine Learning</td>\n",
              "      <td>Wed</td>\n",
              "      <td>16:36:00</td>\n",
              "      <td>1636</td>\n",
              "      <td>No</td>\n",
              "    </tr>\n",
              "    <tr>\n",
              "      <th>2</th>\n",
              "      <td>8/30</td>\n",
              "      <td>Advanced Machine Learning</td>\n",
              "      <td>Thu</td>\n",
              "      <td>11:05:00</td>\n",
              "      <td>1105</td>\n",
              "      <td>Yes</td>\n",
              "    </tr>\n",
              "    <tr>\n",
              "      <th>3</th>\n",
              "      <td>8/30</td>\n",
              "      <td>Advanced Machine Learning</td>\n",
              "      <td>Sun</td>\n",
              "      <td>19:40:00</td>\n",
              "      <td>1940</td>\n",
              "      <td>Yes</td>\n",
              "    </tr>\n",
              "    <tr>\n",
              "      <th>4</th>\n",
              "      <td>8/30</td>\n",
              "      <td>Advanced Machine Learning</td>\n",
              "      <td>Sun</td>\n",
              "      <td>17:11:00</td>\n",
              "      <td>1711</td>\n",
              "      <td>Yes</td>\n",
              "    </tr>\n",
              "  </tbody>\n",
              "</table>\n",
              "</div>\n",
              "      <button class=\"colab-df-convert\" onclick=\"convertToInteractive('df-58053b00-b6a8-4bde-81d1-8979e30416de')\"\n",
              "              title=\"Convert this dataframe to an interactive table.\"\n",
              "              style=\"display:none;\">\n",
              "        \n",
              "  <svg xmlns=\"http://www.w3.org/2000/svg\" height=\"24px\"viewBox=\"0 0 24 24\"\n",
              "       width=\"24px\">\n",
              "    <path d=\"M0 0h24v24H0V0z\" fill=\"none\"/>\n",
              "    <path d=\"M18.56 5.44l.94 2.06.94-2.06 2.06-.94-2.06-.94-.94-2.06-.94 2.06-2.06.94zm-11 1L8.5 8.5l.94-2.06 2.06-.94-2.06-.94L8.5 2.5l-.94 2.06-2.06.94zm10 10l.94 2.06.94-2.06 2.06-.94-2.06-.94-.94-2.06-.94 2.06-2.06.94z\"/><path d=\"M17.41 7.96l-1.37-1.37c-.4-.4-.92-.59-1.43-.59-.52 0-1.04.2-1.43.59L10.3 9.45l-7.72 7.72c-.78.78-.78 2.05 0 2.83L4 21.41c.39.39.9.59 1.41.59.51 0 1.02-.2 1.41-.59l7.78-7.78 2.81-2.81c.8-.78.8-2.07 0-2.86zM5.41 20L4 18.59l7.72-7.72 1.47 1.35L5.41 20z\"/>\n",
              "  </svg>\n",
              "      </button>\n",
              "      \n",
              "  <style>\n",
              "    .colab-df-container {\n",
              "      display:flex;\n",
              "      flex-wrap:wrap;\n",
              "      gap: 12px;\n",
              "    }\n",
              "\n",
              "    .colab-df-convert {\n",
              "      background-color: #E8F0FE;\n",
              "      border: none;\n",
              "      border-radius: 50%;\n",
              "      cursor: pointer;\n",
              "      display: none;\n",
              "      fill: #1967D2;\n",
              "      height: 32px;\n",
              "      padding: 0 0 0 0;\n",
              "      width: 32px;\n",
              "    }\n",
              "\n",
              "    .colab-df-convert:hover {\n",
              "      background-color: #E2EBFA;\n",
              "      box-shadow: 0px 1px 2px rgba(60, 64, 67, 0.3), 0px 1px 3px 1px rgba(60, 64, 67, 0.15);\n",
              "      fill: #174EA6;\n",
              "    }\n",
              "\n",
              "    [theme=dark] .colab-df-convert {\n",
              "      background-color: #3B4455;\n",
              "      fill: #D2E3FC;\n",
              "    }\n",
              "\n",
              "    [theme=dark] .colab-df-convert:hover {\n",
              "      background-color: #434B5C;\n",
              "      box-shadow: 0px 1px 3px 1px rgba(0, 0, 0, 0.15);\n",
              "      filter: drop-shadow(0px 1px 2px rgba(0, 0, 0, 0.3));\n",
              "      fill: #FFFFFF;\n",
              "    }\n",
              "  </style>\n",
              "\n",
              "      <script>\n",
              "        const buttonEl =\n",
              "          document.querySelector('#df-58053b00-b6a8-4bde-81d1-8979e30416de button.colab-df-convert');\n",
              "        buttonEl.style.display =\n",
              "          google.colab.kernel.accessAllowed ? 'block' : 'none';\n",
              "\n",
              "        async function convertToInteractive(key) {\n",
              "          const element = document.querySelector('#df-58053b00-b6a8-4bde-81d1-8979e30416de');\n",
              "          const dataTable =\n",
              "            await google.colab.kernel.invokeFunction('convertToInteractive',\n",
              "                                                     [key], {});\n",
              "          if (!dataTable) return;\n",
              "\n",
              "          const docLinkHtml = 'Like what you see? Visit the ' +\n",
              "            '<a target=\"_blank\" href=https://colab.research.google.com/notebooks/data_table.ipynb>data table notebook</a>'\n",
              "            + ' to learn more about interactive tables.';\n",
              "          element.innerHTML = '';\n",
              "          dataTable['output_type'] = 'display_data';\n",
              "          await google.colab.output.renderOutput(dataTable, element);\n",
              "          const docLink = document.createElement('div');\n",
              "          docLink.innerHTML = docLinkHtml;\n",
              "          element.appendChild(docLink);\n",
              "        }\n",
              "      </script>\n",
              "    </div>\n",
              "  </div>\n",
              "  "
            ]
          },
          "metadata": {},
          "execution_count": 2
        }
      ]
    },
    {
      "cell_type": "code",
      "source": [
        "#how much of a sample size do we have?\n",
        "df.info() # number of entries"
      ],
      "metadata": {
        "id": "W31mHNQrDYhf",
        "colab": {
          "base_uri": "https://localhost:8080/"
        },
        "outputId": "3b30079f-8a13-48e7-b793-aeb87b13640a"
      },
      "execution_count": null,
      "outputs": [
        {
          "output_type": "stream",
          "name": "stdout",
          "text": [
            "<class 'pandas.core.frame.DataFrame'>\n",
            "RangeIndex: 83 entries, 0 to 82\n",
            "Data columns (total 6 columns):\n",
            " #   Column                   Non-Null Count  Dtype \n",
            "---  ------                   --------------  ----- \n",
            " 0   Cohort                   83 non-null     object\n",
            " 1   Stack                    83 non-null     object\n",
            " 2   Day of week              83 non-null     object\n",
            " 3   Time (Pacific)           83 non-null     object\n",
            " 4   Pacific Time (Military)  83 non-null     int64 \n",
            " 5   Off Hours Request? Y/N   83 non-null     object\n",
            "dtypes: int64(1), object(5)\n",
            "memory usage: 4.0+ KB\n"
          ]
        }
      ]
    },
    {
      "cell_type": "markdown",
      "source": [
        "## Off hours contact"
      ],
      "metadata": {
        "id": "UtiRfu93rF56"
      }
    },
    {
      "cell_type": "code",
      "source": [
        "offhours = df['Off Hours Request? Y/N'].value_counts(normalize=True)\n",
        "offhours = offhours.mul(100).rename('Percent').reset_index()\n",
        "offhours\n",
        "#https://medium.com/swlh/how-to-create-percentage-plots-for-visualizing-your-data-in-python-f0d894d7c7bb"
      ],
      "metadata": {
        "id": "h7-wd0-9eBpw",
        "colab": {
          "base_uri": "https://localhost:8080/",
          "height": 112
        },
        "outputId": "d0b88885-bb48-4671-e907-87e703520bea"
      },
      "execution_count": null,
      "outputs": [
        {
          "output_type": "execute_result",
          "data": {
            "text/plain": [
              "  index   Percent\n",
              "0   Yes  50.60241\n",
              "1    No  49.39759"
            ],
            "text/html": [
              "\n",
              "  <div id=\"df-20154d1d-8759-4564-b917-e24e0791f418\">\n",
              "    <div class=\"colab-df-container\">\n",
              "      <div>\n",
              "<style scoped>\n",
              "    .dataframe tbody tr th:only-of-type {\n",
              "        vertical-align: middle;\n",
              "    }\n",
              "\n",
              "    .dataframe tbody tr th {\n",
              "        vertical-align: top;\n",
              "    }\n",
              "\n",
              "    .dataframe thead th {\n",
              "        text-align: right;\n",
              "    }\n",
              "</style>\n",
              "<table border=\"1\" class=\"dataframe\">\n",
              "  <thead>\n",
              "    <tr style=\"text-align: right;\">\n",
              "      <th></th>\n",
              "      <th>index</th>\n",
              "      <th>Percent</th>\n",
              "    </tr>\n",
              "  </thead>\n",
              "  <tbody>\n",
              "    <tr>\n",
              "      <th>0</th>\n",
              "      <td>Yes</td>\n",
              "      <td>50.60241</td>\n",
              "    </tr>\n",
              "    <tr>\n",
              "      <th>1</th>\n",
              "      <td>No</td>\n",
              "      <td>49.39759</td>\n",
              "    </tr>\n",
              "  </tbody>\n",
              "</table>\n",
              "</div>\n",
              "      <button class=\"colab-df-convert\" onclick=\"convertToInteractive('df-20154d1d-8759-4564-b917-e24e0791f418')\"\n",
              "              title=\"Convert this dataframe to an interactive table.\"\n",
              "              style=\"display:none;\">\n",
              "        \n",
              "  <svg xmlns=\"http://www.w3.org/2000/svg\" height=\"24px\"viewBox=\"0 0 24 24\"\n",
              "       width=\"24px\">\n",
              "    <path d=\"M0 0h24v24H0V0z\" fill=\"none\"/>\n",
              "    <path d=\"M18.56 5.44l.94 2.06.94-2.06 2.06-.94-2.06-.94-.94-2.06-.94 2.06-2.06.94zm-11 1L8.5 8.5l.94-2.06 2.06-.94-2.06-.94L8.5 2.5l-.94 2.06-2.06.94zm10 10l.94 2.06.94-2.06 2.06-.94-2.06-.94-.94-2.06-.94 2.06-2.06.94z\"/><path d=\"M17.41 7.96l-1.37-1.37c-.4-.4-.92-.59-1.43-.59-.52 0-1.04.2-1.43.59L10.3 9.45l-7.72 7.72c-.78.78-.78 2.05 0 2.83L4 21.41c.39.39.9.59 1.41.59.51 0 1.02-.2 1.41-.59l7.78-7.78 2.81-2.81c.8-.78.8-2.07 0-2.86zM5.41 20L4 18.59l7.72-7.72 1.47 1.35L5.41 20z\"/>\n",
              "  </svg>\n",
              "      </button>\n",
              "      \n",
              "  <style>\n",
              "    .colab-df-container {\n",
              "      display:flex;\n",
              "      flex-wrap:wrap;\n",
              "      gap: 12px;\n",
              "    }\n",
              "\n",
              "    .colab-df-convert {\n",
              "      background-color: #E8F0FE;\n",
              "      border: none;\n",
              "      border-radius: 50%;\n",
              "      cursor: pointer;\n",
              "      display: none;\n",
              "      fill: #1967D2;\n",
              "      height: 32px;\n",
              "      padding: 0 0 0 0;\n",
              "      width: 32px;\n",
              "    }\n",
              "\n",
              "    .colab-df-convert:hover {\n",
              "      background-color: #E2EBFA;\n",
              "      box-shadow: 0px 1px 2px rgba(60, 64, 67, 0.3), 0px 1px 3px 1px rgba(60, 64, 67, 0.15);\n",
              "      fill: #174EA6;\n",
              "    }\n",
              "\n",
              "    [theme=dark] .colab-df-convert {\n",
              "      background-color: #3B4455;\n",
              "      fill: #D2E3FC;\n",
              "    }\n",
              "\n",
              "    [theme=dark] .colab-df-convert:hover {\n",
              "      background-color: #434B5C;\n",
              "      box-shadow: 0px 1px 3px 1px rgba(0, 0, 0, 0.15);\n",
              "      filter: drop-shadow(0px 1px 2px rgba(0, 0, 0, 0.3));\n",
              "      fill: #FFFFFF;\n",
              "    }\n",
              "  </style>\n",
              "\n",
              "      <script>\n",
              "        const buttonEl =\n",
              "          document.querySelector('#df-20154d1d-8759-4564-b917-e24e0791f418 button.colab-df-convert');\n",
              "        buttonEl.style.display =\n",
              "          google.colab.kernel.accessAllowed ? 'block' : 'none';\n",
              "\n",
              "        async function convertToInteractive(key) {\n",
              "          const element = document.querySelector('#df-20154d1d-8759-4564-b917-e24e0791f418');\n",
              "          const dataTable =\n",
              "            await google.colab.kernel.invokeFunction('convertToInteractive',\n",
              "                                                     [key], {});\n",
              "          if (!dataTable) return;\n",
              "\n",
              "          const docLinkHtml = 'Like what you see? Visit the ' +\n",
              "            '<a target=\"_blank\" href=https://colab.research.google.com/notebooks/data_table.ipynb>data table notebook</a>'\n",
              "            + ' to learn more about interactive tables.';\n",
              "          element.innerHTML = '';\n",
              "          dataTable['output_type'] = 'display_data';\n",
              "          await google.colab.output.renderOutput(dataTable, element);\n",
              "          const docLink = document.createElement('div');\n",
              "          docLink.innerHTML = docLinkHtml;\n",
              "          element.appendChild(docLink);\n",
              "        }\n",
              "      </script>\n",
              "    </div>\n",
              "  </div>\n",
              "  "
            ]
          },
          "metadata": {},
          "execution_count": 4
        }
      ]
    },
    {
      "cell_type": "code",
      "source": [
        "g = sns.catplot(x='index', y='Percent', kind='bar', data=offhours)\n",
        "#plt.title('Off Hours Contact')\n",
        "plt.xlabel('Off Hours Contact', fontsize = 12)\n",
        "for p in g.ax.patches:\n",
        "    txt = str(p.get_height().round(1)) + '%'\n",
        "    txt_x = p.get_x()\n",
        "    txt_y = p.get_height()\n",
        "    g.ax.text(txt_x,txt_y,txt) \n",
        "g.ax.get_yaxis().set_visible(False)\n",
        "plt.rcParams.update({'font.size': 12})\n",
        "plt.grid(alpha = 0);\n",
        "#https://medium.com/swlh/how-to-create-percentage-plots-for-visualizing-your-data-in-python-f0d894d7c7bb"
      ],
      "metadata": {
        "id": "nZuglymxeUrH",
        "colab": {
          "base_uri": "https://localhost:8080/",
          "height": 372
        },
        "outputId": "ae189fa3-06d6-46e8-d6f4-0c1512b5e6be"
      },
      "execution_count": null,
      "outputs": [
        {
          "output_type": "display_data",
          "data": {
            "text/plain": [
              "<Figure size 360x360 with 1 Axes>"
            ],
            "image/png": "[encoded data removed]"
          },
          "metadata": {
            "needs_background": "light"
          }
        }
      ]
    },
    {
      "cell_type": "markdown",
      "source": [
        "Shockingly, contact is close to 50/50 regarding if a student asks a TA for help during their hours. A small majority of contact is during off hours."
      ],
      "metadata": {
        "id": "HPUWiBxSbapQ"
      }
    },
    {
      "cell_type": "markdown",
      "source": [
        "## Day analysis"
      ],
      "metadata": {
        "id": "2-k9St2wrJok"
      }
    },
    {
      "cell_type": "code",
      "source": [
        "#my preferred style\n",
        "plt.style.use('seaborn')"
      ],
      "metadata": {
        "id": "n6RmVXfJ1hKC"
      },
      "execution_count": null,
      "outputs": []
    },
    {
      "cell_type": "code",
      "source": [
        "#fig, ax = plt.subplots(3,3)\n",
        "plt.rcParams[\"figure.figsize\"] = (11, 9)\n",
        "df['Pacific Time (Military)'].hist(by = df['Day of week'], bins = 'auto', color = 'orange', edgecolor = 'black');"
      ],
      "metadata": {
        "id": "j2ie5p7qyu2v",
        "colab": {
          "base_uri": "https://localhost:8080/",
          "height": 561
        },
        "outputId": "f0c8a111-73d5-403b-e10e-d1555681a6b8"
      },
      "execution_count": null,
      "outputs": [
        {
          "output_type": "display_data",
          "data": {
            "text/plain": [
              "<Figure size 792x648 with 9 Axes>"
            ],
            "image/png": "[encoded data removed]"
          },
          "metadata": {}
        }
      ]
    },
    {
      "cell_type": "code",
      "source": [
        "sns.histplot(data = df, x='Pacific Time (Military)', hue = \"Day of week\", bins = 'auto')\n",
        "plt.grid(axis = 'x', alpha = 0.3)\n",
        "plt.xlim(0,2400)\n",
        "plt.xticks(rotation = 0, fontsize = 11)\n",
        "plt.yticks(fontsize = 11)\n",
        "plt.xlabel('Time of Day (Military)', fontsize = 12)\n",
        "plt.ylabel('Number of Student Requests', fontsize = 12);"
      ],
      "metadata": {
        "id": "gLTIH_JT2nJ9",
        "colab": {
          "base_uri": "https://localhost:8080/",
          "height": 553
        },
        "outputId": "abb93bcf-f490-4e25-f9b4-8f9fc3ab3541"
      },
      "execution_count": null,
      "outputs": [
        {
          "output_type": "display_data",
          "data": {
            "text/plain": [
              "<Figure size 792x648 with 1 Axes>"
            ],
            "image/png": "[encoded data removed]"
          },
          "metadata": {}
        }
      ]
    },
    {
      "cell_type": "code",
      "source": [
        "ax = df['Day of week'].value_counts().plot(kind= 'bar', color= 'skyblue', edgecolor = 'gray')\n",
        "plt.title('Number of Student Requests by Day of Week')\n",
        "plt.grid(visible = None)\n",
        "plt.xticks(rotation = 0)\n",
        "ax.bar_label(ax.containers[0], fmt = '%d')\n",
        "ax.get_yaxis().set_visible(False);\n",
        "#hide y-axis"
      ],
      "metadata": {
        "id": "qa-o7JQy0P7u",
        "colab": {
          "base_uri": "https://localhost:8080/",
          "height": 552
        },
        "outputId": "febbc1ab-8e79-4d96-d85c-12a906099a7a"
      },
      "execution_count": null,
      "outputs": [
        {
          "output_type": "display_data",
          "data": {
            "text/plain": [
              "<Figure size 792x648 with 1 Axes>"
            ],
            "image/png": "[encoded data removed]"
          },
          "metadata": {}
        }
      ]
    },
    {
      "cell_type": "markdown",
      "source": [
        "## By Cohort"
      ],
      "metadata": {
        "id": "dAfsVC2xrHSL"
      }
    },
    {
      "cell_type": "code",
      "source": [
        "#remove the unknowns\n",
        "df1 = df[df['Cohort']!= 'Unknown']\n",
        "ax = df1['Cohort'].value_counts().plot(kind='bar')\n",
        "plt.xticks(rotation = 0)\n",
        "ax.bar_label(ax.containers[0])\n",
        "plt.grid(visible = None)\n",
        "ax.get_yaxis().set_visible(False);#hide y-axis \n",
        "plt.title('Number of Student Requests by Cohort');"
      ],
      "metadata": {
        "id": "4o-XmyaXEqwU",
        "colab": {
          "base_uri": "https://localhost:8080/",
          "height": 552
        },
        "outputId": "a2bdaca3-1ae7-40c0-9a8c-5a2bac31c0ee"
      },
      "execution_count": null,
      "outputs": [
        {
          "output_type": "display_data",
          "data": {
            "text/plain": [
              "<Figure size 792x648 with 1 Axes>"
            ],
            "image/png": "[encoded data removed]"
          },
          "metadata": {}
        }
      ]
    },
    {
      "cell_type": "markdown",
      "source": [
        "## Stack"
      ],
      "metadata": {
        "id": "onez0rqFHx25"
      }
    },
    {
      "cell_type": "code",
      "source": [
        "ax = df['Stack'].value_counts().plot(kind='bar', color = 'lightslategray')\n",
        "plt.title('Number of Student Requests by Stack', fontsize = 14)\n",
        "plt.xticks(rotation = 0, fontsize = 12)\n",
        "plt.grid(visible = None)\n",
        "ax.bar_label(ax.containers[0])\n",
        "ax.get_yaxis().set_visible(False);#hide y-axis ;"
      ],
      "metadata": {
        "colab": {
          "base_uri": "https://localhost:8080/",
          "height": 556
        },
        "id": "VPevCPovs86D",
        "outputId": "2721ccae-25ab-4509-b767-612d82eeb379"
      },
      "execution_count": null,
      "outputs": [
        {
          "output_type": "display_data",
          "data": {
            "text/plain": [
              "<Figure size 792x648 with 1 Axes>"
            ],
            "image/png": "[encoded data removed]"
          },
          "metadata": {}
        }
      ]
    },
    {
      "cell_type": "markdown",
      "source": [
        "# Second Analysis 3/1/2022 - Present\n",
        "\n",
        "After noticing one problem may be because of the use of a personal account, which sometimes shows me \"Online\" outside of hours due to personal Discord use: received separate account dedicated to TA position, reducing accidental contacts during non-hours."
      ],
      "metadata": {
        "id": "ymINiNGiwAcq"
      }
    },
    {
      "cell_type": "code",
      "source": [
        "df2 = pd.read_excel('/content/drive/MyDrive/Work/Independent Projects/TA work/TA helping.xlsx', sheet_name='AAS', usecols=['Cohort', 'Stack', 'Day of week','Time (Pacific)','Pacific Time (Military)', 'Off Hours Request? Y/N'])\n",
        "df2.head()"
      ],
      "metadata": {
        "colab": {
          "base_uri": "https://localhost:8080/",
          "height": 206
        },
        "id": "79iX79Dkyi48",
        "outputId": "91c55bb7-c589-4b59-f11b-f59f37b5598b"
      },
      "execution_count": null,
      "outputs": [
        {
          "output_type": "execute_result",
          "data": {
            "text/plain": [
              "  Cohort                      Stack Day of week Time (Pacific)  \\\n",
              "0   2/21          Data Fundamentals         Tue       11:08:00   \n",
              "1  11/29  Advanced Machine Learning         Tue       17:50:00   \n",
              "2   1/24           Machine Learning         Tue       18:04:00   \n",
              "3  11/29  Advanced Machine Learning         Tue       18:47:00   \n",
              "4  11/29  Advanced Machine Learning         Wed       14:06:00   \n",
              "\n",
              "   Pacific Time (Military) Off Hours Request? Y/N  \n",
              "0                     1108                    Yes  \n",
              "1                     1750                     No  \n",
              "2                     1804                     No  \n",
              "3                     1847                     No  \n",
              "4                     1406                    Yes  "
            ],
            "text/html": [
              "\n",
              "  <div id=\"df-492ecdf1-7f9b-4759-86a7-073b69832899\">\n",
              "    <div class=\"colab-df-container\">\n",
              "      <div>\n",
              "<style scoped>\n",
              "    .dataframe tbody tr th:only-of-type {\n",
              "        vertical-align: middle;\n",
              "    }\n",
              "\n",
              "    .dataframe tbody tr th {\n",
              "        vertical-align: top;\n",
              "    }\n",
              "\n",
              "    .dataframe thead th {\n",
              "        text-align: right;\n",
              "    }\n",
              "</style>\n",
              "<table border=\"1\" class=\"dataframe\">\n",
              "  <thead>\n",
              "    <tr style=\"text-align: right;\">\n",
              "      <th></th>\n",
              "      <th>Cohort</th>\n",
              "      <th>Stack</th>\n",
              "      <th>Day of week</th>\n",
              "      <th>Time (Pacific)</th>\n",
              "      <th>Pacific Time (Military)</th>\n",
              "      <th>Off Hours Request? Y/N</th>\n",
              "    </tr>\n",
              "  </thead>\n",
              "  <tbody>\n",
              "    <tr>\n",
              "      <th>0</th>\n",
              "      <td>2/21</td>\n",
              "      <td>Data Fundamentals</td>\n",
              "      <td>Tue</td>\n",
              "      <td>11:08:00</td>\n",
              "      <td>1108</td>\n",
              "      <td>Yes</td>\n",
              "    </tr>\n",
              "    <tr>\n",
              "      <th>1</th>\n",
              "      <td>11/29</td>\n",
              "      <td>Advanced Machine Learning</td>\n",
              "      <td>Tue</td>\n",
              "      <td>17:50:00</td>\n",
              "      <td>1750</td>\n",
              "      <td>No</td>\n",
              "    </tr>\n",
              "    <tr>\n",
              "      <th>2</th>\n",
              "      <td>1/24</td>\n",
              "      <td>Machine Learning</td>\n",
              "      <td>Tue</td>\n",
              "      <td>18:04:00</td>\n",
              "      <td>1804</td>\n",
              "      <td>No</td>\n",
              "    </tr>\n",
              "    <tr>\n",
              "      <th>3</th>\n",
              "      <td>11/29</td>\n",
              "      <td>Advanced Machine Learning</td>\n",
              "      <td>Tue</td>\n",
              "      <td>18:47:00</td>\n",
              "      <td>1847</td>\n",
              "      <td>No</td>\n",
              "    </tr>\n",
              "    <tr>\n",
              "      <th>4</th>\n",
              "      <td>11/29</td>\n",
              "      <td>Advanced Machine Learning</td>\n",
              "      <td>Wed</td>\n",
              "      <td>14:06:00</td>\n",
              "      <td>1406</td>\n",
              "      <td>Yes</td>\n",
              "    </tr>\n",
              "  </tbody>\n",
              "</table>\n",
              "</div>\n",
              "      <button class=\"colab-df-convert\" onclick=\"convertToInteractive('df-492ecdf1-7f9b-4759-86a7-073b69832899')\"\n",
              "              title=\"Convert this dataframe to an interactive table.\"\n",
              "              style=\"display:none;\">\n",
              "        \n",
              "  <svg xmlns=\"http://www.w3.org/2000/svg\" height=\"24px\"viewBox=\"0 0 24 24\"\n",
              "       width=\"24px\">\n",
              "    <path d=\"M0 0h24v24H0V0z\" fill=\"none\"/>\n",
              "    <path d=\"M18.56 5.44l.94 2.06.94-2.06 2.06-.94-2.06-.94-.94-2.06-.94 2.06-2.06.94zm-11 1L8.5 8.5l.94-2.06 2.06-.94-2.06-.94L8.5 2.5l-.94 2.06-2.06.94zm10 10l.94 2.06.94-2.06 2.06-.94-2.06-.94-.94-2.06-.94 2.06-2.06.94z\"/><path d=\"M17.41 7.96l-1.37-1.37c-.4-.4-.92-.59-1.43-.59-.52 0-1.04.2-1.43.59L10.3 9.45l-7.72 7.72c-.78.78-.78 2.05 0 2.83L4 21.41c.39.39.9.59 1.41.59.51 0 1.02-.2 1.41-.59l7.78-7.78 2.81-2.81c.8-.78.8-2.07 0-2.86zM5.41 20L4 18.59l7.72-7.72 1.47 1.35L5.41 20z\"/>\n",
              "  </svg>\n",
              "      </button>\n",
              "      \n",
              "  <style>\n",
              "    .colab-df-container {\n",
              "      display:flex;\n",
              "      flex-wrap:wrap;\n",
              "      gap: 12px;\n",
              "    }\n",
              "\n",
              "    .colab-df-convert {\n",
              "      background-color: #E8F0FE;\n",
              "      border: none;\n",
              "      border-radius: 50%;\n",
              "      cursor: pointer;\n",
              "      display: none;\n",
              "      fill: #1967D2;\n",
              "      height: 32px;\n",
              "      padding: 0 0 0 0;\n",
              "      width: 32px;\n",
              "    }\n",
              "\n",
              "    .colab-df-convert:hover {\n",
              "      background-color: #E2EBFA;\n",
              "      box-shadow: 0px 1px 2px rgba(60, 64, 67, 0.3), 0px 1px 3px 1px rgba(60, 64, 67, 0.15);\n",
              "      fill: #174EA6;\n",
              "    }\n",
              "\n",
              "    [theme=dark] .colab-df-convert {\n",
              "      background-color: #3B4455;\n",
              "      fill: #D2E3FC;\n",
              "    }\n",
              "\n",
              "    [theme=dark] .colab-df-convert:hover {\n",
              "      background-color: #434B5C;\n",
              "      box-shadow: 0px 1px 3px 1px rgba(0, 0, 0, 0.15);\n",
              "      filter: drop-shadow(0px 1px 2px rgba(0, 0, 0, 0.3));\n",
              "      fill: #FFFFFF;\n",
              "    }\n",
              "  </style>\n",
              "\n",
              "      <script>\n",
              "        const buttonEl =\n",
              "          document.querySelector('#df-492ecdf1-7f9b-4759-86a7-073b69832899 button.colab-df-convert');\n",
              "        buttonEl.style.display =\n",
              "          google.colab.kernel.accessAllowed ? 'block' : 'none';\n",
              "\n",
              "        async function convertToInteractive(key) {\n",
              "          const element = document.querySelector('#df-492ecdf1-7f9b-4759-86a7-073b69832899');\n",
              "          const dataTable =\n",
              "            await google.colab.kernel.invokeFunction('convertToInteractive',\n",
              "                                                     [key], {});\n",
              "          if (!dataTable) return;\n",
              "\n",
              "          const docLinkHtml = 'Like what you see? Visit the ' +\n",
              "            '<a target=\"_blank\" href=https://colab.research.google.com/notebooks/data_table.ipynb>data table notebook</a>'\n",
              "            + ' to learn more about interactive tables.';\n",
              "          element.innerHTML = '';\n",
              "          dataTable['output_type'] = 'display_data';\n",
              "          await google.colab.output.renderOutput(dataTable, element);\n",
              "          const docLink = document.createElement('div');\n",
              "          docLink.innerHTML = docLinkHtml;\n",
              "          element.appendChild(docLink);\n",
              "        }\n",
              "      </script>\n",
              "    </div>\n",
              "  </div>\n",
              "  "
            ]
          },
          "metadata": {},
          "execution_count": 12
        }
      ]
    },
    {
      "cell_type": "code",
      "source": [
        "#how much of a sample size do we have?\n",
        "df2.info() # number of entries = sample size"
      ],
      "metadata": {
        "colab": {
          "base_uri": "https://localhost:8080/"
        },
        "outputId": "5868f327-d3a8-44dc-83a5-3a4bdf477e9b",
        "id": "9TPqop32y9Qr"
      },
      "execution_count": null,
      "outputs": [
        {
          "output_type": "stream",
          "name": "stdout",
          "text": [
            "<class 'pandas.core.frame.DataFrame'>\n",
            "RangeIndex: 59 entries, 0 to 58\n",
            "Data columns (total 6 columns):\n",
            " #   Column                   Non-Null Count  Dtype \n",
            "---  ------                   --------------  ----- \n",
            " 0   Cohort                   59 non-null     object\n",
            " 1   Stack                    59 non-null     object\n",
            " 2   Day of week              59 non-null     object\n",
            " 3   Time (Pacific)           59 non-null     object\n",
            " 4   Pacific Time (Military)  59 non-null     int64 \n",
            " 5   Off Hours Request? Y/N   59 non-null     object\n",
            "dtypes: int64(1), object(5)\n",
            "memory usage: 2.9+ KB\n"
          ]
        }
      ]
    },
    {
      "cell_type": "markdown",
      "source": [
        "## Off hours contact"
      ],
      "metadata": {
        "id": "_Uo131oey9Qw"
      }
    },
    {
      "cell_type": "code",
      "source": [
        "offhours2 = df2['Off Hours Request? Y/N'].value_counts(normalize=True)\n",
        "offhours2 = offhours2.mul(100).rename('Percent').reset_index()\n",
        "offhours2\n",
        "#https://medium.com/swlh/how-to-create-percentage-plots-for-visualizing-your-data-in-python-f0d894d7c7bb"
      ],
      "metadata": {
        "colab": {
          "base_uri": "https://localhost:8080/",
          "height": 112
        },
        "outputId": "abbf66d8-0132-4c8f-e2d9-6d4f9ebf0b87",
        "id": "RGYvFKrHy9Qw"
      },
      "execution_count": null,
      "outputs": [
        {
          "output_type": "execute_result",
          "data": {
            "text/plain": [
              "  index    Percent\n",
              "0    No  76.271186\n",
              "1   Yes  23.728814"
            ],
            "text/html": [
              "\n",
              "  <div id=\"df-c4bf33e2-60c7-4f43-9628-986bae617d44\">\n",
              "    <div class=\"colab-df-container\">\n",
              "      <div>\n",
              "<style scoped>\n",
              "    .dataframe tbody tr th:only-of-type {\n",
              "        vertical-align: middle;\n",
              "    }\n",
              "\n",
              "    .dataframe tbody tr th {\n",
              "        vertical-align: top;\n",
              "    }\n",
              "\n",
              "    .dataframe thead th {\n",
              "        text-align: right;\n",
              "    }\n",
              "</style>\n",
              "<table border=\"1\" class=\"dataframe\">\n",
              "  <thead>\n",
              "    <tr style=\"text-align: right;\">\n",
              "      <th></th>\n",
              "      <th>index</th>\n",
              "      <th>Percent</th>\n",
              "    </tr>\n",
              "  </thead>\n",
              "  <tbody>\n",
              "    <tr>\n",
              "      <th>0</th>\n",
              "      <td>No</td>\n",
              "      <td>76.271186</td>\n",
              "    </tr>\n",
              "    <tr>\n",
              "      <th>1</th>\n",
              "      <td>Yes</td>\n",
              "      <td>23.728814</td>\n",
              "    </tr>\n",
              "  </tbody>\n",
              "</table>\n",
              "</div>\n",
              "      <button class=\"colab-df-convert\" onclick=\"convertToInteractive('df-c4bf33e2-60c7-4f43-9628-986bae617d44')\"\n",
              "              title=\"Convert this dataframe to an interactive table.\"\n",
              "              style=\"display:none;\">\n",
              "        \n",
              "  <svg xmlns=\"http://www.w3.org/2000/svg\" height=\"24px\"viewBox=\"0 0 24 24\"\n",
              "       width=\"24px\">\n",
              "    <path d=\"M0 0h24v24H0V0z\" fill=\"none\"/>\n",
              "    <path d=\"M18.56 5.44l.94 2.06.94-2.06 2.06-.94-2.06-.94-.94-2.06-.94 2.06-2.06.94zm-11 1L8.5 8.5l.94-2.06 2.06-.94-2.06-.94L8.5 2.5l-.94 2.06-2.06.94zm10 10l.94 2.06.94-2.06 2.06-.94-2.06-.94-.94-2.06-.94 2.06-2.06.94z\"/><path d=\"M17.41 7.96l-1.37-1.37c-.4-.4-.92-.59-1.43-.59-.52 0-1.04.2-1.43.59L10.3 9.45l-7.72 7.72c-.78.78-.78 2.05 0 2.83L4 21.41c.39.39.9.59 1.41.59.51 0 1.02-.2 1.41-.59l7.78-7.78 2.81-2.81c.8-.78.8-2.07 0-2.86zM5.41 20L4 18.59l7.72-7.72 1.47 1.35L5.41 20z\"/>\n",
              "  </svg>\n",
              "      </button>\n",
              "      \n",
              "  <style>\n",
              "    .colab-df-container {\n",
              "      display:flex;\n",
              "      flex-wrap:wrap;\n",
              "      gap: 12px;\n",
              "    }\n",
              "\n",
              "    .colab-df-convert {\n",
              "      background-color: #E8F0FE;\n",
              "      border: none;\n",
              "      border-radius: 50%;\n",
              "      cursor: pointer;\n",
              "      display: none;\n",
              "      fill: #1967D2;\n",
              "      height: 32px;\n",
              "      padding: 0 0 0 0;\n",
              "      width: 32px;\n",
              "    }\n",
              "\n",
              "    .colab-df-convert:hover {\n",
              "      background-color: #E2EBFA;\n",
              "      box-shadow: 0px 1px 2px rgba(60, 64, 67, 0.3), 0px 1px 3px 1px rgba(60, 64, 67, 0.15);\n",
              "      fill: #174EA6;\n",
              "    }\n",
              "\n",
              "    [theme=dark] .colab-df-convert {\n",
              "      background-color: #3B4455;\n",
              "      fill: #D2E3FC;\n",
              "    }\n",
              "\n",
              "    [theme=dark] .colab-df-convert:hover {\n",
              "      background-color: #434B5C;\n",
              "      box-shadow: 0px 1px 3px 1px rgba(0, 0, 0, 0.15);\n",
              "      filter: drop-shadow(0px 1px 2px rgba(0, 0, 0, 0.3));\n",
              "      fill: #FFFFFF;\n",
              "    }\n",
              "  </style>\n",
              "\n",
              "      <script>\n",
              "        const buttonEl =\n",
              "          document.querySelector('#df-c4bf33e2-60c7-4f43-9628-986bae617d44 button.colab-df-convert');\n",
              "        buttonEl.style.display =\n",
              "          google.colab.kernel.accessAllowed ? 'block' : 'none';\n",
              "\n",
              "        async function convertToInteractive(key) {\n",
              "          const element = document.querySelector('#df-c4bf33e2-60c7-4f43-9628-986bae617d44');\n",
              "          const dataTable =\n",
              "            await google.colab.kernel.invokeFunction('convertToInteractive',\n",
              "                                                     [key], {});\n",
              "          if (!dataTable) return;\n",
              "\n",
              "          const docLinkHtml = 'Like what you see? Visit the ' +\n",
              "            '<a target=\"_blank\" href=https://colab.research.google.com/notebooks/data_table.ipynb>data table notebook</a>'\n",
              "            + ' to learn more about interactive tables.';\n",
              "          element.innerHTML = '';\n",
              "          dataTable['output_type'] = 'display_data';\n",
              "          await google.colab.output.renderOutput(dataTable, element);\n",
              "          const docLink = document.createElement('div');\n",
              "          docLink.innerHTML = docLinkHtml;\n",
              "          element.appendChild(docLink);\n",
              "        }\n",
              "      </script>\n",
              "    </div>\n",
              "  </div>\n",
              "  "
            ]
          },
          "metadata": {},
          "execution_count": 14
        }
      ]
    },
    {
      "cell_type": "code",
      "source": [
        "g = sns.catplot(x='index', y='Percent', kind='bar', data=offhours2)\n",
        "plt.xlabel('Off Hours Contact', fontsize = 12)\n",
        "for p in g.ax.patches:\n",
        "    txt = str(p.get_height().round(1)) + '%'\n",
        "    txt_x = p.get_x()\n",
        "    txt_y = p.get_height()\n",
        "    g.ax.text(txt_x,txt_y,txt)\n",
        "\n",
        "g.ax.get_yaxis().set_visible(False) \n",
        "plt.rcParams.update({'font.size': 12})\n",
        "plt.grid(alpha = 0);\n",
        "#https://medium.com/swlh/how-to-create-percentage-plots-for-visualizing-your-data-in-python-f0d894d7c7bb"
      ],
      "metadata": {
        "colab": {
          "base_uri": "https://localhost:8080/",
          "height": 363
        },
        "outputId": "7708e9bc-a747-4dc9-edc7-7366b7a7521a",
        "id": "gcI10uh8y9Qx"
      },
      "execution_count": null,
      "outputs": [
        {
          "output_type": "display_data",
          "data": {
            "text/plain": [
              "<Figure size 360x360 with 1 Axes>"
            ],
            "image/png": "[encoded data removed]"
          },
          "metadata": {}
        }
      ]
    },
    {
      "cell_type": "markdown",
      "source": [
        "Drastically reduced off hour contact from students"
      ],
      "metadata": {
        "id": "0KJZpkqb0bOL"
      }
    },
    {
      "cell_type": "markdown",
      "source": [
        "## Day analysis"
      ],
      "metadata": {
        "id": "hMLQX0HMy9Qs"
      }
    },
    {
      "cell_type": "code",
      "source": [
        "df2['Pacific Time (Military)'].hist(by = df2['Day of week'], bins = 'auto', color = 'black', edgecolor = 'white');\n",
        "#in this data I did not help on a monday"
      ],
      "metadata": {
        "colab": {
          "base_uri": "https://localhost:8080/",
          "height": 561
        },
        "outputId": "7e39c1fa-6d5b-4a17-db2f-0e72659728f7",
        "id": "gJ5-P8ZTy9Qt"
      },
      "execution_count": null,
      "outputs": [
        {
          "output_type": "display_data",
          "data": {
            "text/plain": [
              "<Figure size 792x648 with 6 Axes>"
            ],
            "image/png": "[encoded data removed]"
          },
          "metadata": {}
        }
      ]
    },
    {
      "cell_type": "code",
      "source": [
        "sns.histplot(data = df2, x='Pacific Time (Military)', hue = \"Day of week\", bins = 'auto')\n",
        "plt.grid(alpha = 0.3, axis = 'x')\n",
        "plt.xlim(0, 2400) \n",
        "plt.xticks(rotation = 0, fontsize = 11)\n",
        "plt.yticks(fontsize = 11)\n",
        "plt.xlabel('Time of Day (Military)', fontsize = 12)\n",
        "plt.ylabel('Number of Student Requests', fontsize = 12);"
      ],
      "metadata": {
        "colab": {
          "base_uri": "https://localhost:8080/",
          "height": 553
        },
        "outputId": "9969b949-9bb3-462f-bf6a-d739d45dc301",
        "id": "aLUfKYNTy9Qt"
      },
      "execution_count": null,
      "outputs": [
        {
          "output_type": "display_data",
          "data": {
            "text/plain": [
              "<Figure size 792x648 with 1 Axes>"
            ],
            "image/png": "[encoded data removed]"
          },
          "metadata": {}
        }
      ]
    },
    {
      "cell_type": "code",
      "source": [
        "ax = df2['Day of week'].value_counts().plot(kind= 'bar', color= 'teal', edgecolor = 'gray')\n",
        "plt.title('Total Student Requests by Day of Week')\n",
        "plt.ylabel('Number of Students')\n",
        "plt.xticks(rotation = 0)\n",
        "plt.grid(alpha = 0)\n",
        "ax.bar_label(ax.containers[0])\n",
        "ax.get_yaxis().set_visible(False);#hide y-axis"
      ],
      "metadata": {
        "colab": {
          "base_uri": "https://localhost:8080/",
          "height": 552
        },
        "outputId": "4cff2ca0-e2aa-46b7-f6cc-13873f9edc6c",
        "id": "WJ4ISxCOy9Qu"
      },
      "execution_count": null,
      "outputs": [
        {
          "output_type": "display_data",
          "data": {
            "text/plain": [
              "<Figure size 792x648 with 1 Axes>"
            ],
            "image/png": "[encoded data removed]"
          },
          "metadata": {}
        }
      ]
    },
    {
      "cell_type": "markdown",
      "source": [
        "## Cohort"
      ],
      "metadata": {
        "id": "Gn6iip_iHsgg"
      }
    },
    {
      "cell_type": "code",
      "source": [
        "ax = df2['Cohort'].value_counts().plot(kind='bar')\n",
        "ax.bar_label(ax.containers[0]) #add data values to top of bar\n",
        "ax.get_yaxis().set_visible(False) #hide y-axis \n",
        "plt.xticks(rotation = 0)\n",
        "plt.grid(visible = None)\n",
        "plt.title('Number of Student Requests by Cohort');"
      ],
      "metadata": {
        "colab": {
          "base_uri": "https://localhost:8080/",
          "height": 552
        },
        "outputId": "43053186-60d6-4753-9674-a84fd829d269",
        "id": "reV-4XIuy9Qw"
      },
      "execution_count": null,
      "outputs": [
        {
          "output_type": "display_data",
          "data": {
            "text/plain": [
              "<Figure size 792x648 with 1 Axes>"
            ],
            "image/png": "[encoded data removed]"
          },
          "metadata": {}
        }
      ]
    },
    {
      "cell_type": "markdown",
      "source": [
        "## Stack"
      ],
      "metadata": {
        "id": "6vNWgcNhHvRI"
      }
    },
    {
      "cell_type": "code",
      "source": [
        "ax = df2['Stack'].value_counts().plot(kind='bar', color = 'lightslategray')\n",
        "plt.title('Number of Student Requests by Stack or Alumni Status', fontsize = 14)\n",
        "plt.xticks(rotation = 0, fontsize = 10)\n",
        "plt.grid(alpha = 0) #grid by default, want to not show \n",
        "ax.bar_label(ax.containers[0])\n",
        "ax.get_yaxis().set_visible(False);#hide y-axis "
      ],
      "metadata": {
        "colab": {
          "base_uri": "https://localhost:8080/",
          "height": 554
        },
        "outputId": "2309aeea-4801-4908-bce7-f17731bb091a",
        "id": "Fy2pMl26y9Qw"
      },
      "execution_count": null,
      "outputs": [
        {
          "output_type": "display_data",
          "data": {
            "text/plain": [
              "<Figure size 792x648 with 1 Axes>"
            ],
            "image/png": "[encoded data removed]"
          },
          "metadata": {}
        }
      ]
    },
    {
      "cell_type": "markdown",
      "source": [
        "# Time with Students Analysis\n",
        "\n",
        "How long do interactions take with a student?"
      ],
      "metadata": {
        "id": "WCkFTTPPor7_"
      }
    },
    {
      "cell_type": "code",
      "source": [
        "timedf = pd.read_excel('/content/drive/MyDrive/Work/Independent Projects/TA work/TA helping.xlsx', sheet_name='AAS')\n",
        "timedf.drop(columns = 'Student', inplace= True)\n",
        "timedf.head()"
      ],
      "metadata": {
        "colab": {
          "base_uri": "https://localhost:8080/",
          "height": 355
        },
        "id": "kQ1CgJ51oxsi",
        "outputId": "ddc5d078-50ac-483a-e65c-0ffffa946c03"
      },
      "execution_count": null,
      "outputs": [
        {
          "output_type": "execute_result",
          "data": {
            "text/plain": [
              "  Cohort                      Stack      Time       Date Day of week  \\\n",
              "0   2/21          Data Fundamentals  14:08:00 2022-03-01         Tue   \n",
              "1  11/29  Advanced Machine Learning  20:50:00 2022-03-01         Tue   \n",
              "2   1/24           Machine Learning  21:04:00 2022-03-01         Tue   \n",
              "3  11/29  Advanced Machine Learning  21:47:00 2022-03-01         Tue   \n",
              "4  11/29  Advanced Machine Learning  17:06:00 2022-03-02         Wed   \n",
              "\n",
              "  Time (Pacific)  Pacific Time (Military) Off Hours Request? Y/N End Time  \\\n",
              "0       11:08:00                     1108                    Yes      NaN   \n",
              "1       17:50:00                     1750                     No      NaN   \n",
              "2       18:04:00                     1804                     No      NaN   \n",
              "3       18:47:00                     1847                     No      NaN   \n",
              "4       14:06:00                     1406                    Yes      NaN   \n",
              "\n",
              "  End Time Pacific  End Time (Military)  Total Time helping (mins)  \n",
              "0              NaN                  NaN                        NaN  \n",
              "1              NaN                  NaN                        NaN  \n",
              "2              NaN                  NaN                        NaN  \n",
              "3              NaN                  NaN                        NaN  \n",
              "4              NaN                  NaN                        NaN  "
            ],
            "text/html": [
              "\n",
              "  <div id=\"df-61e0952f-25c9-4e25-99bf-c8b713169a32\">\n",
              "    <div class=\"colab-df-container\">\n",
              "      <div>\n",
              "<style scoped>\n",
              "    .dataframe tbody tr th:only-of-type {\n",
              "        vertical-align: middle;\n",
              "    }\n",
              "\n",
              "    .dataframe tbody tr th {\n",
              "        vertical-align: top;\n",
              "    }\n",
              "\n",
              "    .dataframe thead th {\n",
              "        text-align: right;\n",
              "    }\n",
              "</style>\n",
              "<table border=\"1\" class=\"dataframe\">\n",
              "  <thead>\n",
              "    <tr style=\"text-align: right;\">\n",
              "      <th></th>\n",
              "      <th>Cohort</th>\n",
              "      <th>Stack</th>\n",
              "      <th>Time</th>\n",
              "      <th>Date</th>\n",
              "      <th>Day of week</th>\n",
              "      <th>Time (Pacific)</th>\n",
              "      <th>Pacific Time (Military)</th>\n",
              "      <th>Off Hours Request? Y/N</th>\n",
              "      <th>End Time</th>\n",
              "      <th>End Time Pacific</th>\n",
              "      <th>End Time (Military)</th>\n",
              "      <th>Total Time helping (mins)</th>\n",
              "    </tr>\n",
              "  </thead>\n",
              "  <tbody>\n",
              "    <tr>\n",
              "      <th>0</th>\n",
              "      <td>2/21</td>\n",
              "      <td>Data Fundamentals</td>\n",
              "      <td>14:08:00</td>\n",
              "      <td>2022-03-01</td>\n",
              "      <td>Tue</td>\n",
              "      <td>11:08:00</td>\n",
              "      <td>1108</td>\n",
              "      <td>Yes</td>\n",
              "      <td>NaN</td>\n",
              "      <td>NaN</td>\n",
              "      <td>NaN</td>\n",
              "      <td>NaN</td>\n",
              "    </tr>\n",
              "    <tr>\n",
              "      <th>1</th>\n",
              "      <td>11/29</td>\n",
              "      <td>Advanced Machine Learning</td>\n",
              "      <td>20:50:00</td>\n",
              "      <td>2022-03-01</td>\n",
              "      <td>Tue</td>\n",
              "      <td>17:50:00</td>\n",
              "      <td>1750</td>\n",
              "      <td>No</td>\n",
              "      <td>NaN</td>\n",
              "      <td>NaN</td>\n",
              "      <td>NaN</td>\n",
              "      <td>NaN</td>\n",
              "    </tr>\n",
              "    <tr>\n",
              "      <th>2</th>\n",
              "      <td>1/24</td>\n",
              "      <td>Machine Learning</td>\n",
              "      <td>21:04:00</td>\n",
              "      <td>2022-03-01</td>\n",
              "      <td>Tue</td>\n",
              "      <td>18:04:00</td>\n",
              "      <td>1804</td>\n",
              "      <td>No</td>\n",
              "      <td>NaN</td>\n",
              "      <td>NaN</td>\n",
              "      <td>NaN</td>\n",
              "      <td>NaN</td>\n",
              "    </tr>\n",
              "    <tr>\n",
              "      <th>3</th>\n",
              "      <td>11/29</td>\n",
              "      <td>Advanced Machine Learning</td>\n",
              "      <td>21:47:00</td>\n",
              "      <td>2022-03-01</td>\n",
              "      <td>Tue</td>\n",
              "      <td>18:47:00</td>\n",
              "      <td>1847</td>\n",
              "      <td>No</td>\n",
              "      <td>NaN</td>\n",
              "      <td>NaN</td>\n",
              "      <td>NaN</td>\n",
              "      <td>NaN</td>\n",
              "    </tr>\n",
              "    <tr>\n",
              "      <th>4</th>\n",
              "      <td>11/29</td>\n",
              "      <td>Advanced Machine Learning</td>\n",
              "      <td>17:06:00</td>\n",
              "      <td>2022-03-02</td>\n",
              "      <td>Wed</td>\n",
              "      <td>14:06:00</td>\n",
              "      <td>1406</td>\n",
              "      <td>Yes</td>\n",
              "      <td>NaN</td>\n",
              "      <td>NaN</td>\n",
              "      <td>NaN</td>\n",
              "      <td>NaN</td>\n",
              "    </tr>\n",
              "  </tbody>\n",
              "</table>\n",
              "</div>\n",
              "      <button class=\"colab-df-convert\" onclick=\"convertToInteractive('df-61e0952f-25c9-4e25-99bf-c8b713169a32')\"\n",
              "              title=\"Convert this dataframe to an interactive table.\"\n",
              "              style=\"display:none;\">\n",
              "        \n",
              "  <svg xmlns=\"http://www.w3.org/2000/svg\" height=\"24px\"viewBox=\"0 0 24 24\"\n",
              "       width=\"24px\">\n",
              "    <path d=\"M0 0h24v24H0V0z\" fill=\"none\"/>\n",
              "    <path d=\"M18.56 5.44l.94 2.06.94-2.06 2.06-.94-2.06-.94-.94-2.06-.94 2.06-2.06.94zm-11 1L8.5 8.5l.94-2.06 2.06-.94-2.06-.94L8.5 2.5l-.94 2.06-2.06.94zm10 10l.94 2.06.94-2.06 2.06-.94-2.06-.94-.94-2.06-.94 2.06-2.06.94z\"/><path d=\"M17.41 7.96l-1.37-1.37c-.4-.4-.92-.59-1.43-.59-.52 0-1.04.2-1.43.59L10.3 9.45l-7.72 7.72c-.78.78-.78 2.05 0 2.83L4 21.41c.39.39.9.59 1.41.59.51 0 1.02-.2 1.41-.59l7.78-7.78 2.81-2.81c.8-.78.8-2.07 0-2.86zM5.41 20L4 18.59l7.72-7.72 1.47 1.35L5.41 20z\"/>\n",
              "  </svg>\n",
              "      </button>\n",
              "      \n",
              "  <style>\n",
              "    .colab-df-container {\n",
              "      display:flex;\n",
              "      flex-wrap:wrap;\n",
              "      gap: 12px;\n",
              "    }\n",
              "\n",
              "    .colab-df-convert {\n",
              "      background-color: #E8F0FE;\n",
              "      border: none;\n",
              "      border-radius: 50%;\n",
              "      cursor: pointer;\n",
              "      display: none;\n",
              "      fill: #1967D2;\n",
              "      height: 32px;\n",
              "      padding: 0 0 0 0;\n",
              "      width: 32px;\n",
              "    }\n",
              "\n",
              "    .colab-df-convert:hover {\n",
              "      background-color: #E2EBFA;\n",
              "      box-shadow: 0px 1px 2px rgba(60, 64, 67, 0.3), 0px 1px 3px 1px rgba(60, 64, 67, 0.15);\n",
              "      fill: #174EA6;\n",
              "    }\n",
              "\n",
              "    [theme=dark] .colab-df-convert {\n",
              "      background-color: #3B4455;\n",
              "      fill: #D2E3FC;\n",
              "    }\n",
              "\n",
              "    [theme=dark] .colab-df-convert:hover {\n",
              "      background-color: #434B5C;\n",
              "      box-shadow: 0px 1px 3px 1px rgba(0, 0, 0, 0.15);\n",
              "      filter: drop-shadow(0px 1px 2px rgba(0, 0, 0, 0.3));\n",
              "      fill: #FFFFFF;\n",
              "    }\n",
              "  </style>\n",
              "\n",
              "      <script>\n",
              "        const buttonEl =\n",
              "          document.querySelector('#df-61e0952f-25c9-4e25-99bf-c8b713169a32 button.colab-df-convert');\n",
              "        buttonEl.style.display =\n",
              "          google.colab.kernel.accessAllowed ? 'block' : 'none';\n",
              "\n",
              "        async function convertToInteractive(key) {\n",
              "          const element = document.querySelector('#df-61e0952f-25c9-4e25-99bf-c8b713169a32');\n",
              "          const dataTable =\n",
              "            await google.colab.kernel.invokeFunction('convertToInteractive',\n",
              "                                                     [key], {});\n",
              "          if (!dataTable) return;\n",
              "\n",
              "          const docLinkHtml = 'Like what you see? Visit the ' +\n",
              "            '<a target=\"_blank\" href=https://colab.research.google.com/notebooks/data_table.ipynb>data table notebook</a>'\n",
              "            + ' to learn more about interactive tables.';\n",
              "          element.innerHTML = '';\n",
              "          dataTable['output_type'] = 'display_data';\n",
              "          await google.colab.output.renderOutput(dataTable, element);\n",
              "          const docLink = document.createElement('div');\n",
              "          docLink.innerHTML = docLinkHtml;\n",
              "          element.appendChild(docLink);\n",
              "        }\n",
              "      </script>\n",
              "    </div>\n",
              "  </div>\n",
              "  "
            ]
          },
          "metadata": {},
          "execution_count": 21
        }
      ]
    },
    {
      "cell_type": "code",
      "source": [
        "#not everyone in this has the begin and end times \n",
        "time_nulls = timedf['Total Time helping (mins)'].isna()\n",
        "timedf[~time_nulls]"
      ],
      "metadata": {
        "colab": {
          "base_uri": "https://localhost:8080/",
          "height": 1000
        },
        "id": "P4x2IM46pT_F",
        "outputId": "9cdbc114-9fcd-4412-acf4-338db9ef51b8"
      },
      "execution_count": null,
      "outputs": [
        {
          "output_type": "execute_result",
          "data": {
            "text/plain": [
              "   Cohort                      Stack      Time       Date Day of week  \\\n",
              "8    2/21          Data Fundamentals  21:38:00 2022-03-02         Wed   \n",
              "17   2/21          Data Fundamentals  20:26:00 2022-03-08         Tue   \n",
              "18   1/24           Machine Learning  09:45:00 2022-03-09         Wed   \n",
              "19   2/21          Data Fundamentals  11:39:00 2022-03-09         Wed   \n",
              "20   2/21          Data Fundamentals  17:28:00 2022-03-09         Wed   \n",
              "21   1/24           Machine Learning  15:20:00 2022-03-12         Sat   \n",
              "22   1/24           Machine Learning  17:28:00 2022-03-12         Sat   \n",
              "23   1/24           Machine Learning  17:48:00 2022-03-12         Sat   \n",
              "24   2/21          Data Fundamentals  21:28:00 2022-03-13         Sun   \n",
              "25   1/24           Machine Learning  21:35:00 2022-03-15         Tue   \n",
              "26  10/11                     Alumni  10:13:00 2022-03-16         Wed   \n",
              "27   2/21          Data Fundamentals  19:45:00 2022-03-17         Thu   \n",
              "28   1/24           Machine Learning  16:14:00 2022-03-20         Sun   \n",
              "29   3/21                Prebootcamp  16:26:00 2022-03-20         Sun   \n",
              "30   3/21          Data Fundamentals  20:15:00 2022-03-22         Tue   \n",
              "31   3/21          Data Fundamentals  20:17:00 2022-03-22         Tue   \n",
              "32   3/21          Data Fundamentals  20:18:00 2022-03-22         Tue   \n",
              "33   3/21          Data Fundamentals  20:21:00 2022-03-22         Tue   \n",
              "34   3/21          Data Fundamentals  20:24:00 2022-03-22         Tue   \n",
              "35   3/21          Data Fundamentals  20:39:00 2022-03-22         Tue   \n",
              "36   3/21          Data Fundamentals  21:07:00 2022-03-22         Tue   \n",
              "37   1/24  Advanced Machine Learning  11:35:00 2022-03-23         Wed   \n",
              "38   2/21           Machine Learning  17:38:00 2022-03-23         Wed   \n",
              "39   2/21           Machine Learning  18:21:00 2022-03-23         Wed   \n",
              "40   1/24  Advanced Machine Learning  18:33:00 2022-03-23         Wed   \n",
              "41   1/24  Advanced Machine Learning  20:03:00 2022-03-30         Wed   \n",
              "42   1/24  Advanced Machine Learning  14:14:00 2022-04-02         Sat   \n",
              "43   1/24  Advanced Machine Learning  16:19:00 2022-04-02         Sat   \n",
              "44   1/24  Advanced Machine Learning  18:05:00 2022-04-06         Wed   \n",
              "45   1/24  Advanced Machine Learning  14:04:00 2022-04-09         Sat   \n",
              "46   2/21           Machine Learning  14:54:00 2022-04-09         Sat   \n",
              "47   1/24  Advanced Machine Learning  19:45:00 2022-04-13         Wed   \n",
              "48   1/24  Advanced Machine Learning  20:24:00 2022-04-13         Wed   \n",
              "49   4/18          Data Fundamentals  16:00:00 2022-04-23         Sat   \n",
              "50   4/18          Data Fundamentals  16:30:00 2022-04-23         Sat   \n",
              "51   2/21  Advanced Machine Learning  18:44:00 2022-04-27         Wed   \n",
              "52   2/21  Advanced Machine Learning  18:55:00 2022-04-27         Wed   \n",
              "53   4/18          Data Fundamentals  19:00:00 2022-04-27         Wed   \n",
              "54   4/18          Data Fundamentals  19:06:00 2022-04-27         Wed   \n",
              "55   2/21  Advanced Machine Learning  19:30:00 2022-04-27         Wed   \n",
              "56   4/18          Data Fundamentals  20:18:00 2022-04-27         Wed   \n",
              "57   4/18          Data Fundamentals  21:20:00 2022-04-27         Wed   \n",
              "58   4/18          Data Fundamentals  16:38:00 2022-04-30         Sat   \n",
              "\n",
              "   Time (Pacific)  Pacific Time (Military) Off Hours Request? Y/N  End Time  \\\n",
              "8        18:38:00                     1838                     No  22:45:00   \n",
              "17       17:26:00                     1726                     No  21:52:00   \n",
              "18       06:45:00                      645                    Yes  10:08:00   \n",
              "19       08:39:00                      839                     No  11:45:00   \n",
              "20       14:28:00                     1428                    Yes  17:52:00   \n",
              "21       12:20:00                     1220                     No  15:40:00   \n",
              "22       14:28:00                     1428                    Yes  18:12:00   \n",
              "23       14:48:00                     1448                    Yes  17:50:00   \n",
              "24       18:28:00                     1828                    Yes  21:29:00   \n",
              "25       18:35:00                     1835                     No  21:44:00   \n",
              "26       07:13:00                      713                     No  10:58:00   \n",
              "27       16:45:00                     1645                    Yes  20:01:00   \n",
              "28       13:14:00                     1314                     No  16:23:00   \n",
              "29       13:26:00                     1326                     No  16:35:00   \n",
              "30       17:15:00                     1715                     No  20:16:00   \n",
              "31       17:17:00                     1717                     No  20:17:00   \n",
              "32       17:18:00                     1718                     No  20:18:00   \n",
              "33       17:21:00                     1721                     No  20:22:00   \n",
              "34       17:24:00                     1724                     No  20:27:00   \n",
              "35       17:39:00                     1739                     No  20:39:00   \n",
              "36       18:07:00                     1807                     No  21:08:00   \n",
              "37       08:35:00                      835                     No  12:01:00   \n",
              "38       14:38:00                     1438                    Yes  18:18:00   \n",
              "39       15:21:00                     1521                     No  18:26:00   \n",
              "40       15:33:00                     1533                     No  19:40:00   \n",
              "41       17:03:00                     1703                     No  21:29:00   \n",
              "42       11:14:00                     1114                     No  16:07:00   \n",
              "43       13:19:00                     1319                     No  16:27:00   \n",
              "44       15:05:00                     1505                     No  21:54:00   \n",
              "45       11:04:00                     1104                     No  16:25:00   \n",
              "46       11:54:00                     1154                     No  15:42:00   \n",
              "47       16:45:00                     1645                     No  20:27:00   \n",
              "48       17:24:00                     1724                     No  21:11:00   \n",
              "49       13:00:00                     1300                     No  16:18:00   \n",
              "50       13:30:00                     1330                     No  17:00:00   \n",
              "51       15:44:00                     1544                    Yes  18:52:00   \n",
              "52       15:55:00                     1555                    Yes  19:22:00   \n",
              "53       16:00:00                     1600                     No  19:06:00   \n",
              "54       16:06:00                     1606                     No  19:07:00   \n",
              "55       16:30:00                     1630                     No  20:01:00   \n",
              "56       17:18:00                     1718                     No  20:22:00   \n",
              "57       18:20:00                     1820                     No  21:55:00   \n",
              "58       13:38:00                     1338                     No  16:45:00   \n",
              "\n",
              "   End Time Pacific  End Time (Military)  Total Time helping (mins)  \n",
              "8          19:45:00               1945.0                       67.0  \n",
              "17         18:52:00               1852.0                       86.0  \n",
              "18         07:08:00                708.0                       23.0  \n",
              "19         08:45:00                845.0                        6.0  \n",
              "20         14:52:00               1452.0                       24.0  \n",
              "21         12:40:00               1240.0                       20.0  \n",
              "22         15:12:00               1512.0                       44.0  \n",
              "23         14:50:00               1450.0                        2.0  \n",
              "24         18:29:00               1829.0                        1.0  \n",
              "25         18:44:00               1844.0                        9.0  \n",
              "26         07:58:00                758.0                       45.0  \n",
              "27         17:01:00               1701.0                       16.0  \n",
              "28         13:23:00               1323.0                        9.0  \n",
              "29         13:35:00               1335.0                        9.0  \n",
              "30         17:16:00               1716.0                        1.0  \n",
              "31         17:17:00               1717.0                        0.0  \n",
              "32         17:18:00               1718.0                        0.0  \n",
              "33         17:22:00               1722.0                        1.0  \n",
              "34         17:27:00               1727.0                        3.0  \n",
              "35         17:39:00               1739.0                        0.0  \n",
              "36         18:08:00               1808.0                        1.0  \n",
              "37         09:01:00                901.0                       26.0  \n",
              "38         15:18:00               1518.0                       40.0  \n",
              "39         15:26:00               1526.0                        5.0  \n",
              "40         16:40:00               1640.0                       67.0  \n",
              "41         18:29:00               1829.0                       86.0  \n",
              "42         13:07:00               1307.0                      113.0  \n",
              "43         13:27:00               1327.0                        8.0  \n",
              "44         18:54:00               1854.0                      229.0  \n",
              "45         13:25:00               1325.0                      141.0  \n",
              "46         12:42:00               1242.0                       48.0  \n",
              "47         17:27:00               1727.0                       42.0  \n",
              "48         18:11:00               1811.0                       47.0  \n",
              "49         13:18:00               1318.0                       18.0  \n",
              "50         14:00:00               1400.0                       30.0  \n",
              "51         15:52:00               1552.0                        8.0  \n",
              "52         16:22:00               1622.0                       27.0  \n",
              "53         16:06:00               1606.0                        6.0  \n",
              "54         16:07:00               1607.0                        1.0  \n",
              "55         17:01:00               1701.0                       31.0  \n",
              "56         17:22:00               1722.0                        4.0  \n",
              "57         18:55:00               1855.0                       35.0  \n",
              "58         13:45:00               1345.0                        7.0  "
            ],
            "text/html": [
              "\n",
              "  <div id=\"df-f8567351-79af-4a10-8486-f1aae4d84f9f\">\n",
              "    <div class=\"colab-df-container\">\n",
              "      <div>\n",
              "<style scoped>\n",
              "    .dataframe tbody tr th:only-of-type {\n",
              "        vertical-align: middle;\n",
              "    }\n",
              "\n",
              "    .dataframe tbody tr th {\n",
              "        vertical-align: top;\n",
              "    }\n",
              "\n",
              "    .dataframe thead th {\n",
              "        text-align: right;\n",
              "    }\n",
              "</style>\n",
              "<table border=\"1\" class=\"dataframe\">\n",
              "  <thead>\n",
              "    <tr style=\"text-align: right;\">\n",
              "      <th></th>\n",
              "      <th>Cohort</th>\n",
              "      <th>Stack</th>\n",
              "      <th>Time</th>\n",
              "      <th>Date</th>\n",
              "      <th>Day of week</th>\n",
              "      <th>Time (Pacific)</th>\n",
              "      <th>Pacific Time (Military)</th>\n",
              "      <th>Off Hours Request? Y/N</th>\n",
              "      <th>End Time</th>\n",
              "      <th>End Time Pacific</th>\n",
              "      <th>End Time (Military)</th>\n",
              "      <th>Total Time helping (mins)</th>\n",
              "    </tr>\n",
              "  </thead>\n",
              "  <tbody>\n",
              "    <tr>\n",
              "      <th>8</th>\n",
              "      <td>2/21</td>\n",
              "      <td>Data Fundamentals</td>\n",
              "      <td>21:38:00</td>\n",
              "      <td>2022-03-02</td>\n",
              "      <td>Wed</td>\n",
              "      <td>18:38:00</td>\n",
              "      <td>1838</td>\n",
              "      <td>No</td>\n",
              "      <td>22:45:00</td>\n",
              "      <td>19:45:00</td>\n",
              "      <td>1945.0</td>\n",
              "      <td>67.0</td>\n",
              "    </tr>\n",
              "    <tr>\n",
              "      <th>17</th>\n",
              "      <td>2/21</td>\n",
              "      <td>Data Fundamentals</td>\n",
              "      <td>20:26:00</td>\n",
              "      <td>2022-03-08</td>\n",
              "      <td>Tue</td>\n",
              "      <td>17:26:00</td>\n",
              "      <td>1726</td>\n",
              "      <td>No</td>\n",
              "      <td>21:52:00</td>\n",
              "      <td>18:52:00</td>\n",
              "      <td>1852.0</td>\n",
              "      <td>86.0</td>\n",
              "    </tr>\n",
              "    <tr>\n",
              "      <th>18</th>\n",
              "      <td>1/24</td>\n",
              "      <td>Machine Learning</td>\n",
              "      <td>09:45:00</td>\n",
              "      <td>2022-03-09</td>\n",
              "      <td>Wed</td>\n",
              "      <td>06:45:00</td>\n",
              "      <td>645</td>\n",
              "      <td>Yes</td>\n",
              "      <td>10:08:00</td>\n",
              "      <td>07:08:00</td>\n",
              "      <td>708.0</td>\n",
              "      <td>23.0</td>\n",
              "    </tr>\n",
              "    <tr>\n",
              "      <th>19</th>\n",
              "      <td>2/21</td>\n",
              "      <td>Data Fundamentals</td>\n",
              "      <td>11:39:00</td>\n",
              "      <td>2022-03-09</td>\n",
              "      <td>Wed</td>\n",
              "      <td>08:39:00</td>\n",
              "      <td>839</td>\n",
              "      <td>No</td>\n",
              "      <td>11:45:00</td>\n",
              "      <td>08:45:00</td>\n",
              "      <td>845.0</td>\n",
              "      <td>6.0</td>\n",
              "    </tr>\n",
              "    <tr>\n",
              "      <th>20</th>\n",
              "      <td>2/21</td>\n",
              "      <td>Data Fundamentals</td>\n",
              "      <td>17:28:00</td>\n",
              "      <td>2022-03-09</td>\n",
              "      <td>Wed</td>\n",
              "      <td>14:28:00</td>\n",
              "      <td>1428</td>\n",
              "      <td>Yes</td>\n",
              "      <td>17:52:00</td>\n",
              "      <td>14:52:00</td>\n",
              "      <td>1452.0</td>\n",
              "      <td>24.0</td>\n",
              "    </tr>\n",
              "    <tr>\n",
              "      <th>21</th>\n",
              "      <td>1/24</td>\n",
              "      <td>Machine Learning</td>\n",
              "      <td>15:20:00</td>\n",
              "      <td>2022-03-12</td>\n",
              "      <td>Sat</td>\n",
              "      <td>12:20:00</td>\n",
              "      <td>1220</td>\n",
              "      <td>No</td>\n",
              "      <td>15:40:00</td>\n",
              "      <td>12:40:00</td>\n",
              "      <td>1240.0</td>\n",
              "      <td>20.0</td>\n",
              "    </tr>\n",
              "    <tr>\n",
              "      <th>22</th>\n",
              "      <td>1/24</td>\n",
              "      <td>Machine Learning</td>\n",
              "      <td>17:28:00</td>\n",
              "      <td>2022-03-12</td>\n",
              "      <td>Sat</td>\n",
              "      <td>14:28:00</td>\n",
              "      <td>1428</td>\n",
              "      <td>Yes</td>\n",
              "      <td>18:12:00</td>\n",
              "      <td>15:12:00</td>\n",
              "      <td>1512.0</td>\n",
              "      <td>44.0</td>\n",
              "    </tr>\n",
              "    <tr>\n",
              "      <th>23</th>\n",
              "      <td>1/24</td>\n",
              "      <td>Machine Learning</td>\n",
              "      <td>17:48:00</td>\n",
              "      <td>2022-03-12</td>\n",
              "      <td>Sat</td>\n",
              "      <td>14:48:00</td>\n",
              "      <td>1448</td>\n",
              "      <td>Yes</td>\n",
              "      <td>17:50:00</td>\n",
              "      <td>14:50:00</td>\n",
              "      <td>1450.0</td>\n",
              "      <td>2.0</td>\n",
              "    </tr>\n",
              "    <tr>\n",
              "      <th>24</th>\n",
              "      <td>2/21</td>\n",
              "      <td>Data Fundamentals</td>\n",
              "      <td>21:28:00</td>\n",
              "      <td>2022-03-13</td>\n",
              "      <td>Sun</td>\n",
              "      <td>18:28:00</td>\n",
              "      <td>1828</td>\n",
              "      <td>Yes</td>\n",
              "      <td>21:29:00</td>\n",
              "      <td>18:29:00</td>\n",
              "      <td>1829.0</td>\n",
              "      <td>1.0</td>\n",
              "    </tr>\n",
              "    <tr>\n",
              "      <th>25</th>\n",
              "      <td>1/24</td>\n",
              "      <td>Machine Learning</td>\n",
              "      <td>21:35:00</td>\n",
              "      <td>2022-03-15</td>\n",
              "      <td>Tue</td>\n",
              "      <td>18:35:00</td>\n",
              "      <td>1835</td>\n",
              "      <td>No</td>\n",
              "      <td>21:44:00</td>\n",
              "      <td>18:44:00</td>\n",
              "      <td>1844.0</td>\n",
              "      <td>9.0</td>\n",
              "    </tr>\n",
              "    <tr>\n",
              "      <th>26</th>\n",
              "      <td>10/11</td>\n",
              "      <td>Alumni</td>\n",
              "      <td>10:13:00</td>\n",
              "      <td>2022-03-16</td>\n",
              "      <td>Wed</td>\n",
              "      <td>07:13:00</td>\n",
              "      <td>713</td>\n",
              "      <td>No</td>\n",
              "      <td>10:58:00</td>\n",
              "      <td>07:58:00</td>\n",
              "      <td>758.0</td>\n",
              "      <td>45.0</td>\n",
              "    </tr>\n",
              "    <tr>\n",
              "      <th>27</th>\n",
              "      <td>2/21</td>\n",
              "      <td>Data Fundamentals</td>\n",
              "      <td>19:45:00</td>\n",
              "      <td>2022-03-17</td>\n",
              "      <td>Thu</td>\n",
              "      <td>16:45:00</td>\n",
              "      <td>1645</td>\n",
              "      <td>Yes</td>\n",
              "      <td>20:01:00</td>\n",
              "      <td>17:01:00</td>\n",
              "      <td>1701.0</td>\n",
              "      <td>16.0</td>\n",
              "    </tr>\n",
              "    <tr>\n",
              "      <th>28</th>\n",
              "      <td>1/24</td>\n",
              "      <td>Machine Learning</td>\n",
              "      <td>16:14:00</td>\n",
              "      <td>2022-03-20</td>\n",
              "      <td>Sun</td>\n",
              "      <td>13:14:00</td>\n",
              "      <td>1314</td>\n",
              "      <td>No</td>\n",
              "      <td>16:23:00</td>\n",
              "      <td>13:23:00</td>\n",
              "      <td>1323.0</td>\n",
              "      <td>9.0</td>\n",
              "    </tr>\n",
              "    <tr>\n",
              "      <th>29</th>\n",
              "      <td>3/21</td>\n",
              "      <td>Prebootcamp</td>\n",
              "      <td>16:26:00</td>\n",
              "      <td>2022-03-20</td>\n",
              "      <td>Sun</td>\n",
              "      <td>13:26:00</td>\n",
              "      <td>1326</td>\n",
              "      <td>No</td>\n",
              "      <td>16:35:00</td>\n",
              "      <td>13:35:00</td>\n",
              "      <td>1335.0</td>\n",
              "      <td>9.0</td>\n",
              "    </tr>\n",
              "    <tr>\n",
              "      <th>30</th>\n",
              "      <td>3/21</td>\n",
              "      <td>Data Fundamentals</td>\n",
              "      <td>20:15:00</td>\n",
              "      <td>2022-03-22</td>\n",
              "      <td>Tue</td>\n",
              "      <td>17:15:00</td>\n",
              "      <td>1715</td>\n",
              "      <td>No</td>\n",
              "      <td>20:16:00</td>\n",
              "      <td>17:16:00</td>\n",
              "      <td>1716.0</td>\n",
              "      <td>1.0</td>\n",
              "    </tr>\n",
              "    <tr>\n",
              "      <th>31</th>\n",
              "      <td>3/21</td>\n",
              "      <td>Data Fundamentals</td>\n",
              "      <td>20:17:00</td>\n",
              "      <td>2022-03-22</td>\n",
              "      <td>Tue</td>\n",
              "      <td>17:17:00</td>\n",
              "      <td>1717</td>\n",
              "      <td>No</td>\n",
              "      <td>20:17:00</td>\n",
              "      <td>17:17:00</td>\n",
              "      <td>1717.0</td>\n",
              "      <td>0.0</td>\n",
              "    </tr>\n",
              "    <tr>\n",
              "      <th>32</th>\n",
              "      <td>3/21</td>\n",
              "      <td>Data Fundamentals</td>\n",
              "      <td>20:18:00</td>\n",
              "      <td>2022-03-22</td>\n",
              "      <td>Tue</td>\n",
              "      <td>17:18:00</td>\n",
              "      <td>1718</td>\n",
              "      <td>No</td>\n",
              "      <td>20:18:00</td>\n",
              "      <td>17:18:00</td>\n",
              "      <td>1718.0</td>\n",
              "      <td>0.0</td>\n",
              "    </tr>\n",
              "    <tr>\n",
              "      <th>33</th>\n",
              "      <td>3/21</td>\n",
              "      <td>Data Fundamentals</td>\n",
              "      <td>20:21:00</td>\n",
              "      <td>2022-03-22</td>\n",
              "      <td>Tue</td>\n",
              "      <td>17:21:00</td>\n",
              "      <td>1721</td>\n",
              "      <td>No</td>\n",
              "      <td>20:22:00</td>\n",
              "      <td>17:22:00</td>\n",
              "      <td>1722.0</td>\n",
              "      <td>1.0</td>\n",
              "    </tr>\n",
              "    <tr>\n",
              "      <th>34</th>\n",
              "      <td>3/21</td>\n",
              "      <td>Data Fundamentals</td>\n",
              "      <td>20:24:00</td>\n",
              "      <td>2022-03-22</td>\n",
              "      <td>Tue</td>\n",
              "      <td>17:24:00</td>\n",
              "      <td>1724</td>\n",
              "      <td>No</td>\n",
              "      <td>20:27:00</td>\n",
              "      <td>17:27:00</td>\n",
              "      <td>1727.0</td>\n",
              "      <td>3.0</td>\n",
              "    </tr>\n",
              "    <tr>\n",
              "      <th>35</th>\n",
              "      <td>3/21</td>\n",
              "      <td>Data Fundamentals</td>\n",
              "      <td>20:39:00</td>\n",
              "      <td>2022-03-22</td>\n",
              "      <td>Tue</td>\n",
              "      <td>17:39:00</td>\n",
              "      <td>1739</td>\n",
              "      <td>No</td>\n",
              "      <td>20:39:00</td>\n",
              "      <td>17:39:00</td>\n",
              "      <td>1739.0</td>\n",
              "      <td>0.0</td>\n",
              "    </tr>\n",
              "    <tr>\n",
              "      <th>36</th>\n",
              "      <td>3/21</td>\n",
              "      <td>Data Fundamentals</td>\n",
              "      <td>21:07:00</td>\n",
              "      <td>2022-03-22</td>\n",
              "      <td>Tue</td>\n",
              "      <td>18:07:00</td>\n",
              "      <td>1807</td>\n",
              "      <td>No</td>\n",
              "      <td>21:08:00</td>\n",
              "      <td>18:08:00</td>\n",
              "      <td>1808.0</td>\n",
              "      <td>1.0</td>\n",
              "    </tr>\n",
              "    <tr>\n",
              "      <th>37</th>\n",
              "      <td>1/24</td>\n",
              "      <td>Advanced Machine Learning</td>\n",
              "      <td>11:35:00</td>\n",
              "      <td>2022-03-23</td>\n",
              "      <td>Wed</td>\n",
              "      <td>08:35:00</td>\n",
              "      <td>835</td>\n",
              "      <td>No</td>\n",
              "      <td>12:01:00</td>\n",
              "      <td>09:01:00</td>\n",
              "      <td>901.0</td>\n",
              "      <td>26.0</td>\n",
              "    </tr>\n",
              "    <tr>\n",
              "      <th>38</th>\n",
              "      <td>2/21</td>\n",
              "      <td>Machine Learning</td>\n",
              "      <td>17:38:00</td>\n",
              "      <td>2022-03-23</td>\n",
              "      <td>Wed</td>\n",
              "      <td>14:38:00</td>\n",
              "      <td>1438</td>\n",
              "      <td>Yes</td>\n",
              "      <td>18:18:00</td>\n",
              "      <td>15:18:00</td>\n",
              "      <td>1518.0</td>\n",
              "      <td>40.0</td>\n",
              "    </tr>\n",
              "    <tr>\n",
              "      <th>39</th>\n",
              "      <td>2/21</td>\n",
              "      <td>Machine Learning</td>\n",
              "      <td>18:21:00</td>\n",
              "      <td>2022-03-23</td>\n",
              "      <td>Wed</td>\n",
              "      <td>15:21:00</td>\n",
              "      <td>1521</td>\n",
              "      <td>No</td>\n",
              "      <td>18:26:00</td>\n",
              "      <td>15:26:00</td>\n",
              "      <td>1526.0</td>\n",
              "      <td>5.0</td>\n",
              "    </tr>\n",
              "    <tr>\n",
              "      <th>40</th>\n",
              "      <td>1/24</td>\n",
              "      <td>Advanced Machine Learning</td>\n",
              "      <td>18:33:00</td>\n",
              "      <td>2022-03-23</td>\n",
              "      <td>Wed</td>\n",
              "      <td>15:33:00</td>\n",
              "      <td>1533</td>\n",
              "      <td>No</td>\n",
              "      <td>19:40:00</td>\n",
              "      <td>16:40:00</td>\n",
              "      <td>1640.0</td>\n",
              "      <td>67.0</td>\n",
              "    </tr>\n",
              "    <tr>\n",
              "      <th>41</th>\n",
              "      <td>1/24</td>\n",
              "      <td>Advanced Machine Learning</td>\n",
              "      <td>20:03:00</td>\n",
              "      <td>2022-03-30</td>\n",
              "      <td>Wed</td>\n",
              "      <td>17:03:00</td>\n",
              "      <td>1703</td>\n",
              "      <td>No</td>\n",
              "      <td>21:29:00</td>\n",
              "      <td>18:29:00</td>\n",
              "      <td>1829.0</td>\n",
              "      <td>86.0</td>\n",
              "    </tr>\n",
              "    <tr>\n",
              "      <th>42</th>\n",
              "      <td>1/24</td>\n",
              "      <td>Advanced Machine Learning</td>\n",
              "      <td>14:14:00</td>\n",
              "      <td>2022-04-02</td>\n",
              "      <td>Sat</td>\n",
              "      <td>11:14:00</td>\n",
              "      <td>1114</td>\n",
              "      <td>No</td>\n",
              "      <td>16:07:00</td>\n",
              "      <td>13:07:00</td>\n",
              "      <td>1307.0</td>\n",
              "      <td>113.0</td>\n",
              "    </tr>\n",
              "    <tr>\n",
              "      <th>43</th>\n",
              "      <td>1/24</td>\n",
              "      <td>Advanced Machine Learning</td>\n",
              "      <td>16:19:00</td>\n",
              "      <td>2022-04-02</td>\n",
              "      <td>Sat</td>\n",
              "      <td>13:19:00</td>\n",
              "      <td>1319</td>\n",
              "      <td>No</td>\n",
              "      <td>16:27:00</td>\n",
              "      <td>13:27:00</td>\n",
              "      <td>1327.0</td>\n",
              "      <td>8.0</td>\n",
              "    </tr>\n",
              "    <tr>\n",
              "      <th>44</th>\n",
              "      <td>1/24</td>\n",
              "      <td>Advanced Machine Learning</td>\n",
              "      <td>18:05:00</td>\n",
              "      <td>2022-04-06</td>\n",
              "      <td>Wed</td>\n",
              "      <td>15:05:00</td>\n",
              "      <td>1505</td>\n",
              "      <td>No</td>\n",
              "      <td>21:54:00</td>\n",
              "      <td>18:54:00</td>\n",
              "      <td>1854.0</td>\n",
              "      <td>229.0</td>\n",
              "    </tr>\n",
              "    <tr>\n",
              "      <th>45</th>\n",
              "      <td>1/24</td>\n",
              "      <td>Advanced Machine Learning</td>\n",
              "      <td>14:04:00</td>\n",
              "      <td>2022-04-09</td>\n",
              "      <td>Sat</td>\n",
              "      <td>11:04:00</td>\n",
              "      <td>1104</td>\n",
              "      <td>No</td>\n",
              "      <td>16:25:00</td>\n",
              "      <td>13:25:00</td>\n",
              "      <td>1325.0</td>\n",
              "      <td>141.0</td>\n",
              "    </tr>\n",
              "    <tr>\n",
              "      <th>46</th>\n",
              "      <td>2/21</td>\n",
              "      <td>Machine Learning</td>\n",
              "      <td>14:54:00</td>\n",
              "      <td>2022-04-09</td>\n",
              "      <td>Sat</td>\n",
              "      <td>11:54:00</td>\n",
              "      <td>1154</td>\n",
              "      <td>No</td>\n",
              "      <td>15:42:00</td>\n",
              "      <td>12:42:00</td>\n",
              "      <td>1242.0</td>\n",
              "      <td>48.0</td>\n",
              "    </tr>\n",
              "    <tr>\n",
              "      <th>47</th>\n",
              "      <td>1/24</td>\n",
              "      <td>Advanced Machine Learning</td>\n",
              "      <td>19:45:00</td>\n",
              "      <td>2022-04-13</td>\n",
              "      <td>Wed</td>\n",
              "      <td>16:45:00</td>\n",
              "      <td>1645</td>\n",
              "      <td>No</td>\n",
              "      <td>20:27:00</td>\n",
              "      <td>17:27:00</td>\n",
              "      <td>1727.0</td>\n",
              "      <td>42.0</td>\n",
              "    </tr>\n",
              "    <tr>\n",
              "      <th>48</th>\n",
              "      <td>1/24</td>\n",
              "      <td>Advanced Machine Learning</td>\n",
              "      <td>20:24:00</td>\n",
              "      <td>2022-04-13</td>\n",
              "      <td>Wed</td>\n",
              "      <td>17:24:00</td>\n",
              "      <td>1724</td>\n",
              "      <td>No</td>\n",
              "      <td>21:11:00</td>\n",
              "      <td>18:11:00</td>\n",
              "      <td>1811.0</td>\n",
              "      <td>47.0</td>\n",
              "    </tr>\n",
              "    <tr>\n",
              "      <th>49</th>\n",
              "      <td>4/18</td>\n",
              "      <td>Data Fundamentals</td>\n",
              "      <td>16:00:00</td>\n",
              "      <td>2022-04-23</td>\n",
              "      <td>Sat</td>\n",
              "      <td>13:00:00</td>\n",
              "      <td>1300</td>\n",
              "      <td>No</td>\n",
              "      <td>16:18:00</td>\n",
              "      <td>13:18:00</td>\n",
              "      <td>1318.0</td>\n",
              "      <td>18.0</td>\n",
              "    </tr>\n",
              "    <tr>\n",
              "      <th>50</th>\n",
              "      <td>4/18</td>\n",
              "      <td>Data Fundamentals</td>\n",
              "      <td>16:30:00</td>\n",
              "      <td>2022-04-23</td>\n",
              "      <td>Sat</td>\n",
              "      <td>13:30:00</td>\n",
              "      <td>1330</td>\n",
              "      <td>No</td>\n",
              "      <td>17:00:00</td>\n",
              "      <td>14:00:00</td>\n",
              "      <td>1400.0</td>\n",
              "      <td>30.0</td>\n",
              "    </tr>\n",
              "    <tr>\n",
              "      <th>51</th>\n",
              "      <td>2/21</td>\n",
              "      <td>Advanced Machine Learning</td>\n",
              "      <td>18:44:00</td>\n",
              "      <td>2022-04-27</td>\n",
              "      <td>Wed</td>\n",
              "      <td>15:44:00</td>\n",
              "      <td>1544</td>\n",
              "      <td>Yes</td>\n",
              "      <td>18:52:00</td>\n",
              "      <td>15:52:00</td>\n",
              "      <td>1552.0</td>\n",
              "      <td>8.0</td>\n",
              "    </tr>\n",
              "    <tr>\n",
              "      <th>52</th>\n",
              "      <td>2/21</td>\n",
              "      <td>Advanced Machine Learning</td>\n",
              "      <td>18:55:00</td>\n",
              "      <td>2022-04-27</td>\n",
              "      <td>Wed</td>\n",
              "      <td>15:55:00</td>\n",
              "      <td>1555</td>\n",
              "      <td>Yes</td>\n",
              "      <td>19:22:00</td>\n",
              "      <td>16:22:00</td>\n",
              "      <td>1622.0</td>\n",
              "      <td>27.0</td>\n",
              "    </tr>\n",
              "    <tr>\n",
              "      <th>53</th>\n",
              "      <td>4/18</td>\n",
              "      <td>Data Fundamentals</td>\n",
              "      <td>19:00:00</td>\n",
              "      <td>2022-04-27</td>\n",
              "      <td>Wed</td>\n",
              "      <td>16:00:00</td>\n",
              "      <td>1600</td>\n",
              "      <td>No</td>\n",
              "      <td>19:06:00</td>\n",
              "      <td>16:06:00</td>\n",
              "      <td>1606.0</td>\n",
              "      <td>6.0</td>\n",
              "    </tr>\n",
              "    <tr>\n",
              "      <th>54</th>\n",
              "      <td>4/18</td>\n",
              "      <td>Data Fundamentals</td>\n",
              "      <td>19:06:00</td>\n",
              "      <td>2022-04-27</td>\n",
              "      <td>Wed</td>\n",
              "      <td>16:06:00</td>\n",
              "      <td>1606</td>\n",
              "      <td>No</td>\n",
              "      <td>19:07:00</td>\n",
              "      <td>16:07:00</td>\n",
              "      <td>1607.0</td>\n",
              "      <td>1.0</td>\n",
              "    </tr>\n",
              "    <tr>\n",
              "      <th>55</th>\n",
              "      <td>2/21</td>\n",
              "      <td>Advanced Machine Learning</td>\n",
              "      <td>19:30:00</td>\n",
              "      <td>2022-04-27</td>\n",
              "      <td>Wed</td>\n",
              "      <td>16:30:00</td>\n",
              "      <td>1630</td>\n",
              "      <td>No</td>\n",
              "      <td>20:01:00</td>\n",
              "      <td>17:01:00</td>\n",
              "      <td>1701.0</td>\n",
              "      <td>31.0</td>\n",
              "    </tr>\n",
              "    <tr>\n",
              "      <th>56</th>\n",
              "      <td>4/18</td>\n",
              "      <td>Data Fundamentals</td>\n",
              "      <td>20:18:00</td>\n",
              "      <td>2022-04-27</td>\n",
              "      <td>Wed</td>\n",
              "      <td>17:18:00</td>\n",
              "      <td>1718</td>\n",
              "      <td>No</td>\n",
              "      <td>20:22:00</td>\n",
              "      <td>17:22:00</td>\n",
              "      <td>1722.0</td>\n",
              "      <td>4.0</td>\n",
              "    </tr>\n",
              "    <tr>\n",
              "      <th>57</th>\n",
              "      <td>4/18</td>\n",
              "      <td>Data Fundamentals</td>\n",
              "      <td>21:20:00</td>\n",
              "      <td>2022-04-27</td>\n",
              "      <td>Wed</td>\n",
              "      <td>18:20:00</td>\n",
              "      <td>1820</td>\n",
              "      <td>No</td>\n",
              "      <td>21:55:00</td>\n",
              "      <td>18:55:00</td>\n",
              "      <td>1855.0</td>\n",
              "      <td>35.0</td>\n",
              "    </tr>\n",
              "    <tr>\n",
              "      <th>58</th>\n",
              "      <td>4/18</td>\n",
              "      <td>Data Fundamentals</td>\n",
              "      <td>16:38:00</td>\n",
              "      <td>2022-04-30</td>\n",
              "      <td>Sat</td>\n",
              "      <td>13:38:00</td>\n",
              "      <td>1338</td>\n",
              "      <td>No</td>\n",
              "      <td>16:45:00</td>\n",
              "      <td>13:45:00</td>\n",
              "      <td>1345.0</td>\n",
              "      <td>7.0</td>\n",
              "    </tr>\n",
              "  </tbody>\n",
              "</table>\n",
              "</div>\n",
              "      <button class=\"colab-df-convert\" onclick=\"convertToInteractive('df-f8567351-79af-4a10-8486-f1aae4d84f9f')\"\n",
              "              title=\"Convert this dataframe to an interactive table.\"\n",
              "              style=\"display:none;\">\n",
              "        \n",
              "  <svg xmlns=\"http://www.w3.org/2000/svg\" height=\"24px\"viewBox=\"0 0 24 24\"\n",
              "       width=\"24px\">\n",
              "    <path d=\"M0 0h24v24H0V0z\" fill=\"none\"/>\n",
              "    <path d=\"M18.56 5.44l.94 2.06.94-2.06 2.06-.94-2.06-.94-.94-2.06-.94 2.06-2.06.94zm-11 1L8.5 8.5l.94-2.06 2.06-.94-2.06-.94L8.5 2.5l-.94 2.06-2.06.94zm10 10l.94 2.06.94-2.06 2.06-.94-2.06-.94-.94-2.06-.94 2.06-2.06.94z\"/><path d=\"M17.41 7.96l-1.37-1.37c-.4-.4-.92-.59-1.43-.59-.52 0-1.04.2-1.43.59L10.3 9.45l-7.72 7.72c-.78.78-.78 2.05 0 2.83L4 21.41c.39.39.9.59 1.41.59.51 0 1.02-.2 1.41-.59l7.78-7.78 2.81-2.81c.8-.78.8-2.07 0-2.86zM5.41 20L4 18.59l7.72-7.72 1.47 1.35L5.41 20z\"/>\n",
              "  </svg>\n",
              "      </button>\n",
              "      \n",
              "  <style>\n",
              "    .colab-df-container {\n",
              "      display:flex;\n",
              "      flex-wrap:wrap;\n",
              "      gap: 12px;\n",
              "    }\n",
              "\n",
              "    .colab-df-convert {\n",
              "      background-color: #E8F0FE;\n",
              "      border: none;\n",
              "      border-radius: 50%;\n",
              "      cursor: pointer;\n",
              "      display: none;\n",
              "      fill: #1967D2;\n",
              "      height: 32px;\n",
              "      padding: 0 0 0 0;\n",
              "      width: 32px;\n",
              "    }\n",
              "\n",
              "    .colab-df-convert:hover {\n",
              "      background-color: #E2EBFA;\n",
              "      box-shadow: 0px 1px 2px rgba(60, 64, 67, 0.3), 0px 1px 3px 1px rgba(60, 64, 67, 0.15);\n",
              "      fill: #174EA6;\n",
              "    }\n",
              "\n",
              "    [theme=dark] .colab-df-convert {\n",
              "      background-color: #3B4455;\n",
              "      fill: #D2E3FC;\n",
              "    }\n",
              "\n",
              "    [theme=dark] .colab-df-convert:hover {\n",
              "      background-color: #434B5C;\n",
              "      box-shadow: 0px 1px 3px 1px rgba(0, 0, 0, 0.15);\n",
              "      filter: drop-shadow(0px 1px 2px rgba(0, 0, 0, 0.3));\n",
              "      fill: #FFFFFF;\n",
              "    }\n",
              "  </style>\n",
              "\n",
              "      <script>\n",
              "        const buttonEl =\n",
              "          document.querySelector('#df-f8567351-79af-4a10-8486-f1aae4d84f9f button.colab-df-convert');\n",
              "        buttonEl.style.display =\n",
              "          google.colab.kernel.accessAllowed ? 'block' : 'none';\n",
              "\n",
              "        async function convertToInteractive(key) {\n",
              "          const element = document.querySelector('#df-f8567351-79af-4a10-8486-f1aae4d84f9f');\n",
              "          const dataTable =\n",
              "            await google.colab.kernel.invokeFunction('convertToInteractive',\n",
              "                                                     [key], {});\n",
              "          if (!dataTable) return;\n",
              "\n",
              "          const docLinkHtml = 'Like what you see? Visit the ' +\n",
              "            '<a target=\"_blank\" href=https://colab.research.google.com/notebooks/data_table.ipynb>data table notebook</a>'\n",
              "            + ' to learn more about interactive tables.';\n",
              "          element.innerHTML = '';\n",
              "          dataTable['output_type'] = 'display_data';\n",
              "          await google.colab.output.renderOutput(dataTable, element);\n",
              "          const docLink = document.createElement('div');\n",
              "          docLink.innerHTML = docLinkHtml;\n",
              "          element.appendChild(docLink);\n",
              "        }\n",
              "      </script>\n",
              "    </div>\n",
              "  </div>\n",
              "  "
            ]
          },
          "metadata": {},
          "execution_count": 22
        }
      ]
    },
    {
      "cell_type": "code",
      "source": [
        "time_df = timedf[~time_nulls]\n",
        "#also need to exclude time that is 0\n",
        "time_df = time_df[time_df['Total Time helping (mins)'] >0]\n",
        "time_df['Total Time helping (mins)'].describe()"
      ],
      "metadata": {
        "colab": {
          "base_uri": "https://localhost:8080/"
        },
        "id": "faEANgr4qs-y",
        "outputId": "9aded925-f3fd-4154-d675-05e528516903"
      },
      "execution_count": null,
      "outputs": [
        {
          "output_type": "execute_result",
          "data": {
            "text/plain": [
              "count     40.000000\n",
              "mean      34.650000\n",
              "std       45.234744\n",
              "min        1.000000\n",
              "25%        6.000000\n",
              "50%       21.500000\n",
              "75%       44.250000\n",
              "max      229.000000\n",
              "Name: Total Time helping (mins), dtype: float64"
            ]
          },
          "metadata": {},
          "execution_count": 23
        }
      ]
    },
    {
      "cell_type": "code",
      "source": [
        "ax = timedf[~time_nulls]['Total Time helping (mins)'].hist(bins = 'auto')\n",
        "plt.title('Distribution of Time Spent with Students')\n",
        "max_time = time_df['Total Time helping (mins)'].max()\n",
        "plt.ylim(0, 25) #add cushion above our max\n",
        "plt.xlim(0, max_time +5) #start at, end past max time\n",
        "plt.ylabel('Number of Assistance Sessions')\n",
        "plt.xlabel ('Minutes');"
      ],
      "metadata": {
        "colab": {
          "base_uri": "https://localhost:8080/",
          "height": 566
        },
        "id": "_XnRT2PSpIac",
        "outputId": "624462d3-66e5-4903-8e3c-1d89d3c7b969"
      },
      "execution_count": null,
      "outputs": [
        {
          "output_type": "display_data",
          "data": {
            "text/plain": [
              "<Figure size 792x648 with 1 Axes>"
            ],
            "image/png": "[encoded data removed]"
          },
          "metadata": {}
        }
      ]
    },
    {
      "cell_type": "code",
      "source": [
        "ax = sns.boxplot(data= time_df, x='Total Time helping (mins)')\n",
        "max_time = time_df['Total Time helping (mins)'].max()\n",
        "plt.title('Distribution of Time Spent With a Student per Request')\n",
        "plt.xlabel('Total Time Helping Student (Minutes)')\n",
        "plt.xlim(0, (max_time+5));\n",
        "print(time_df['Total Time helping (mins)'].describe())"
      ],
      "metadata": {
        "colab": {
          "base_uri": "https://localhost:8080/",
          "height": 730
        },
        "id": "4hADJ0mQm5lq",
        "outputId": "da5b0645-adeb-4cfb-c2b3-7169388dcf92"
      },
      "execution_count": null,
      "outputs": [
        {
          "output_type": "stream",
          "name": "stdout",
          "text": [
            "count     40.000000\n",
            "mean      34.650000\n",
            "std       45.234744\n",
            "min        1.000000\n",
            "25%        6.000000\n",
            "50%       21.500000\n",
            "75%       44.250000\n",
            "max      229.000000\n",
            "Name: Total Time helping (mins), dtype: float64\n"
          ]
        },
        {
          "output_type": "display_data",
          "data": {
            "text/plain": [
              "<Figure size 792x648 with 1 Axes>"
            ],
            "image/png": "[encoded data removed]"
          },
          "metadata": {}
        }
      ]
    },
    {
      "cell_type": "markdown",
      "source": [
        "### Cohort"
      ],
      "metadata": {
        "id": "6HW82iFbXeLP"
      }
    },
    {
      "cell_type": "code",
      "source": [
        "cohort_time = time_df.groupby('Cohort')['Total Time helping (mins)'].sum()\n",
        "ax = sns.barplot(x = cohort_time.index,\n",
        "                 y = cohort_time.values,\n",
        "                 ci = None)\n",
        "ax.bar_label(ax.containers[0])\n",
        "ax.get_yaxis().set_visible(False) #hide y-axis \n",
        "plt.xlabel('Cohort', fontsize = 13)\n",
        "plt.title('Total Time Helping Students (Minutes)', fontsize = 14);"
      ],
      "metadata": {
        "colab": {
          "base_uri": "https://localhost:8080/",
          "height": 570
        },
        "id": "BUtRspHLWc_z",
        "outputId": "b21e9354-c56c-43ec-ed5a-104f8ec0d892"
      },
      "execution_count": null,
      "outputs": [
        {
          "output_type": "display_data",
          "data": {
            "text/plain": [
              "<Figure size 792x648 with 1 Axes>"
            ],
            "image/png": "[encoded data removed]"
          },
          "metadata": {}
        }
      ]
    },
    {
      "cell_type": "code",
      "source": [
        "cohort_avg_time = time_df.groupby('Cohort')['Total Time helping (mins)'].mean()\n",
        "ax = sns.barplot(x = cohort_avg_time.index,\n",
        "                 y = cohort_avg_time.values,\n",
        "                 ci = None)\n",
        "ax.bar_label(ax.containers[0])\n",
        "ax.get_yaxis().set_visible(False) #hide y-axis \n",
        "plt.xlabel('Cohort', fontsize = 13)\n",
        "plt.title('Average Time Helping Students (Minutes)', fontsize = 14);"
      ],
      "metadata": {
        "colab": {
          "base_uri": "https://localhost:8080/",
          "height": 570
        },
        "id": "2aJy96p4Wn6Q",
        "outputId": "485a3752-86bb-4b25-9362-69bf0799d451"
      },
      "execution_count": null,
      "outputs": [
        {
          "output_type": "display_data",
          "data": {
            "text/plain": [
              "<Figure size 792x648 with 1 Axes>"
            ],
            "image/png": "[encoded data removed]"
          },
          "metadata": {}
        }
      ]
    },
    {
      "cell_type": "markdown",
      "source": [
        "### Stack "
      ],
      "metadata": {
        "id": "hmJZgC3SXaHk"
      }
    },
    {
      "cell_type": "code",
      "source": [
        "stack_time = time_df.groupby('Stack')['Total Time helping (mins)'].sum()\n",
        "ax = sns.barplot(x = stack_time.index,\n",
        "                 y = stack_time.values,\n",
        "                 ci = None)\n",
        "ax.bar_label(ax.containers[0])\n",
        "ax.get_yaxis().set_visible(False) #hide y-axis \n",
        "plt.xlabel('Stack or Alumni Status', fontsize = 13)\n",
        "plt.title('Total Time Helping Students (Minutes)', fontsize = 14);"
      ],
      "metadata": {
        "colab": {
          "base_uri": "https://localhost:8080/",
          "height": 570
        },
        "id": "R19Q2S5Espii",
        "outputId": "483969ed-9634-4a56-8456-823778de15ec"
      },
      "execution_count": null,
      "outputs": [
        {
          "output_type": "display_data",
          "data": {
            "text/plain": [
              "<Figure size 792x648 with 1 Axes>"
            ],
            "image/png": "[encoded data removed]"
          },
          "metadata": {}
        }
      ]
    },
    {
      "cell_type": "code",
      "source": [
        "stack_avg_time = time_df.groupby('Stack')['Total Time helping (mins)'].mean()\n",
        "ax = sns.barplot(x = stack_avg_time.index,\n",
        "                 y = stack_avg_time.values,\n",
        "                 ci = None) #\n",
        "ax.bar_label(ax.containers[0])\n",
        "ax.get_yaxis().set_visible(False) #hide y-axis \n",
        "plt.xlabel('Stack or Alumni Status', fontsize = 13)\n",
        "plt.title('Average Time per Student (in Minutes)', fontsize = 14);"
      ],
      "metadata": {
        "colab": {
          "base_uri": "https://localhost:8080/",
          "height": 570
        },
        "id": "SWsqW6f-OGH8",
        "outputId": "015a9f79-32fb-4b42-b49e-f5c0d61298e1"
      },
      "execution_count": null,
      "outputs": [
        {
          "output_type": "display_data",
          "data": {
            "text/plain": [
              "<Figure size 792x648 with 1 Axes>"
            ],
            "image/png": "[encoded data removed]"
          },
          "metadata": {}
        }
      ]
    },
    {
      "cell_type": "markdown",
      "source": [
        "# Count of Student help"
      ],
      "metadata": {
        "id": "0O0zcJE5Fh25"
      }
    },
    {
      "cell_type": "code",
      "source": [
        "unique_student_count = pd.read_excel('/content/drive/MyDrive/Work/Independent Projects/TA work/TA helping.xlsx', sheet_name='Count per Student', usecols=['TIMES HELPED'])\n",
        "unique_student_count.reset_index(inplace=True)\n",
        "unique_student_count.head()"
      ],
      "metadata": {
        "colab": {
          "base_uri": "https://localhost:8080/",
          "height": 206
        },
        "id": "3UflgW45NHKz",
        "outputId": "e0c4464d-d9e0-499b-eb91-2058499b756f"
      },
      "execution_count": null,
      "outputs": [
        {
          "output_type": "execute_result",
          "data": {
            "text/plain": [
              "   index  TIMES HELPED\n",
              "0      0             6\n",
              "1      1             1\n",
              "2      2             1\n",
              "3      3             1\n",
              "4      4             1"
            ],
            "text/html": [
              "\n",
              "  <div id=\"df-390e30bc-a65d-441e-946c-b2366b55cc41\">\n",
              "    <div class=\"colab-df-container\">\n",
              "      <div>\n",
              "<style scoped>\n",
              "    .dataframe tbody tr th:only-of-type {\n",
              "        vertical-align: middle;\n",
              "    }\n",
              "\n",
              "    .dataframe tbody tr th {\n",
              "        vertical-align: top;\n",
              "    }\n",
              "\n",
              "    .dataframe thead th {\n",
              "        text-align: right;\n",
              "    }\n",
              "</style>\n",
              "<table border=\"1\" class=\"dataframe\">\n",
              "  <thead>\n",
              "    <tr style=\"text-align: right;\">\n",
              "      <th></th>\n",
              "      <th>index</th>\n",
              "      <th>TIMES HELPED</th>\n",
              "    </tr>\n",
              "  </thead>\n",
              "  <tbody>\n",
              "    <tr>\n",
              "      <th>0</th>\n",
              "      <td>0</td>\n",
              "      <td>6</td>\n",
              "    </tr>\n",
              "    <tr>\n",
              "      <th>1</th>\n",
              "      <td>1</td>\n",
              "      <td>1</td>\n",
              "    </tr>\n",
              "    <tr>\n",
              "      <th>2</th>\n",
              "      <td>2</td>\n",
              "      <td>1</td>\n",
              "    </tr>\n",
              "    <tr>\n",
              "      <th>3</th>\n",
              "      <td>3</td>\n",
              "      <td>1</td>\n",
              "    </tr>\n",
              "    <tr>\n",
              "      <th>4</th>\n",
              "      <td>4</td>\n",
              "      <td>1</td>\n",
              "    </tr>\n",
              "  </tbody>\n",
              "</table>\n",
              "</div>\n",
              "      <button class=\"colab-df-convert\" onclick=\"convertToInteractive('df-390e30bc-a65d-441e-946c-b2366b55cc41')\"\n",
              "              title=\"Convert this dataframe to an interactive table.\"\n",
              "              style=\"display:none;\">\n",
              "        \n",
              "  <svg xmlns=\"http://www.w3.org/2000/svg\" height=\"24px\"viewBox=\"0 0 24 24\"\n",
              "       width=\"24px\">\n",
              "    <path d=\"M0 0h24v24H0V0z\" fill=\"none\"/>\n",
              "    <path d=\"M18.56 5.44l.94 2.06.94-2.06 2.06-.94-2.06-.94-.94-2.06-.94 2.06-2.06.94zm-11 1L8.5 8.5l.94-2.06 2.06-.94-2.06-.94L8.5 2.5l-.94 2.06-2.06.94zm10 10l.94 2.06.94-2.06 2.06-.94-2.06-.94-.94-2.06-.94 2.06-2.06.94z\"/><path d=\"M17.41 7.96l-1.37-1.37c-.4-.4-.92-.59-1.43-.59-.52 0-1.04.2-1.43.59L10.3 9.45l-7.72 7.72c-.78.78-.78 2.05 0 2.83L4 21.41c.39.39.9.59 1.41.59.51 0 1.02-.2 1.41-.59l7.78-7.78 2.81-2.81c.8-.78.8-2.07 0-2.86zM5.41 20L4 18.59l7.72-7.72 1.47 1.35L5.41 20z\"/>\n",
              "  </svg>\n",
              "      </button>\n",
              "      \n",
              "  <style>\n",
              "    .colab-df-container {\n",
              "      display:flex;\n",
              "      flex-wrap:wrap;\n",
              "      gap: 12px;\n",
              "    }\n",
              "\n",
              "    .colab-df-convert {\n",
              "      background-color: #E8F0FE;\n",
              "      border: none;\n",
              "      border-radius: 50%;\n",
              "      cursor: pointer;\n",
              "      display: none;\n",
              "      fill: #1967D2;\n",
              "      height: 32px;\n",
              "      padding: 0 0 0 0;\n",
              "      width: 32px;\n",
              "    }\n",
              "\n",
              "    .colab-df-convert:hover {\n",
              "      background-color: #E2EBFA;\n",
              "      box-shadow: 0px 1px 2px rgba(60, 64, 67, 0.3), 0px 1px 3px 1px rgba(60, 64, 67, 0.15);\n",
              "      fill: #174EA6;\n",
              "    }\n",
              "\n",
              "    [theme=dark] .colab-df-convert {\n",
              "      background-color: #3B4455;\n",
              "      fill: #D2E3FC;\n",
              "    }\n",
              "\n",
              "    [theme=dark] .colab-df-convert:hover {\n",
              "      background-color: #434B5C;\n",
              "      box-shadow: 0px 1px 3px 1px rgba(0, 0, 0, 0.15);\n",
              "      filter: drop-shadow(0px 1px 2px rgba(0, 0, 0, 0.3));\n",
              "      fill: #FFFFFF;\n",
              "    }\n",
              "  </style>\n",
              "\n",
              "      <script>\n",
              "        const buttonEl =\n",
              "          document.querySelector('#df-390e30bc-a65d-441e-946c-b2366b55cc41 button.colab-df-convert');\n",
              "        buttonEl.style.display =\n",
              "          google.colab.kernel.accessAllowed ? 'block' : 'none';\n",
              "\n",
              "        async function convertToInteractive(key) {\n",
              "          const element = document.querySelector('#df-390e30bc-a65d-441e-946c-b2366b55cc41');\n",
              "          const dataTable =\n",
              "            await google.colab.kernel.invokeFunction('convertToInteractive',\n",
              "                                                     [key], {});\n",
              "          if (!dataTable) return;\n",
              "\n",
              "          const docLinkHtml = 'Like what you see? Visit the ' +\n",
              "            '<a target=\"_blank\" href=https://colab.research.google.com/notebooks/data_table.ipynb>data table notebook</a>'\n",
              "            + ' to learn more about interactive tables.';\n",
              "          element.innerHTML = '';\n",
              "          dataTable['output_type'] = 'display_data';\n",
              "          await google.colab.output.renderOutput(dataTable, element);\n",
              "          const docLink = document.createElement('div');\n",
              "          docLink.innerHTML = docLinkHtml;\n",
              "          element.appendChild(docLink);\n",
              "        }\n",
              "      </script>\n",
              "    </div>\n",
              "  </div>\n",
              "  "
            ]
          },
          "metadata": {},
          "execution_count": 30
        }
      ]
    },
    {
      "cell_type": "code",
      "source": [
        "unique_student_count['TIMES HELPED'].describe()"
      ],
      "metadata": {
        "colab": {
          "base_uri": "https://localhost:8080/"
        },
        "id": "L5FIZeMYZUWH",
        "outputId": "20d0fb85-bfee-4259-d147-19afee23221c"
      },
      "execution_count": null,
      "outputs": [
        {
          "output_type": "execute_result",
          "data": {
            "text/plain": [
              "count    61.000000\n",
              "mean      2.327869\n",
              "std       2.142594\n",
              "min       0.000000\n",
              "25%       1.000000\n",
              "50%       2.000000\n",
              "75%       3.000000\n",
              "max      12.000000\n",
              "Name: TIMES HELPED, dtype: float64"
            ]
          },
          "metadata": {},
          "execution_count": 31
        }
      ]
    },
    {
      "cell_type": "code",
      "source": [
        "unique_student_count = unique_student_count[unique_student_count['TIMES HELPED']>0]\n",
        "unique_student_count['TIMES HELPED'].describe()"
      ],
      "metadata": {
        "colab": {
          "base_uri": "https://localhost:8080/"
        },
        "id": "PupekO23c7BT",
        "outputId": "f9917b71-118e-4a51-8291-39fc36324a8e"
      },
      "execution_count": null,
      "outputs": [
        {
          "output_type": "execute_result",
          "data": {
            "text/plain": [
              "count    60.000000\n",
              "mean      2.366667\n",
              "std       2.138958\n",
              "min       1.000000\n",
              "25%       1.000000\n",
              "50%       2.000000\n",
              "75%       3.000000\n",
              "max      12.000000\n",
              "Name: TIMES HELPED, dtype: float64"
            ]
          },
          "metadata": {},
          "execution_count": 32
        }
      ]
    },
    {
      "cell_type": "code",
      "source": [
        "unique_student_count['TIMES HELPED'].median()"
      ],
      "metadata": {
        "colab": {
          "base_uri": "https://localhost:8080/"
        },
        "id": "gRCptW7SZYYo",
        "outputId": "e5f7e387-1222-46bf-a600-eae8dc9a782d"
      },
      "execution_count": null,
      "outputs": [
        {
          "output_type": "execute_result",
          "data": {
            "text/plain": [
              "2.0"
            ]
          },
          "metadata": {},
          "execution_count": 33
        }
      ]
    },
    {
      "cell_type": "code",
      "source": [
        "unique_student_count['TIMES HELPED'].value_counts()"
      ],
      "metadata": {
        "colab": {
          "base_uri": "https://localhost:8080/"
        },
        "id": "aGO1pyEHdXZp",
        "outputId": "294ec0a7-7b45-4e15-dcd5-8fd226e7d3f8"
      },
      "execution_count": null,
      "outputs": [
        {
          "output_type": "execute_result",
          "data": {
            "text/plain": [
              "1     26\n",
              "2     18\n",
              "3      7\n",
              "8      3\n",
              "4      3\n",
              "6      1\n",
              "12     1\n",
              "5      1\n",
              "Name: TIMES HELPED, dtype: int64"
            ]
          },
          "metadata": {},
          "execution_count": 34
        }
      ]
    },
    {
      "cell_type": "code",
      "source": [
        "unique_student_count['TIMES HELPED'].value_counts().index"
      ],
      "metadata": {
        "colab": {
          "base_uri": "https://localhost:8080/"
        },
        "id": "6qOSTSpZfaTh",
        "outputId": "76e3942a-ffde-4194-e2a8-7cb69f23910f"
      },
      "execution_count": null,
      "outputs": [
        {
          "output_type": "execute_result",
          "data": {
            "text/plain": [
              "Int64Index([1, 2, 3, 8, 4, 6, 12, 5], dtype='int64')"
            ]
          },
          "metadata": {},
          "execution_count": 35
        }
      ]
    },
    {
      "cell_type": "code",
      "source": [
        "unique_student_count['TIMES HELPED'].unique()"
      ],
      "metadata": {
        "colab": {
          "base_uri": "https://localhost:8080/"
        },
        "id": "9TfR3vOhdeCG",
        "outputId": "18e18221-1274-427f-cc57-44bdf19eab81"
      },
      "execution_count": null,
      "outputs": [
        {
          "output_type": "execute_result",
          "data": {
            "text/plain": [
              "array([ 6,  1,  8,  2,  3, 12,  4,  5])"
            ]
          },
          "metadata": {},
          "execution_count": 36
        }
      ]
    },
    {
      "cell_type": "code",
      "source": [
        "sns.boxplot(data= unique_student_count, x='TIMES HELPED')\n",
        "max_x = unique_student_count['TIMES HELPED'].max()\n",
        "plt.xlim(0, (max_x + 1))\n",
        "plt.xlabel('Distribution of Frequency TA Met with a Student During the Program', fontsize = 14);\n",
        "print(unique_student_count['TIMES HELPED'].describe())"
      ],
      "metadata": {
        "colab": {
          "base_uri": "https://localhost:8080/",
          "height": 719
        },
        "id": "Lft6rjF2Xt9w",
        "outputId": "ba46943d-9e0d-46da-f1dc-df7c2fb163cf"
      },
      "execution_count": null,
      "outputs": [
        {
          "output_type": "stream",
          "name": "stdout",
          "text": [
            "count    60.000000\n",
            "mean      2.366667\n",
            "std       2.138958\n",
            "min       1.000000\n",
            "25%       1.000000\n",
            "50%       2.000000\n",
            "75%       3.000000\n",
            "max      12.000000\n",
            "Name: TIMES HELPED, dtype: float64\n"
          ]
        },
        {
          "output_type": "display_data",
          "data": {
            "text/plain": [
              "<Figure size 792x648 with 1 Axes>"
            ],
            "image/png": "[encoded data removed]"
          },
          "metadata": {}
        }
      ]
    },
    {
      "cell_type": "code",
      "source": [
        "counts = unique_student_count['TIMES HELPED'].value_counts()\n",
        "\n",
        "ax  = sns.barplot(x = counts.index, \n",
        "            y = counts.values,\n",
        "            order= counts.index.sort_values())\n",
        "\n",
        "ax.bar_label(ax.containers[0])\n",
        "\n",
        "ax.get_yaxis().set_visible(False)#hide y-axis \n",
        "plt.xticks(fontsize = 15, rotation = 0)\n",
        "plt.title(\"Count of Individual Students' Request(s) for Help During Duration of the Program\", fontsize =16)\n",
        "plt.xlabel('Frequency TA Met with a Unique Student', fontsize = 16);"
      ],
      "metadata": {
        "colab": {
          "base_uri": "https://localhost:8080/",
          "height": 578
        },
        "id": "OCBFrFAme6vr",
        "outputId": "85b438d8-b9dc-42e6-90dc-140c78e93d1d"
      },
      "execution_count": null,
      "outputs": [
        {
          "output_type": "display_data",
          "data": {
            "text/plain": [
              "<Figure size 792x648 with 1 Axes>"
            ],
            "image/png": "[encoded data removed]"
          },
          "metadata": {}
        }
      ]
    },
    {
      "cell_type": "markdown",
      "source": [
        "# [Model in a separate Colab](https://colab.research.google.com/drive/1yS7gVKGAI_-aj19BhInKspsJRKMtvmMt?usp=sharing)"
      ],
      "metadata": {
        "id": "ILp2DJjSGX08"
      }
    }
  ]
}